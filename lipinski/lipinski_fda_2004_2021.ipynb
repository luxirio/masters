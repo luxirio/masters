{
 "cells": [
  {
   "cell_type": "markdown",
   "id": "88eab2e4",
   "metadata": {},
   "source": [
    "## Lipinski's Rule of Five (Ro5) - FDA approved drugs (2004 - 2021)\n",
    "\n",
    "This is an exercise to assess the validity of the Lipinski's Rule of Five (Ro5) of approved drugs (2004-2021). It's the first step of the Exploratory Data Analysis (EDA) and other further analysis along the way. This piece of code was done with the help of @arturcgs"
   ]
  },
  {
   "cell_type": "markdown",
   "id": "1c4b810e",
   "metadata": {},
   "source": [
    "We begin by setting up the enviroment (teachopencadd) and <b>importing libraries</b> used for the analysis"
   ]
  },
  {
   "cell_type": "code",
   "execution_count": 27,
   "id": "abfa7132",
   "metadata": {},
   "outputs": [],
   "source": [
    "#importing databases\n",
    "from rdkit import Chem\n",
    "from rdkit.Chem import Draw\n",
    "from rdkit.Chem.Draw import IPythonConsole\n",
    "from rdkit.Chem import PandasTools\n",
    "import pandas as pd\n",
    "import numpy as np\n",
    "import re"
   ]
  },
  {
   "cell_type": "markdown",
   "id": "60380245",
   "metadata": {},
   "source": [
    "After importing the libraries we begin to treat the datasets:"
   ]
  },
  {
   "cell_type": "markdown",
   "id": "a9efaa04",
   "metadata": {},
   "source": [
    "### 1) Data retrieved from Drug Bank (manual downloaded)"
   ]
  },
  {
   "cell_type": "markdown",
   "id": "7bfb3d78",
   "metadata": {},
   "source": [
    "#### Firstly, after retrieving the dataset of approved drugs, manually downloaded at the drugbank servers, we treat the dataset\n",
    "We can both work with the SDF file or read a ready-to-work csv. For this piece of code, we use the csv file. \n",
    "\n",
    "After reading the file, we select only useful columns and select the \"Name\" column, transforming the drugs' names to lower case making it easier to work if we need to compare the names."
   ]
  },
  {
   "cell_type": "code",
   "execution_count": 37,
   "id": "ba55f795",
   "metadata": {},
   "outputs": [
    {
     "name": "stdout",
     "output_type": "stream",
     "text": [
      "(2715,)\n",
      "(2715, 4)\n"
     ]
    }
   ],
   "source": [
    "## Working with the csv database\n",
    "approved_drugs = pd.read_csv(\"structure links.csv\")\n",
    "approved_drugs.columns #checking colum names\n",
    "\n",
    "approved_drugs = approved_drugs[[\"Name\", \"DrugBank ID\", \"Drug Groups\", \"SMILES\"]] #selecting only useful columns\n",
    "approved_drugs.head(5)\n",
    "\n",
    "#letting the drug names be all LOWER\n",
    "approved_drugs[\"Name\"] = approved_drugs[\"Name\"].str.lower() \n",
    "approved_drugs[\"active\"] = approved_drugs[\"Name\"]\n",
    "\n",
    "approved_drugs = approved_drugs.drop(\"Name\", axis = 1) #removing the \"name variable\"\n",
    "approved_drugs.head(5)\n",
    "\n",
    "print(approved_drugs[\"active\"].shape)\n",
    "print(approved_drugs.drop_duplicates(subset = \"active\", keep = \"first\").shape) #we dont have any duplicates"
   ]
  },
  {
   "cell_type": "code",
   "execution_count": 38,
   "id": "aa1720e2",
   "metadata": {
    "collapsed": true
   },
   "outputs": [
    {
     "data": {
      "text/plain": [
       "'\"approved_molecules_raw = Chem.SDMolSupplier(\"open structures.sdf\")\\napproved_molecules = [molecule for molecule in approved_molecules_raw]\\n\\n#transforming sdf files into dataframes\\nframe = PandasTools.LoadSDF(\"open structures.sdf\",smilesName=\\'SMILES\\',molColName=\\'Molecule\\',\\n           includeFingerprints=True)\\n\\n#checking the name of columns\\nframe.columns'"
      ]
     },
     "execution_count": 38,
     "metadata": {},
     "output_type": "execute_result"
    }
   ],
   "source": [
    "## Working with SDF FILE (Optional)\n",
    "#handling sdf file\n",
    "\"\"\"\"approved_molecules_raw = Chem.SDMolSupplier(\"open structures.sdf\")\n",
    "approved_molecules = [molecule for molecule in approved_molecules_raw]\n",
    "\n",
    "#transforming sdf files into dataframes\n",
    "frame = PandasTools.LoadSDF(\"open structures.sdf\",smilesName='SMILES',molColName='Molecule',\n",
    "           includeFingerprints=True)\n",
    "\n",
    "#checking the name of columns\n",
    "frame.columns\"\"\""
   ]
  },
  {
   "cell_type": "markdown",
   "id": "53681e44",
   "metadata": {},
   "source": [
    "### 2) Data retrieved from FDA acess data (manual downloaded)"
   ]
  },
  {
   "cell_type": "markdown",
   "id": "d1a0b59f",
   "metadata": {},
   "source": [
    "In order to assess the Ro5 validity we need to see which drugs were approved between 2004 (Lipinski's rule first publication) and 2021. Unfortunately the DrugBank dataset do not include the approval year for each molecule. \n",
    "\n",
    "A dataset retrieved from https://www.fda.gov/drugs/drug-approvals-and-databases/compilation-cder-new-molecular-entity-nme-drug-and-new-biologic-approvals contains the New Chemical and Biological Entities approved by year. We can use the information to gather the SMILES.\n",
    "\n",
    "After downloading manually the dataset, we begin to treat and manipulate it for further data analysis."
   ]
  },
  {
   "cell_type": "code",
   "execution_count": 124,
   "id": "5e2c990a",
   "metadata": {},
   "outputs": [
    {
     "data": {
      "text/html": [
       "<div>\n",
       "<style scoped>\n",
       "    .dataframe tbody tr th:only-of-type {\n",
       "        vertical-align: middle;\n",
       "    }\n",
       "\n",
       "    .dataframe tbody tr th {\n",
       "        vertical-align: top;\n",
       "    }\n",
       "\n",
       "    .dataframe thead th {\n",
       "        text-align: right;\n",
       "    }\n",
       "</style>\n",
       "<table border=\"1\" class=\"dataframe\">\n",
       "  <thead>\n",
       "    <tr style=\"text-align: right;\">\n",
       "      <th></th>\n",
       "      <th>active_ingredient_moiety</th>\n",
       "      <th>nda_bla</th>\n",
       "      <th>approval_year</th>\n",
       "    </tr>\n",
       "  </thead>\n",
       "  <tbody>\n",
       "    <tr>\n",
       "      <th>0</th>\n",
       "      <td>tiotropium bromide</td>\n",
       "      <td>NDA</td>\n",
       "      <td>2004</td>\n",
       "    </tr>\n",
       "    <tr>\n",
       "      <th>1</th>\n",
       "      <td>pemetrexed disodium</td>\n",
       "      <td>NDA</td>\n",
       "      <td>2004</td>\n",
       "    </tr>\n",
       "    <tr>\n",
       "      <th>2</th>\n",
       "      <td>cinacalcet hydrochloride</td>\n",
       "      <td>NDA</td>\n",
       "      <td>2004</td>\n",
       "    </tr>\n",
       "    <tr>\n",
       "      <th>3</th>\n",
       "      <td>telithromycin</td>\n",
       "      <td>NDA</td>\n",
       "      <td>2004</td>\n",
       "    </tr>\n",
       "    <tr>\n",
       "      <th>4</th>\n",
       "      <td>human secretin</td>\n",
       "      <td>NDA</td>\n",
       "      <td>2004</td>\n",
       "    </tr>\n",
       "  </tbody>\n",
       "</table>\n",
       "</div>"
      ],
      "text/plain": [
       "   active_ingredient_moiety nda_bla  approval_year\n",
       "0        tiotropium bromide     NDA           2004\n",
       "1       pemetrexed disodium     NDA           2004\n",
       "2  cinacalcet hydrochloride     NDA           2004\n",
       "3             telithromycin     NDA           2004\n",
       "4            human secretin     NDA           2004"
      ]
     },
     "execution_count": 124,
     "metadata": {},
     "output_type": "execute_result"
    }
   ],
   "source": [
    "# This dataset was retrieved from: \n",
    "# https://www.fda.gov/drugs/drug-approvals-and-databases/compilation-cder-new-molecular-entity-nme-drug-and-new-biologic-approvals\n",
    "fda_total = pd.read_excel(\"NME_NBA_1985_2021_total.xlsx\")\n",
    "fda_total = fda_total[[\"Active Ingredient/Moiety\", \"NDA/BLA\", \"Approval Year\"]]\n",
    "\n",
    "# filtering for further lipinski analysis YEAR > 2004 ANN ONLY NDA (NOT BIOLOGICAL)\n",
    "fda_lipinski  = fda_total.loc[(fda_total[\"NDA/BLA\"] == \"NDA\") & (fda_total[\"Approval Year\"] >= 2004)].reset_index(drop = True)\n",
    "\n",
    "# cleaning the names of the dataset\n",
    "fda_lipinski.rename(columns={'Active Ingredient/Moiety': 'active_ingredient_moiety', \n",
    "                             'NDA/BLA': 'nda_bla', 'Approval Year': 'approval_year'}, inplace=True) #renaming columns\n",
    "\n",
    "# one thing worth mentioning is the salt is always after the active ingredient (almost always) so lets separate the two columns\n",
    "fda_lipinski.head(5)"
   ]
  },
  {
   "cell_type": "markdown",
   "id": "9b024cd4",
   "metadata": {},
   "source": [
    "We can observe above that the dataset contains basically the active ingredient, the nda or bla (biological) and the approval year. \n",
    "<b>We select all the active ingredients that meets the criteria: NDA (not biological) and approval year (2004-2021).</b>"
   ]
  },
  {
   "cell_type": "markdown",
   "id": "c5d5249c",
   "metadata": {},
   "source": [
    "We are left with TWO CHOICES: Merging the DrugBank dataset with the FDA approved using the active ingredient as key merger OR we can build a piece of code that searches the SMILE using the active name. This will be further down the process.\n",
    "\n",
    "If we want to search the SMILE using the name we must, first of all, separate the salt of the proper active active name. "
   ]
  },
  {
   "cell_type": "code",
   "execution_count": 125,
   "id": "a21eb50c",
   "metadata": {},
   "outputs": [
    {
     "name": "stdout",
     "output_type": "stream",
     "text": [
      "(477, 5)\n"
     ]
    }
   ],
   "source": [
    "# we split the active ingredients into active and respective salt\n",
    "fda_lipinski[[\"active\", \"salt\"]] = fda_lipinski[\"active_ingredient_moiety\"].str.split(expand = True, n = 1)\n",
    "print(fda_lipinski.shape) #so we have 477 approved drugs in this period (2021-2004) according to FDA database"
   ]
  },
  {
   "cell_type": "markdown",
   "id": "c0f1daa9",
   "metadata": {},
   "source": [
    "After removing the duplicates, we are left with 471 non-duplicates. We also noticed one thing: some of the rows have lots of active ingredients and have <b>\"packaged together\"</b> we need to <b>REMOVE</b> them."
   ]
  },
  {
   "cell_type": "markdown",
   "id": "da063b8d",
   "metadata": {},
   "source": [
    "### 2.1) Searching SMILES through active name"
   ]
  },
  {
   "cell_type": "markdown",
   "id": "bceace3a",
   "metadata": {},
   "source": [
    "I wrote the dataframe to csv and explored it in excel in order to get a feeling of what is going on.. so we found that we need:\n",
    "1) to strip the name from the salts<p>\n",
    "2) to remove the radioactives (mainly with numbers like F 18, etc)<p>\n",
    "3) to remove the ASSOCIATIONS (the comma is present on these rows and sometimes the expression \"(co-packaged)\")"
   ]
  },
  {
   "cell_type": "code",
   "execution_count": 126,
   "id": "33decdee",
   "metadata": {},
   "outputs": [],
   "source": [
    "# fda_lipinski.to_csv(\"fda_lipinski_raw.csv\") \n",
    "# We wrote the dataframe to csv in order to get a feeling of what is going on.. so we found that we need:\n",
    "# 1) to remove the salts\n",
    "# 2) to remove the radioactives (mainly with numbers like F 18, etc)\n",
    "# 3) to remove the ASSOCIATIONS (the comma is present on these rows and sometimes the expression \"(co-packaged)\")\n",
    "# 4) drop the duplicates!"
   ]
  },
  {
   "cell_type": "code",
   "execution_count": 127,
   "id": "88ee43c0",
   "metadata": {},
   "outputs": [
    {
     "name": "stdout",
     "output_type": "stream",
     "text": [
      "(457, 5)\n",
      "(422, 5)\n"
     ]
    },
    {
     "data": {
      "text/plain": [
       "(422, 5)"
      ]
     },
     "execution_count": 127,
     "metadata": {},
     "output_type": "execute_result"
    }
   ],
   "source": [
    "#first we remove the radioactive structures\n",
    "fda_lipinski = fda_lipinski[~fda_lipinski[\"active_ingredient_moiety\"].str.contains(r'-?\\d+')] \n",
    "print(fda_lipinski.shape)\n",
    "\n",
    "#then we remove the associations \"and & ,\"\n",
    "fda_lipinski = fda_lipinski[~fda_lipinski[\"active_ingredient_moiety\"].str.contains(\"and\")]\n",
    "fda_lipinski = fda_lipinski[~fda_lipinski[\"active_ingredient_moiety\"].str.contains(\",\")]\n",
    "fda_lipinski = fda_lipinski[~fda_lipinski[\"active_ingredient_moiety\"].str.contains(\"co-packaged\")]\n",
    "\n",
    "print(fda_lipinski.shape)\n",
    "\n",
    "#dropping the duplicates\n",
    "fda_lipinski.drop_duplicates().shape"
   ]
  },
  {
   "cell_type": "markdown",
   "id": "0a44fede",
   "metadata": {},
   "source": [
    "We can see that we are left with a dataframe with ~420 unique drugs. Lets see out of that how many we automatically search for the respective SMILES."
   ]
  },
  {
   "cell_type": "code",
   "execution_count": 132,
   "id": "46ad1b21",
   "metadata": {},
   "outputs": [
    {
     "data": {
      "text/html": [
       "<div>\n",
       "<style scoped>\n",
       "    .dataframe tbody tr th:only-of-type {\n",
       "        vertical-align: middle;\n",
       "    }\n",
       "\n",
       "    .dataframe tbody tr th {\n",
       "        vertical-align: top;\n",
       "    }\n",
       "\n",
       "    .dataframe thead th {\n",
       "        text-align: right;\n",
       "    }\n",
       "</style>\n",
       "<table border=\"1\" class=\"dataframe\">\n",
       "  <thead>\n",
       "    <tr style=\"text-align: right;\">\n",
       "      <th></th>\n",
       "      <th>active_ingredient_moiety</th>\n",
       "      <th>nda_bla</th>\n",
       "      <th>approval_year</th>\n",
       "      <th>active_stripped</th>\n",
       "    </tr>\n",
       "  </thead>\n",
       "  <tbody>\n",
       "    <tr>\n",
       "      <th>0</th>\n",
       "      <td>tiotropium bromide</td>\n",
       "      <td>NDA</td>\n",
       "      <td>2004</td>\n",
       "      <td>tiotropium</td>\n",
       "    </tr>\n",
       "    <tr>\n",
       "      <th>1</th>\n",
       "      <td>pemetrexed disodium</td>\n",
       "      <td>NDA</td>\n",
       "      <td>2004</td>\n",
       "      <td>pemetrexed</td>\n",
       "    </tr>\n",
       "    <tr>\n",
       "      <th>2</th>\n",
       "      <td>cinacalcet hydrochloride</td>\n",
       "      <td>NDA</td>\n",
       "      <td>2004</td>\n",
       "      <td>cinacalcet</td>\n",
       "    </tr>\n",
       "    <tr>\n",
       "      <th>3</th>\n",
       "      <td>telithromycin</td>\n",
       "      <td>NDA</td>\n",
       "      <td>2004</td>\n",
       "      <td>telithromycin</td>\n",
       "    </tr>\n",
       "  </tbody>\n",
       "</table>\n",
       "</div>"
      ],
      "text/plain": [
       "   active_ingredient_moiety nda_bla  approval_year active_stripped\n",
       "0        tiotropium bromide     NDA           2004      tiotropium\n",
       "1       pemetrexed disodium     NDA           2004      pemetrexed\n",
       "2  cinacalcet hydrochloride     NDA           2004      cinacalcet\n",
       "3             telithromycin     NDA           2004   telithromycin"
      ]
     },
     "execution_count": 132,
     "metadata": {},
     "output_type": "execute_result"
    }
   ],
   "source": [
    "# I manually created a list of salts useful to strip the names of the active drugs in the dataset:\n",
    "list_of_salts = [\"bromide\", \"hydrobromide\", \"trisodium\", \"disodium\", \"sodium\", \"chloride\",\"hydrochloride\", \n",
    "                 \"dihydrochloride\",  \"acetate\", \"phosphate\", \"diphosphate\", \"triphosphate\", \"monophosphate\", \"hexahydrate\", \n",
    "                 \"succinate\", \"mesylate\", \"dimesylate\", \"tosylate\", \"fumarate\", \"oxalate\", \"besilate\", \"mepesuccinate\"]\n",
    "\n",
    "\n",
    "# THIS PART OF THE CODE IS AWESOME, THE SOLUTION IS FROM \n",
    "# https://discuss.dizzycoding.com/python-remove-stop-words-from-pandas-dataframe/\n",
    "# It basically remove anything on the \"active_ingredient_moiety\"\n",
    "fda_lipinski['active_stripped'] = fda_lipinski['active_ingredient_moiety'].apply(lambda x: ' '.join([word for word in x.split() if word not in (list_of_salts)]))\n",
    "\n",
    "\n",
    "# The database with the salt stripped from the active ingredient\n",
    "fda_lipinski = fda_lipinski[[\"active_ingredient_moiety\", \"nda_bla\", \"approval_year\", \"active_stripped\"]]\n",
    "fda_lipinski.head(4)"
   ]
  },
  {
   "cell_type": "markdown",
   "id": "6280a38f",
   "metadata": {},
   "source": [
    "### 2.1.1) Tranforming molecule active name into SMILES structure"
   ]
  },
  {
   "cell_type": "code",
   "execution_count": 134,
   "id": "ccaeae5b",
   "metadata": {},
   "outputs": [],
   "source": [
    "# This is a function we stumble upon (https://stackoverflow.com/questions/54930121/converting-molecule-name-to-smiles)\n",
    "# Importing the requested libraries\n",
    "from urllib.request import urlopen\n",
    "from urllib.parse import quote\n",
    "\n",
    "# Creating the function\n",
    "def CIRconvert(ids):\n",
    "    try:\n",
    "        url = 'http://cactus.nci.nih.gov/chemical/structure/' + quote(ids) + '/smiles'\n",
    "        ans = urlopen(url).read().decode('utf8')\n",
    "        return ans\n",
    "    except:\n",
    "        return 'Did not work'"
   ]
  },
  {
   "cell_type": "code",
   "execution_count": 162,
   "id": "dd64c957",
   "metadata": {},
   "outputs": [],
   "source": [
    "# Creating the active names list and empty list to storage the smiles gathered\n",
    "\n",
    "active_names_list  = list(fda_lipinski[\"active_stripped\"])\n",
    "smiles = []\n",
    "\n",
    "for molecule in active_names_list:\n",
    "    smiles.append(CIRconvert(molecule))"
   ]
  },
  {
   "cell_type": "code",
   "execution_count": 172,
   "id": "c6c16e30",
   "metadata": {
    "scrolled": false
   },
   "outputs": [
    {
     "data": {
      "text/plain": [
       "267"
      ]
     },
     "execution_count": 172,
     "metadata": {},
     "output_type": "execute_result"
    }
   ],
   "source": [
    "# Transforming into the list into a dataframe\n",
    "smiles_collected = {\"molecule\": active_names_list, \"smiles\": smiles}\n",
    "smiles_collected = pd.DataFrame(data = smiles_collected)\n",
    "\n",
    "# How many did not work?\n",
    "smiles_collected.loc[smiles_collected[\"smiles\"] == \"Did not work\"].count()[0]\n",
    "\n",
    "# Wow 267/422*100 =  63% did not work, unfortunately, not a very effective way of gathering the SMILES"
   ]
  },
  {
   "cell_type": "markdown",
   "id": "961316f5",
   "metadata": {},
   "source": [
    "### 2.2) Merging the DB database with FDA dataset"
   ]
  },
  {
   "cell_type": "markdown",
   "id": "6cd9d556",
   "metadata": {},
   "source": [
    "After some treatment in section 2.1, we are left with ~420 structures and now we need the SMILES of each of them.\n",
    "After trying to collect the SMILES using only the name of the active, only 47% were responsive to the \"Cactus Identifier\" (https://cactus.nci.nih.gov/chemical/structure) using the `CIRconvert function`\n",
    "\n",
    "So now, we are going to try doing some merging with the drugbank dataset of all approved drugs (~2715)"
   ]
  },
  {
   "cell_type": "code",
   "execution_count": 186,
   "id": "2ba7f28c",
   "metadata": {},
   "outputs": [
    {
     "name": "stderr",
     "output_type": "stream",
     "text": [
      "C:\\Users\\Gustavo Marques\\AppData\\Local\\Temp\\ipykernel_9452\\161823091.py:1: SettingWithCopyWarning: \n",
      "A value is trying to be set on a copy of a slice from a DataFrame\n",
      "\n",
      "See the caveats in the documentation: https://pandas.pydata.org/pandas-docs/stable/user_guide/indexing.html#returning-a-view-versus-a-copy\n",
      "  fda_lipinski.rename(columns = {\"active_stripped\": \"active\"}, inplace = True)\n"
     ]
    },
    {
     "data": {
      "text/html": [
       "<div>\n",
       "<style scoped>\n",
       "    .dataframe tbody tr th:only-of-type {\n",
       "        vertical-align: middle;\n",
       "    }\n",
       "\n",
       "    .dataframe tbody tr th {\n",
       "        vertical-align: top;\n",
       "    }\n",
       "\n",
       "    .dataframe thead th {\n",
       "        text-align: right;\n",
       "    }\n",
       "</style>\n",
       "<table border=\"1\" class=\"dataframe\">\n",
       "  <thead>\n",
       "    <tr style=\"text-align: right;\">\n",
       "      <th></th>\n",
       "      <th>active_ingredient_moiety</th>\n",
       "      <th>nda_bla</th>\n",
       "      <th>approval_year</th>\n",
       "      <th>active</th>\n",
       "    </tr>\n",
       "  </thead>\n",
       "  <tbody>\n",
       "    <tr>\n",
       "      <th>0</th>\n",
       "      <td>tiotropium bromide</td>\n",
       "      <td>NDA</td>\n",
       "      <td>2004</td>\n",
       "      <td>tiotropium</td>\n",
       "    </tr>\n",
       "    <tr>\n",
       "      <th>1</th>\n",
       "      <td>pemetrexed disodium</td>\n",
       "      <td>NDA</td>\n",
       "      <td>2004</td>\n",
       "      <td>pemetrexed</td>\n",
       "    </tr>\n",
       "    <tr>\n",
       "      <th>2</th>\n",
       "      <td>cinacalcet hydrochloride</td>\n",
       "      <td>NDA</td>\n",
       "      <td>2004</td>\n",
       "      <td>cinacalcet</td>\n",
       "    </tr>\n",
       "  </tbody>\n",
       "</table>\n",
       "</div>"
      ],
      "text/plain": [
       "   active_ingredient_moiety nda_bla  approval_year      active\n",
       "0        tiotropium bromide     NDA           2004  tiotropium\n",
       "1       pemetrexed disodium     NDA           2004  pemetrexed\n",
       "2  cinacalcet hydrochloride     NDA           2004  cinacalcet"
      ]
     },
     "execution_count": 186,
     "metadata": {},
     "output_type": "execute_result"
    }
   ],
   "source": [
    "fda_lipinski.rename(columns = {\"active_stripped\": \"active\"}, inplace = True)\n",
    "fda_lipinski.head(3)"
   ]
  },
  {
   "cell_type": "code",
   "execution_count": 178,
   "id": "322b889b",
   "metadata": {},
   "outputs": [
    {
     "data": {
      "text/html": [
       "<div>\n",
       "<style scoped>\n",
       "    .dataframe tbody tr th:only-of-type {\n",
       "        vertical-align: middle;\n",
       "    }\n",
       "\n",
       "    .dataframe tbody tr th {\n",
       "        vertical-align: top;\n",
       "    }\n",
       "\n",
       "    .dataframe thead th {\n",
       "        text-align: right;\n",
       "    }\n",
       "</style>\n",
       "<table border=\"1\" class=\"dataframe\">\n",
       "  <thead>\n",
       "    <tr style=\"text-align: right;\">\n",
       "      <th></th>\n",
       "      <th>DrugBank ID</th>\n",
       "      <th>Drug Groups</th>\n",
       "      <th>SMILES</th>\n",
       "      <th>active</th>\n",
       "    </tr>\n",
       "  </thead>\n",
       "  <tbody>\n",
       "    <tr>\n",
       "      <th>0</th>\n",
       "      <td>DB00006</td>\n",
       "      <td>approved; investigational</td>\n",
       "      <td>CC[C@H](C)[C@H](NC(=O)[C@H](CCC(O)=O)NC(=O)[C@...</td>\n",
       "      <td>bivalirudin</td>\n",
       "    </tr>\n",
       "    <tr>\n",
       "      <th>1</th>\n",
       "      <td>DB00007</td>\n",
       "      <td>approved; investigational</td>\n",
       "      <td>CCNC(=O)[C@@H]1CCCN1C(=O)[C@H](CCCNC(N)=N)NC(=...</td>\n",
       "      <td>leuprolide</td>\n",
       "    </tr>\n",
       "    <tr>\n",
       "      <th>2</th>\n",
       "      <td>DB00014</td>\n",
       "      <td>approved</td>\n",
       "      <td>CC(C)C[C@H](NC(=O)[C@@H](COC(C)(C)C)NC(=O)[C@H...</td>\n",
       "      <td>goserelin</td>\n",
       "    </tr>\n",
       "  </tbody>\n",
       "</table>\n",
       "</div>"
      ],
      "text/plain": [
       "  DrugBank ID                Drug Groups  \\\n",
       "0     DB00006  approved; investigational   \n",
       "1     DB00007  approved; investigational   \n",
       "2     DB00014                   approved   \n",
       "\n",
       "                                              SMILES       active  \n",
       "0  CC[C@H](C)[C@H](NC(=O)[C@H](CCC(O)=O)NC(=O)[C@...  bivalirudin  \n",
       "1  CCNC(=O)[C@@H]1CCCN1C(=O)[C@H](CCCNC(N)=N)NC(=...   leuprolide  \n",
       "2  CC(C)C[C@H](NC(=O)[C@@H](COC(C)(C)C)NC(=O)[C@H...    goserelin  "
      ]
     },
     "execution_count": 178,
     "metadata": {},
     "output_type": "execute_result"
    }
   ],
   "source": [
    "approved_drugs.head(3)"
   ]
  },
  {
   "cell_type": "code",
   "execution_count": 191,
   "id": "add2e2f8",
   "metadata": {},
   "outputs": [
    {
     "name": "stdout",
     "output_type": "stream",
     "text": [
      "<class 'pandas.core.frame.DataFrame'>\n",
      "Int64Index: 422 entries, 0 to 421\n",
      "Data columns (total 7 columns):\n",
      " #   Column                    Non-Null Count  Dtype \n",
      "---  ------                    --------------  ----- \n",
      " 0   active_ingredient_moiety  422 non-null    object\n",
      " 1   nda_bla                   422 non-null    object\n",
      " 2   approval_year             422 non-null    int64 \n",
      " 3   active                    422 non-null    object\n",
      " 4   DrugBank ID               377 non-null    object\n",
      " 5   Drug Groups               377 non-null    object\n",
      " 6   SMILES                    374 non-null    object\n",
      "dtypes: int64(1), object(6)\n",
      "memory usage: 26.4+ KB\n"
     ]
    }
   ],
   "source": [
    "fda_drugbank_merged = pd.merge(fda_lipinski, approved_drugs, how=\"left\", on = \"active\")\n",
    "fda_drugbank_merged.info()"
   ]
  }
 ],
 "metadata": {
  "kernelspec": {
   "display_name": "Python 3 (ipykernel)",
   "language": "python",
   "name": "python3"
  },
  "language_info": {
   "codemirror_mode": {
    "name": "ipython",
    "version": 3
   },
   "file_extension": ".py",
   "mimetype": "text/x-python",
   "name": "python",
   "nbconvert_exporter": "python",
   "pygments_lexer": "ipython3",
   "version": "3.8.13"
  }
 },
 "nbformat": 4,
 "nbformat_minor": 5
}
