{
 "cells": [
  {
   "cell_type": "markdown",
   "id": "2bc88012",
   "metadata": {},
   "source": [
    "<h2>Coleta de dados - Mestrado</h2>\n",
    "\n",
    "Esse código é responsável por coletar ligantes de um determinado alvo a partir do API do ChEMBL.\n",
    "\n",
    "Começamos importando as bibliotecas:"
   ]
  },
  {
   "cell_type": "code",
   "execution_count": 156,
   "id": "0b07d0d0",
   "metadata": {},
   "outputs": [],
   "source": [
    "import math\n",
    "from pathlib import Path\n",
    "from zipfile import ZipFile\n",
    "from tempfile import TemporaryDirectory\n",
    "\n",
    "import numpy as np\n",
    "import pandas as pd\n",
    "from rdkit.Chem import PandasTools\n",
    "from chembl_webresource_client.new_client import new_client\n",
    "from tqdm.auto import tqdm"
   ]
  },
  {
   "cell_type": "markdown",
   "id": "c71df221",
   "metadata": {},
   "source": [
    "Na sequência, setamos o caminho para salvar os arquivos"
   ]
  },
  {
   "cell_type": "code",
   "execution_count": 157,
   "id": "21e71800",
   "metadata": {},
   "outputs": [
    {
     "data": {
      "text/plain": [
       "'3.10.4'"
      ]
     },
     "execution_count": 157,
     "metadata": {},
     "output_type": "execute_result"
    }
   ],
   "source": [
    "HERE = Path(_dh[-1])\n",
    "DATA = HERE / \"data\"\n",
    "\n",
    "#checamos a versão do python utilizada para rodar os códigos\n",
    "from platform import python_version\n",
    "python_version()"
   ]
  },
  {
   "cell_type": "code",
   "execution_count": 158,
   "id": "36a960e2",
   "metadata": {},
   "outputs": [],
   "source": [
    "#Criando os resource objects para o acesso ao API\n",
    "targets_api = new_client.target\n",
    "compounds_api = new_client.molecule\n",
    "bioactivities_api = new_client.activity"
   ]
  },
  {
   "cell_type": "code",
   "execution_count": 159,
   "id": "24b650ea",
   "metadata": {},
   "outputs": [],
   "source": [
    "type(targets_api)\n",
    "uniprot_id = \"P13922\""
   ]
  },
  {
   "cell_type": "markdown",
   "id": "9279490e",
   "metadata": {},
   "source": [
    "Primeiro, pegamos a <b>UniProt ID</b> do alvo de interesse, nesse caso vamos começar utilizando a DHFR-TS que é a \"P13922\"\n",
    "Coletamos numa variável (uniprot_id) e coletamos os alvos na variável \"targets\""
   ]
  },
  {
   "cell_type": "code",
   "execution_count": 107,
   "id": "e22eb4ee",
   "metadata": {},
   "outputs": [
    {
     "name": "stdout",
     "output_type": "stream",
     "text": [
      "O tipo do alvo é \"<class 'chembl_webresource_client.query_set.QuerySet'>\"\n"
     ]
    }
   ],
   "source": [
    "# Get target information from ChEMBL but restrict it to specified values only\n",
    "targets = targets_api.get(target_components__accession=uniprot_id).only(\n",
    "    \"target_chembl_id\", \"organism\", \"pref_name\", \"target_type\"\n",
    ")\n",
    "print(f'O tipo do alvo é \"{type(targets)}\"') #essa resposta devera ser chembl_webresource_client.query_set.QuerySet"
   ]
  },
  {
   "cell_type": "markdown",
   "id": "0b02a2f8",
   "metadata": {},
   "source": [
    "Os resultados do <i>query</i> ficam armazenados na variavel \"targets\" e os resultados não são reconhecidos até usarmos o pandas para buscá-los."
   ]
  },
  {
   "cell_type": "code",
   "execution_count": 108,
   "id": "28f717ec",
   "metadata": {},
   "outputs": [
    {
     "data": {
      "text/html": [
       "<div>\n",
       "<style scoped>\n",
       "    .dataframe tbody tr th:only-of-type {\n",
       "        vertical-align: middle;\n",
       "    }\n",
       "\n",
       "    .dataframe tbody tr th {\n",
       "        vertical-align: top;\n",
       "    }\n",
       "\n",
       "    .dataframe thead th {\n",
       "        text-align: right;\n",
       "    }\n",
       "</style>\n",
       "<table border=\"1\" class=\"dataframe\">\n",
       "  <thead>\n",
       "    <tr style=\"text-align: right;\">\n",
       "      <th></th>\n",
       "      <th>organism</th>\n",
       "      <th>pref_name</th>\n",
       "      <th>target_chembl_id</th>\n",
       "      <th>target_type</th>\n",
       "    </tr>\n",
       "  </thead>\n",
       "  <tbody>\n",
       "    <tr>\n",
       "      <th>0</th>\n",
       "      <td>Plasmodium falciparum K1</td>\n",
       "      <td>Dihydrofolate reductase</td>\n",
       "      <td>CHEMBL1939</td>\n",
       "      <td>SINGLE PROTEIN</td>\n",
       "    </tr>\n",
       "    <tr>\n",
       "      <th>1</th>\n",
       "      <td>Plasmodium falciparum K1</td>\n",
       "      <td>Dihydrofolate reductase</td>\n",
       "      <td>CHEMBL1939</td>\n",
       "      <td>SINGLE PROTEIN</td>\n",
       "    </tr>\n",
       "  </tbody>\n",
       "</table>\n",
       "</div>"
      ],
      "text/plain": [
       "                   organism                pref_name target_chembl_id  \\\n",
       "0  Plasmodium falciparum K1  Dihydrofolate reductase       CHEMBL1939   \n",
       "1  Plasmodium falciparum K1  Dihydrofolate reductase       CHEMBL1939   \n",
       "\n",
       "      target_type  \n",
       "0  SINGLE PROTEIN  \n",
       "1  SINGLE PROTEIN  "
      ]
     },
     "execution_count": 108,
     "metadata": {},
     "output_type": "execute_result"
    }
   ],
   "source": [
    "targets = pd.DataFrame.from_records(targets)\n",
    "targets"
   ]
  },
  {
   "cell_type": "markdown",
   "id": "688cae30",
   "metadata": {},
   "source": [
    "Selecionamos apenas a primeira linha da tabela acima. Na verdade, nesse caso tanto faz pois o target_chembl_id é o mesmo para ambas as linhas."
   ]
  },
  {
   "cell_type": "code",
   "execution_count": 109,
   "id": "bff2d170",
   "metadata": {},
   "outputs": [],
   "source": [
    "target = targets.iloc[1]"
   ]
  },
  {
   "cell_type": "code",
   "execution_count": 110,
   "id": "6a3e8446",
   "metadata": {},
   "outputs": [
    {
     "name": "stdout",
     "output_type": "stream",
     "text": [
      "O alvo ChEMBL ID é CHEMBL1939\n"
     ]
    }
   ],
   "source": [
    "chembl_id = target.target_chembl_id #retiramos o chembl_id para filtrarmos as moleculas e atividades biologicas relacionadas\n",
    "print(f\"O alvo ChEMBL ID é {chembl_id}\") \n",
    "# checamos o ID do alvo no ChEMBL"
   ]
  },
  {
   "cell_type": "markdown",
   "id": "ae4ba837",
   "metadata": {},
   "source": [
    "---\n",
    "<h3>Baixando as atividades biológicas:</h3>\n",
    "\n",
    "Em sequência, baixamos as atividades biológicas e filtramos apenas os valores de Ki presentes;"
   ]
  },
  {
   "cell_type": "code",
   "execution_count": 134,
   "id": "371c9cd9",
   "metadata": {},
   "outputs": [
    {
     "name": "stdout",
     "output_type": "stream",
     "text": [
      "Length and type of bioactivities object: 716, <class 'chembl_webresource_client.query_set.QuerySet'>\n"
     ]
    }
   ],
   "source": [
    "bioactivities = bioactivities_api.filter(target_chembl_id=chembl_id, type=\"Ki\", relation=\"=\", assay_type=\"B\").only(\n",
    "    \"activity_id\", #o tipo de atividade\n",
    "    \"assay_chembl_id\",#o numero do ensaio relacionado\n",
    "    \"assay_description\",#descricao do ensaio relacionado\n",
    "    \"assay_type\", #tipo de ensaio\n",
    "    \"molecule_chembl_id\", #id da molecula\n",
    "    \"type\", #tipo\n",
    "    \"standard_units\", #unidades\n",
    "    \"relation\", #relacao\n",
    "    \"standard_value\",#valor padronizado\n",
    "    \"target_chembl_id\", #id chembl do alvo\n",
    "    \"target_organism\", #organismo alvo\n",
    ")\n",
    "print(f\"Length and type of bioactivities object: {len(bioactivities)}, {type(bioactivities)}\")"
   ]
  },
  {
   "cell_type": "markdown",
   "id": "cc78a6af",
   "metadata": {},
   "source": [
    "Como o objeto é uma lista encadeada, selecionamos, por fim apenas o dataframe contido no primeiro elemento."
   ]
  },
  {
   "cell_type": "code",
   "execution_count": 135,
   "id": "64b96d65",
   "metadata": {},
   "outputs": [
    {
     "name": "stdout",
     "output_type": "stream",
     "text": [
      "Length and type of first element: 13, <class 'dict'>\n"
     ]
    },
    {
     "data": {
      "text/plain": [
       "''"
      ]
     },
     "execution_count": 135,
     "metadata": {},
     "output_type": "execute_result"
    }
   ],
   "source": [
    "print(f\"Length and type of first element: {len(bioactivities[0])}, {type(bioactivities[0])}\")\n",
    "bioactivities[0] #como o objeto é uma lista encadeada, selecionamos apenas o dataframe contido no primeiro elemento\n",
    ";"
   ]
  },
  {
   "cell_type": "markdown",
   "id": "6f552714",
   "metadata": {},
   "source": [
    "<h3>Transformação em dataframe:</h3>\n",
    "\n",
    "Para trabalharmos da melhor maneira possível com os dados, assim como no R, transformamos a lista encadeada em um dataframe usando a funcao <b>pd.Dataframe.from_records</b>"
   ]
  },
  {
   "cell_type": "code",
   "execution_count": 136,
   "id": "ebacdf22",
   "metadata": {},
   "outputs": [
    {
     "name": "stdout",
     "output_type": "stream",
     "text": [
      "DataFrame shape: (717, 13)\n"
     ]
    },
    {
     "data": {
      "text/html": [
       "<div>\n",
       "<style scoped>\n",
       "    .dataframe tbody tr th:only-of-type {\n",
       "        vertical-align: middle;\n",
       "    }\n",
       "\n",
       "    .dataframe tbody tr th {\n",
       "        vertical-align: top;\n",
       "    }\n",
       "\n",
       "    .dataframe thead th {\n",
       "        text-align: right;\n",
       "    }\n",
       "</style>\n",
       "<table border=\"1\" class=\"dataframe\">\n",
       "  <thead>\n",
       "    <tr style=\"text-align: right;\">\n",
       "      <th></th>\n",
       "      <th>activity_id</th>\n",
       "      <th>assay_chembl_id</th>\n",
       "      <th>assay_description</th>\n",
       "      <th>assay_type</th>\n",
       "      <th>molecule_chembl_id</th>\n",
       "      <th>relation</th>\n",
       "      <th>standard_units</th>\n",
       "      <th>standard_value</th>\n",
       "      <th>target_chembl_id</th>\n",
       "      <th>target_organism</th>\n",
       "      <th>type</th>\n",
       "      <th>units</th>\n",
       "      <th>value</th>\n",
       "    </tr>\n",
       "  </thead>\n",
       "  <tbody>\n",
       "    <tr>\n",
       "      <th>0</th>\n",
       "      <td>185071</td>\n",
       "      <td>CHEMBL811761</td>\n",
       "      <td>Binding affinity was evaluated as inhibition o...</td>\n",
       "      <td>B</td>\n",
       "      <td>CHEMBL2364573</td>\n",
       "      <td>=</td>\n",
       "      <td>nM</td>\n",
       "      <td>4.7</td>\n",
       "      <td>CHEMBL1939</td>\n",
       "      <td>Plasmodium falciparum K1</td>\n",
       "      <td>Ki</td>\n",
       "      <td>nM</td>\n",
       "      <td>4.7</td>\n",
       "    </tr>\n",
       "    <tr>\n",
       "      <th>1</th>\n",
       "      <td>185071</td>\n",
       "      <td>CHEMBL811761</td>\n",
       "      <td>Binding affinity was evaluated as inhibition o...</td>\n",
       "      <td>B</td>\n",
       "      <td>CHEMBL2364573</td>\n",
       "      <td>=</td>\n",
       "      <td>nM</td>\n",
       "      <td>4.7</td>\n",
       "      <td>CHEMBL1939</td>\n",
       "      <td>Plasmodium falciparum K1</td>\n",
       "      <td>Ki</td>\n",
       "      <td>nM</td>\n",
       "      <td>4.7</td>\n",
       "    </tr>\n",
       "    <tr>\n",
       "      <th>2</th>\n",
       "      <td>185072</td>\n",
       "      <td>CHEMBL811759</td>\n",
       "      <td>Binding affinity was evaluated as inhibition o...</td>\n",
       "      <td>B</td>\n",
       "      <td>CHEMBL2364573</td>\n",
       "      <td>=</td>\n",
       "      <td>nM</td>\n",
       "      <td>14.5</td>\n",
       "      <td>CHEMBL1939</td>\n",
       "      <td>Plasmodium falciparum K1</td>\n",
       "      <td>Ki</td>\n",
       "      <td>nM</td>\n",
       "      <td>14.5</td>\n",
       "    </tr>\n",
       "    <tr>\n",
       "      <th>3</th>\n",
       "      <td>187525</td>\n",
       "      <td>CHEMBL821379</td>\n",
       "      <td>Inhibitory activity against wild-type dihydrof...</td>\n",
       "      <td>B</td>\n",
       "      <td>CHEMBL324775</td>\n",
       "      <td>=</td>\n",
       "      <td>nM</td>\n",
       "      <td>3.1</td>\n",
       "      <td>CHEMBL1939</td>\n",
       "      <td>Plasmodium falciparum K1</td>\n",
       "      <td>Ki</td>\n",
       "      <td>nM</td>\n",
       "      <td>3.1</td>\n",
       "    </tr>\n",
       "    <tr>\n",
       "      <th>4</th>\n",
       "      <td>187527</td>\n",
       "      <td>CHEMBL668412</td>\n",
       "      <td>Inhibitory activity against double mutant dihy...</td>\n",
       "      <td>B</td>\n",
       "      <td>CHEMBL324775</td>\n",
       "      <td>=</td>\n",
       "      <td>nM</td>\n",
       "      <td>103.5</td>\n",
       "      <td>CHEMBL1939</td>\n",
       "      <td>Plasmodium falciparum K1</td>\n",
       "      <td>Ki</td>\n",
       "      <td>nM</td>\n",
       "      <td>103.5</td>\n",
       "    </tr>\n",
       "  </tbody>\n",
       "</table>\n",
       "</div>"
      ],
      "text/plain": [
       "   activity_id assay_chembl_id  \\\n",
       "0       185071    CHEMBL811761   \n",
       "1       185071    CHEMBL811761   \n",
       "2       185072    CHEMBL811759   \n",
       "3       187525    CHEMBL821379   \n",
       "4       187527    CHEMBL668412   \n",
       "\n",
       "                                   assay_description assay_type  \\\n",
       "0  Binding affinity was evaluated as inhibition o...          B   \n",
       "1  Binding affinity was evaluated as inhibition o...          B   \n",
       "2  Binding affinity was evaluated as inhibition o...          B   \n",
       "3  Inhibitory activity against wild-type dihydrof...          B   \n",
       "4  Inhibitory activity against double mutant dihy...          B   \n",
       "\n",
       "  molecule_chembl_id relation standard_units standard_value target_chembl_id  \\\n",
       "0      CHEMBL2364573        =             nM            4.7       CHEMBL1939   \n",
       "1      CHEMBL2364573        =             nM            4.7       CHEMBL1939   \n",
       "2      CHEMBL2364573        =             nM           14.5       CHEMBL1939   \n",
       "3       CHEMBL324775        =             nM            3.1       CHEMBL1939   \n",
       "4       CHEMBL324775        =             nM          103.5       CHEMBL1939   \n",
       "\n",
       "            target_organism type units  value  \n",
       "0  Plasmodium falciparum K1   Ki    nM    4.7  \n",
       "1  Plasmodium falciparum K1   Ki    nM    4.7  \n",
       "2  Plasmodium falciparum K1   Ki    nM   14.5  \n",
       "3  Plasmodium falciparum K1   Ki    nM    3.1  \n",
       "4  Plasmodium falciparum K1   Ki    nM  103.5  "
      ]
     },
     "execution_count": 136,
     "metadata": {},
     "output_type": "execute_result"
    }
   ],
   "source": [
    "bioactivities_df = pd.DataFrame.from_records(bioactivities)\n",
    "print(f\"DataFrame shape: {bioactivities_df.shape}\")\n",
    "bioactivities_df.head()"
   ]
  },
  {
   "cell_type": "markdown",
   "id": "a8189cb3",
   "metadata": {},
   "source": [
    "Verificamos o tipo de cada variavel e transformamos os valores de atividade biologica em \"float\" para evitarmos que seja truncado ou arredondado e comprometa de alguma forma a nossa análise"
   ]
  },
  {
   "cell_type": "code",
   "execution_count": 137,
   "id": "71466637",
   "metadata": {},
   "outputs": [
    {
     "data": {
      "text/plain": [
       "activity_id             int64\n",
       "assay_chembl_id        object\n",
       "assay_description      object\n",
       "assay_type             object\n",
       "molecule_chembl_id     object\n",
       "relation               object\n",
       "standard_units         object\n",
       "standard_value        float64\n",
       "target_chembl_id       object\n",
       "target_organism        object\n",
       "type                   object\n",
       "units                  object\n",
       "value                  object\n",
       "dtype: object"
      ]
     },
     "execution_count": 137,
     "metadata": {},
     "output_type": "execute_result"
    }
   ],
   "source": [
    "#como parte de boas praticas, verificamos o tipo de cada variavel e transformamos a variavel em float para que não seja truncado ou arredondado\n",
    "bioactivities_df = bioactivities_df.astype({\"standard_value\": \"float64\"})\n",
    "\n",
    "bioactivities_df.dtypes"
   ]
  },
  {
   "cell_type": "markdown",
   "id": "1f126f80",
   "metadata": {},
   "source": [
    "Também como forma de boas práticas de modelagem, retiramos todos os valores tidos como \"NA\" no banco de moléculas, uma vez que isso inviabilizará a obtenção de dados e/ou modelos mais pra frente. Nesse caso em específico, vemos que não há nenhuma variável com dados faltantes."
   ]
  },
  {
   "cell_type": "code",
   "execution_count": 138,
   "id": "477d1d05",
   "metadata": {},
   "outputs": [
    {
     "name": "stdout",
     "output_type": "stream",
     "text": [
      "DataFrame shape: (717, 13)\n"
     ]
    }
   ],
   "source": [
    "bioactivities_df.dropna(axis=0, how=\"any\", inplace=True)\n",
    "print(f\"DataFrame shape: {bioactivities_df.shape}\")"
   ]
  },
  {
   "cell_type": "markdown",
   "id": "b5815df0",
   "metadata": {},
   "source": [
    "É importante conferir se existe alguma outra unidade de medida presente no banco de dados obtido. Nesse caso não observamos nenhum outro tipo de unidade de medida biologica a nao ser nM."
   ]
  },
  {
   "cell_type": "code",
   "execution_count": 139,
   "id": "8deeaa27",
   "metadata": {},
   "outputs": [
    {
     "name": "stdout",
     "output_type": "stream",
     "text": [
      "Tipos de unidades nos dados baixados: ['nM']\n",
      "Numero de dados sem valores na faixa do nanomolar nM:    0\n"
     ]
    }
   ],
   "source": [
    "print(f\"Tipos de unidades nos dados baixados: {bioactivities_df['standard_units'].unique()}\")\n",
    "\n",
    "print(    f\"Numero de dados sem valores na faixa do nanomolar nM:\\\n",
    "    {bioactivities_df[bioactivities_df['standard_units'] != 'nM'].shape[0]}\")"
   ]
  },
  {
   "cell_type": "markdown",
   "id": "628dacd5",
   "metadata": {},
   "source": [
    "Observamos que não há nenhuma atividade biológica medida de outra forma que não o nanomolar. Mesmo que nesse caso não se aplique, é importante sempre filtrar o banco de dados para uma mesma unidade de medida."
   ]
  },
  {
   "cell_type": "code",
   "execution_count": 140,
   "id": "2edd43c9",
   "metadata": {},
   "outputs": [
    {
     "name": "stdout",
     "output_type": "stream",
     "text": [
      "Units after filtering: ['nM']\n",
      "DataFrame shape: (717, 13)\n"
     ]
    }
   ],
   "source": [
    "bioactivities_df = bioactivities_df[bioactivities_df[\"standard_units\"] == \"nM\"]\n",
    "print(f\"Units after filtering: {bioactivities_df['standard_units'].unique()}\")\n",
    "print(f\"DataFrame shape: {bioactivities_df.shape}\")"
   ]
  },
  {
   "cell_type": "markdown",
   "id": "06edf2ad",
   "metadata": {},
   "source": [
    "---\n",
    "<h3>Removendo estruturas redundantes</h3>"
   ]
  },
  {
   "cell_type": "markdown",
   "id": "b157ffe9",
   "metadata": {},
   "source": [
    "Agora chegamos em um ponto bastante crucial para o desenvolvimento dos modelos: a quantidade de moléculas. É fato que temos 717 medições experimentais, mas na verdade temos a mesma quantidade de moléculas? Ou foram realizados várias medições biológicas para um número menor de estruturas. A resposta se dá abaixo com o \"drop_duplicates\". Mantemos as que aparecem primeiro"
   ]
  },
  {
   "cell_type": "code",
   "execution_count": 142,
   "id": "b6577391",
   "metadata": {},
   "outputs": [
    {
     "name": "stdout",
     "output_type": "stream",
     "text": [
      "DataFrame shape: (145, 13)\n"
     ]
    }
   ],
   "source": [
    "bioactivities_df.drop_duplicates(\"molecule_chembl_id\", keep=\"first\", inplace=True)\n",
    "print(f\"DataFrame shape: {bioactivities_df.shape}\")"
   ]
  },
  {
   "cell_type": "markdown",
   "id": "b266e871",
   "metadata": {},
   "source": [
    "Pois é, vemos que na verdade das mais de 700 atividades biológicas medidas, possuimos apenas 145 estruturas diferentes. A ideia agora é juntar as estruturas para a espécie <i>falciparum</i> e <i>vivax</i>! (Acho que para outra espécie temos cerca de ~30 estruturas)"
   ]
  },
  {
   "cell_type": "code",
   "execution_count": 153,
   "id": "187765ad",
   "metadata": {},
   "outputs": [
    {
     "data": {
      "text/html": [
       "<div>\n",
       "<style scoped>\n",
       "    .dataframe tbody tr th:only-of-type {\n",
       "        vertical-align: middle;\n",
       "    }\n",
       "\n",
       "    .dataframe tbody tr th {\n",
       "        vertical-align: top;\n",
       "    }\n",
       "\n",
       "    .dataframe thead th {\n",
       "        text-align: right;\n",
       "    }\n",
       "</style>\n",
       "<table border=\"1\" class=\"dataframe\">\n",
       "  <thead>\n",
       "    <tr style=\"text-align: right;\">\n",
       "      <th></th>\n",
       "      <th>activity_id</th>\n",
       "      <th>assay_chembl_id</th>\n",
       "      <th>assay_description</th>\n",
       "      <th>assay_type</th>\n",
       "      <th>molecule_chembl_id</th>\n",
       "      <th>relation</th>\n",
       "      <th>standard_units</th>\n",
       "      <th>standard_value</th>\n",
       "      <th>target_chembl_id</th>\n",
       "      <th>target_organism</th>\n",
       "      <th>type</th>\n",
       "      <th>units</th>\n",
       "      <th>value</th>\n",
       "    </tr>\n",
       "  </thead>\n",
       "  <tbody>\n",
       "    <tr>\n",
       "      <th>0</th>\n",
       "      <td>185071</td>\n",
       "      <td>CHEMBL811761</td>\n",
       "      <td>Binding affinity was evaluated as inhibition o...</td>\n",
       "      <td>B</td>\n",
       "      <td>CHEMBL2364573</td>\n",
       "      <td>=</td>\n",
       "      <td>nM</td>\n",
       "      <td>4.7</td>\n",
       "      <td>CHEMBL1939</td>\n",
       "      <td>Plasmodium falciparum K1</td>\n",
       "      <td>Ki</td>\n",
       "      <td>nM</td>\n",
       "      <td>4.7</td>\n",
       "    </tr>\n",
       "    <tr>\n",
       "      <th>1</th>\n",
       "      <td>187525</td>\n",
       "      <td>CHEMBL821379</td>\n",
       "      <td>Inhibitory activity against wild-type dihydrof...</td>\n",
       "      <td>B</td>\n",
       "      <td>CHEMBL324775</td>\n",
       "      <td>=</td>\n",
       "      <td>nM</td>\n",
       "      <td>3.1</td>\n",
       "      <td>CHEMBL1939</td>\n",
       "      <td>Plasmodium falciparum K1</td>\n",
       "      <td>Ki</td>\n",
       "      <td>nM</td>\n",
       "      <td>3.1</td>\n",
       "    </tr>\n",
       "    <tr>\n",
       "      <th>2</th>\n",
       "      <td>188709</td>\n",
       "      <td>CHEMBL821379</td>\n",
       "      <td>Inhibitory activity against wild-type dihydrof...</td>\n",
       "      <td>B</td>\n",
       "      <td>CHEMBL416373</td>\n",
       "      <td>=</td>\n",
       "      <td>nM</td>\n",
       "      <td>0.4</td>\n",
       "      <td>CHEMBL1939</td>\n",
       "      <td>Plasmodium falciparum K1</td>\n",
       "      <td>Ki</td>\n",
       "      <td>nM</td>\n",
       "      <td>0.4</td>\n",
       "    </tr>\n",
       "    <tr>\n",
       "      <th>3</th>\n",
       "      <td>189896</td>\n",
       "      <td>CHEMBL821379</td>\n",
       "      <td>Inhibitory activity against wild-type dihydrof...</td>\n",
       "      <td>B</td>\n",
       "      <td>CHEMBL291931</td>\n",
       "      <td>=</td>\n",
       "      <td>nM</td>\n",
       "      <td>7.2</td>\n",
       "      <td>CHEMBL1939</td>\n",
       "      <td>Plasmodium falciparum K1</td>\n",
       "      <td>Ki</td>\n",
       "      <td>nM</td>\n",
       "      <td>7.2</td>\n",
       "    </tr>\n",
       "    <tr>\n",
       "      <th>4</th>\n",
       "      <td>189912</td>\n",
       "      <td>CHEMBL821379</td>\n",
       "      <td>Inhibitory activity against wild-type dihydrof...</td>\n",
       "      <td>B</td>\n",
       "      <td>CHEMBL119188</td>\n",
       "      <td>=</td>\n",
       "      <td>nM</td>\n",
       "      <td>0.6</td>\n",
       "      <td>CHEMBL1939</td>\n",
       "      <td>Plasmodium falciparum K1</td>\n",
       "      <td>Ki</td>\n",
       "      <td>nM</td>\n",
       "      <td>0.6</td>\n",
       "    </tr>\n",
       "  </tbody>\n",
       "</table>\n",
       "</div>"
      ],
      "text/plain": [
       "   activity_id assay_chembl_id  \\\n",
       "0       185071    CHEMBL811761   \n",
       "1       187525    CHEMBL821379   \n",
       "2       188709    CHEMBL821379   \n",
       "3       189896    CHEMBL821379   \n",
       "4       189912    CHEMBL821379   \n",
       "\n",
       "                                   assay_description assay_type  \\\n",
       "0  Binding affinity was evaluated as inhibition o...          B   \n",
       "1  Inhibitory activity against wild-type dihydrof...          B   \n",
       "2  Inhibitory activity against wild-type dihydrof...          B   \n",
       "3  Inhibitory activity against wild-type dihydrof...          B   \n",
       "4  Inhibitory activity against wild-type dihydrof...          B   \n",
       "\n",
       "  molecule_chembl_id relation standard_units  standard_value target_chembl_id  \\\n",
       "0      CHEMBL2364573        =             nM             4.7       CHEMBL1939   \n",
       "1       CHEMBL324775        =             nM             3.1       CHEMBL1939   \n",
       "2       CHEMBL416373        =             nM             0.4       CHEMBL1939   \n",
       "3       CHEMBL291931        =             nM             7.2       CHEMBL1939   \n",
       "4       CHEMBL119188        =             nM             0.6       CHEMBL1939   \n",
       "\n",
       "            target_organism type units value  \n",
       "0  Plasmodium falciparum K1   Ki    nM   4.7  \n",
       "1  Plasmodium falciparum K1   Ki    nM   3.1  \n",
       "2  Plasmodium falciparum K1   Ki    nM   0.4  \n",
       "3  Plasmodium falciparum K1   Ki    nM   7.2  \n",
       "4  Plasmodium falciparum K1   Ki    nM   0.6  "
      ]
     },
     "execution_count": 153,
     "metadata": {},
     "output_type": "execute_result"
    }
   ],
   "source": [
    "bioactivities_df.reset_index(drop=True, inplace=True)\n",
    "bioactivities_df.head()"
   ]
  },
  {
   "cell_type": "code",
   "execution_count": null,
   "id": "5e7f5df7",
   "metadata": {},
   "outputs": [],
   "source": []
  }
 ],
 "metadata": {
  "kernelspec": {
   "display_name": "Python 3 (ipykernel)",
   "language": "python",
   "name": "python3"
  },
  "language_info": {
   "codemirror_mode": {
    "name": "ipython",
    "version": 3
   },
   "file_extension": ".py",
   "mimetype": "text/x-python",
   "name": "python",
   "nbconvert_exporter": "python",
   "pygments_lexer": "ipython3",
   "version": "3.10.4"
  }
 },
 "nbformat": 4,
 "nbformat_minor": 5
}
