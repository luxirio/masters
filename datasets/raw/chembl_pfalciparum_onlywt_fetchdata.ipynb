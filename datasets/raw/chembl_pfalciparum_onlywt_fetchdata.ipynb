{
 "cells": [
  {
   "attachments": {},
   "cell_type": "markdown",
   "metadata": {},
   "source": [
    "## ChEMBL - Fetch Raw Data - P. falciparum (only WildType)"
   ]
  },
  {
   "attachments": {},
   "cell_type": "markdown",
   "metadata": {},
   "source": [
    "**Date:** 23/01/23\n",
    "\n",
    "**Based on:** [TeachOpenCADD T001 - Compound data acquisition (ChEMBL)](https://projects.volkamerlab.org/teachopencadd/talktorials/T001_query_chembl.html)\n",
    "\n",
    "**Done by:** Gustavo H. M. Sousa\n",
    "\n",
    "Session information at the end of the notebook."
   ]
  },
  {
   "attachments": {},
   "cell_type": "markdown",
   "metadata": {},
   "source": [
    "### Retrieving ChEMBL biological data of the target (DHFR) - Plasmodium"
   ]
  },
  {
   "attachments": {},
   "cell_type": "markdown",
   "metadata": {},
   "source": [
    "#### Importing, defining paths and specifying query parameters"
   ]
  },
  {
   "attachments": {},
   "cell_type": "markdown",
   "metadata": {},
   "source": [
    "First, we need to import the libraries we're going to use. It is best practice to first import them all and them proceed to further analysis."
   ]
  },
  {
   "cell_type": "code",
   "execution_count": 1,
   "metadata": {},
   "outputs": [],
   "source": [
    "import math\n",
    "from pathlib import Path\n",
    "from zipfile import ZipFile\n",
    "from tempfile import TemporaryDirectory\n",
    "\n",
    "import numpy as np\n",
    "import pandas as pd\n",
    "from rdkit.Chem import PandasTools\n",
    "from chembl_webresource_client.new_client import new_client # This is the API chembl library\n",
    "from tqdm.auto import tqdm"
   ]
  },
  {
   "attachments": {},
   "cell_type": "markdown",
   "metadata": {},
   "source": [
    "We can also use the `Path` package to define our relative or absolute directory path to save our files."
   ]
  },
  {
   "cell_type": "code",
   "execution_count": 2,
   "metadata": {},
   "outputs": [],
   "source": [
    "HERE = Path(_dh[-1])\n",
    "DATA = HERE/\"data\""
   ]
  },
  {
   "attachments": {},
   "cell_type": "markdown",
   "metadata": {},
   "source": [
    "Next, we can specify the parameters of our API data:"
   ]
  },
  {
   "cell_type": "code",
   "execution_count": 3,
   "metadata": {},
   "outputs": [
    {
     "data": {
      "text/plain": [
       "chembl_webresource_client.query_set.QuerySet"
      ]
     },
     "execution_count": 3,
     "metadata": {},
     "output_type": "execute_result"
    }
   ],
   "source": [
    "targets_api = new_client.target\n",
    "compounds_api = new_client.molecule\n",
    "bioactivities_api = new_client.activity\n",
    "\n",
    "type(targets_api)"
   ]
  },
  {
   "attachments": {},
   "cell_type": "markdown",
   "metadata": {},
   "source": [
    "### Target Information"
   ]
  },
  {
   "attachments": {},
   "cell_type": "markdown",
   "metadata": {},
   "source": [
    "We can now specify the UniProt ID of our target, in our case we're going to start with the following:\n",
    "* **UniProt ID:** P13922\n",
    "* **Entry name:** DRTS_PLAFK\n",
    "* **Organism:** *Plasmodium falciparum* (isolate K1 / Thailand)\n",
    "* **Length:** 608 AA\n"
   ]
  },
  {
   "cell_type": "code",
   "execution_count": 4,
   "metadata": {},
   "outputs": [],
   "source": [
    "uniprot_id = \"P13922\""
   ]
  },
  {
   "attachments": {},
   "cell_type": "markdown",
   "metadata": {},
   "source": [
    "Then, we **fetch** the data for this UniProt ID."
   ]
  },
  {
   "cell_type": "code",
   "execution_count": 5,
   "metadata": {},
   "outputs": [
    {
     "name": "stdout",
     "output_type": "stream",
     "text": [
      "<class 'chembl_webresource_client.query_set.QuerySet'>\n"
     ]
    }
   ],
   "source": [
    "targets = targets_api.get(target_components__accession=uniprot_id).only(\n",
    "    \"target_chembl_id\", \"organism\", \"pref_name\", \"target_type\"\n",
    ")\n",
    "\n",
    "# We make sure that the 'targets' object is a chembl query by printing its type\n",
    "print(type(targets))"
   ]
  },
  {
   "attachments": {},
   "cell_type": "markdown",
   "metadata": {},
   "source": [
    "As seen previously in other notebooks, the results of the query are store in `targets`a object of the type `QuerySet` and the results are not fetch from ChEMBL until we ask for it using the function `pd.DataFrame.from_records`. These type of `QuerySet` are called *lazy* for this reason. "
   ]
  },
  {
   "cell_type": "code",
   "execution_count": 6,
   "metadata": {},
   "outputs": [
    {
     "data": {
      "text/html": [
       "<div>\n",
       "<style scoped>\n",
       "    .dataframe tbody tr th:only-of-type {\n",
       "        vertical-align: middle;\n",
       "    }\n",
       "\n",
       "    .dataframe tbody tr th {\n",
       "        vertical-align: top;\n",
       "    }\n",
       "\n",
       "    .dataframe thead th {\n",
       "        text-align: right;\n",
       "    }\n",
       "</style>\n",
       "<table border=\"1\" class=\"dataframe\">\n",
       "  <thead>\n",
       "    <tr style=\"text-align: right;\">\n",
       "      <th></th>\n",
       "      <th>organism</th>\n",
       "      <th>pref_name</th>\n",
       "      <th>target_chembl_id</th>\n",
       "      <th>target_type</th>\n",
       "    </tr>\n",
       "  </thead>\n",
       "  <tbody>\n",
       "    <tr>\n",
       "      <th>0</th>\n",
       "      <td>Plasmodium falciparum K1</td>\n",
       "      <td>Dihydrofolate reductase</td>\n",
       "      <td>CHEMBL1939</td>\n",
       "      <td>SINGLE PROTEIN</td>\n",
       "    </tr>\n",
       "    <tr>\n",
       "      <th>1</th>\n",
       "      <td>Plasmodium falciparum K1</td>\n",
       "      <td>Dihydrofolate reductase</td>\n",
       "      <td>CHEMBL1939</td>\n",
       "      <td>SINGLE PROTEIN</td>\n",
       "    </tr>\n",
       "  </tbody>\n",
       "</table>\n",
       "</div>"
      ],
      "text/plain": [
       "                   organism                pref_name target_chembl_id  \\\n",
       "0  Plasmodium falciparum K1  Dihydrofolate reductase       CHEMBL1939   \n",
       "1  Plasmodium falciparum K1  Dihydrofolate reductase       CHEMBL1939   \n",
       "\n",
       "      target_type  \n",
       "0  SINGLE PROTEIN  \n",
       "1  SINGLE PROTEIN  "
      ]
     },
     "execution_count": 6,
     "metadata": {},
     "output_type": "execute_result"
    }
   ],
   "source": [
    "targets = pd.DataFrame.from_records(targets)\n",
    "targets"
   ]
  },
  {
   "attachments": {},
   "cell_type": "markdown",
   "metadata": {},
   "source": [
    "After inspecting our dataframe with the *'organism'*, *'pref_name'*, *'target_chembl_id'* and *'target_type'* we can select what row are of interest. In our case, the rows are both the same (I don't know exactly why) so we can select either. "
   ]
  },
  {
   "cell_type": "code",
   "execution_count": 7,
   "metadata": {},
   "outputs": [
    {
     "data": {
      "text/plain": [
       "organism            Plasmodium falciparum K1\n",
       "pref_name            Dihydrofolate reductase\n",
       "target_chembl_id                  CHEMBL1939\n",
       "target_type                   SINGLE PROTEIN\n",
       "Name: 0, dtype: object"
      ]
     },
     "execution_count": 7,
     "metadata": {},
     "output_type": "execute_result"
    }
   ],
   "source": [
    "# We then fetch only the first row of our 'targets' dataframe object\n",
    "\n",
    "targets = targets.iloc[0]\n",
    "targets"
   ]
  },
  {
   "attachments": {},
   "cell_type": "markdown",
   "metadata": {},
   "source": [
    "Saving the *target_chembl_id* variable because this is going to come in hand later to fetch the biological data of our target."
   ]
  },
  {
   "cell_type": "code",
   "execution_count": 8,
   "metadata": {},
   "outputs": [
    {
     "name": "stdout",
     "output_type": "stream",
     "text": [
      "CHEMBL1939\n"
     ]
    }
   ],
   "source": [
    "chembl_id = targets.target_chembl_id\n",
    "print(chembl_id)"
   ]
  },
  {
   "attachments": {},
   "cell_type": "markdown",
   "metadata": {},
   "source": [
    "### Fetching biological data to our target"
   ]
  },
  {
   "attachments": {},
   "cell_type": "markdown",
   "metadata": {},
   "source": [
    "Now we can fetch the biological data for our target, taking the following into consideration:\n",
    "* bioactivity type = `Ki`\n",
    "* exact mesaruements (relation `=`)\n",
    "* binding data (assay type `B`)"
   ]
  },
  {
   "cell_type": "code",
   "execution_count": 9,
   "metadata": {},
   "outputs": [
    {
     "name": "stdout",
     "output_type": "stream",
     "text": [
      "The total size of the biological activities fetched is:716 of type, <class 'chembl_webresource_client.query_set.QuerySet'>\n"
     ]
    }
   ],
   "source": [
    "bioactivities_plasmodium = bioactivities_api.filter(\n",
    "    target_chembl_id=chembl_id, type='Ki', relation='=',\n",
    "    assay_type='B'\n",
    ").only(\n",
    "    'activity_id',\n",
    "    'assay_chembl_id',\n",
    "    'assay_description',\n",
    "    'assay_type',\n",
    "    'molecule_chembl_id',\n",
    "    'type',\n",
    "    'standard_units',\n",
    "    'relation',\n",
    "    'standard_units',\n",
    "    'relation',\n",
    "    'standard_value',\n",
    "    'target_chembl_id',\n",
    "    'target_organism'\n",
    ")\n",
    "\n",
    "print(f\"The total size of the biological activities fetched is:{len(bioactivities_plasmodium)} of type, {type(bioactivities_plasmodium)}\")"
   ]
  },
  {
   "attachments": {},
   "cell_type": "markdown",
   "metadata": {},
   "source": [
    "Each element of our `bioactivities_plasmodium`objetc contains a dicionary:"
   ]
  },
  {
   "cell_type": "code",
   "execution_count": 10,
   "metadata": {},
   "outputs": [
    {
     "name": "stdout",
     "output_type": "stream",
     "text": [
      "{'activity_id': 185071, 'assay_chembl_id': 'CHEMBL811761', 'assay_description': 'Binding affinity was evaluated as inhibition of recombinant wild type (WT) Plasmodium falciparum DHFR-TS.', 'assay_type': 'B', 'molecule_chembl_id': 'CHEMBL2364573', 'relation': '=', 'standard_units': 'nM', 'standard_value': '4.7', 'target_chembl_id': 'CHEMBL1939', 'target_organism': 'Plasmodium falciparum K1', 'type': 'Ki', 'units': 'nM', 'value': '4.7'}\n"
     ]
    }
   ],
   "source": [
    "print(f\"{bioactivities_plasmodium[0]}\")"
   ]
  },
  {
   "attachments": {},
   "cell_type": "markdown",
   "metadata": {},
   "source": [
    "We can then download the *dataset* containing only `Ki` and exact measurements for our target:"
   ]
  },
  {
   "cell_type": "code",
   "execution_count": 11,
   "metadata": {},
   "outputs": [
    {
     "name": "stdout",
     "output_type": "stream",
     "text": [
      "The dataframe shape is: (717, 13)\n"
     ]
    },
    {
     "data": {
      "text/html": [
       "<div>\n",
       "<style scoped>\n",
       "    .dataframe tbody tr th:only-of-type {\n",
       "        vertical-align: middle;\n",
       "    }\n",
       "\n",
       "    .dataframe tbody tr th {\n",
       "        vertical-align: top;\n",
       "    }\n",
       "\n",
       "    .dataframe thead th {\n",
       "        text-align: right;\n",
       "    }\n",
       "</style>\n",
       "<table border=\"1\" class=\"dataframe\">\n",
       "  <thead>\n",
       "    <tr style=\"text-align: right;\">\n",
       "      <th></th>\n",
       "      <th>activity_id</th>\n",
       "      <th>assay_chembl_id</th>\n",
       "      <th>assay_description</th>\n",
       "      <th>assay_type</th>\n",
       "      <th>molecule_chembl_id</th>\n",
       "      <th>relation</th>\n",
       "      <th>standard_units</th>\n",
       "      <th>standard_value</th>\n",
       "      <th>target_chembl_id</th>\n",
       "      <th>target_organism</th>\n",
       "      <th>type</th>\n",
       "      <th>units</th>\n",
       "      <th>value</th>\n",
       "    </tr>\n",
       "  </thead>\n",
       "  <tbody>\n",
       "    <tr>\n",
       "      <th>0</th>\n",
       "      <td>185071</td>\n",
       "      <td>CHEMBL811761</td>\n",
       "      <td>Binding affinity was evaluated as inhibition o...</td>\n",
       "      <td>B</td>\n",
       "      <td>CHEMBL2364573</td>\n",
       "      <td>=</td>\n",
       "      <td>nM</td>\n",
       "      <td>4.7</td>\n",
       "      <td>CHEMBL1939</td>\n",
       "      <td>Plasmodium falciparum K1</td>\n",
       "      <td>Ki</td>\n",
       "      <td>nM</td>\n",
       "      <td>4.7</td>\n",
       "    </tr>\n",
       "    <tr>\n",
       "      <th>1</th>\n",
       "      <td>185071</td>\n",
       "      <td>CHEMBL811761</td>\n",
       "      <td>Binding affinity was evaluated as inhibition o...</td>\n",
       "      <td>B</td>\n",
       "      <td>CHEMBL2364573</td>\n",
       "      <td>=</td>\n",
       "      <td>nM</td>\n",
       "      <td>4.7</td>\n",
       "      <td>CHEMBL1939</td>\n",
       "      <td>Plasmodium falciparum K1</td>\n",
       "      <td>Ki</td>\n",
       "      <td>nM</td>\n",
       "      <td>4.7</td>\n",
       "    </tr>\n",
       "    <tr>\n",
       "      <th>2</th>\n",
       "      <td>185072</td>\n",
       "      <td>CHEMBL811759</td>\n",
       "      <td>Binding affinity was evaluated as inhibition o...</td>\n",
       "      <td>B</td>\n",
       "      <td>CHEMBL2364573</td>\n",
       "      <td>=</td>\n",
       "      <td>nM</td>\n",
       "      <td>14.5</td>\n",
       "      <td>CHEMBL1939</td>\n",
       "      <td>Plasmodium falciparum K1</td>\n",
       "      <td>Ki</td>\n",
       "      <td>nM</td>\n",
       "      <td>14.5</td>\n",
       "    </tr>\n",
       "    <tr>\n",
       "      <th>3</th>\n",
       "      <td>187525</td>\n",
       "      <td>CHEMBL821379</td>\n",
       "      <td>Inhibitory activity against wild-type dihydrof...</td>\n",
       "      <td>B</td>\n",
       "      <td>CHEMBL324775</td>\n",
       "      <td>=</td>\n",
       "      <td>nM</td>\n",
       "      <td>3.1</td>\n",
       "      <td>CHEMBL1939</td>\n",
       "      <td>Plasmodium falciparum K1</td>\n",
       "      <td>Ki</td>\n",
       "      <td>nM</td>\n",
       "      <td>3.1</td>\n",
       "    </tr>\n",
       "    <tr>\n",
       "      <th>4</th>\n",
       "      <td>187527</td>\n",
       "      <td>CHEMBL668412</td>\n",
       "      <td>Inhibitory activity against double mutant dihy...</td>\n",
       "      <td>B</td>\n",
       "      <td>CHEMBL324775</td>\n",
       "      <td>=</td>\n",
       "      <td>nM</td>\n",
       "      <td>103.5</td>\n",
       "      <td>CHEMBL1939</td>\n",
       "      <td>Plasmodium falciparum K1</td>\n",
       "      <td>Ki</td>\n",
       "      <td>nM</td>\n",
       "      <td>103.5</td>\n",
       "    </tr>\n",
       "  </tbody>\n",
       "</table>\n",
       "</div>"
      ],
      "text/plain": [
       "   activity_id assay_chembl_id  \\\n",
       "0       185071    CHEMBL811761   \n",
       "1       185071    CHEMBL811761   \n",
       "2       185072    CHEMBL811759   \n",
       "3       187525    CHEMBL821379   \n",
       "4       187527    CHEMBL668412   \n",
       "\n",
       "                                   assay_description assay_type  \\\n",
       "0  Binding affinity was evaluated as inhibition o...          B   \n",
       "1  Binding affinity was evaluated as inhibition o...          B   \n",
       "2  Binding affinity was evaluated as inhibition o...          B   \n",
       "3  Inhibitory activity against wild-type dihydrof...          B   \n",
       "4  Inhibitory activity against double mutant dihy...          B   \n",
       "\n",
       "  molecule_chembl_id relation standard_units standard_value target_chembl_id  \\\n",
       "0      CHEMBL2364573        =             nM            4.7       CHEMBL1939   \n",
       "1      CHEMBL2364573        =             nM            4.7       CHEMBL1939   \n",
       "2      CHEMBL2364573        =             nM           14.5       CHEMBL1939   \n",
       "3       CHEMBL324775        =             nM            3.1       CHEMBL1939   \n",
       "4       CHEMBL324775        =             nM          103.5       CHEMBL1939   \n",
       "\n",
       "            target_organism type units  value  \n",
       "0  Plasmodium falciparum K1   Ki    nM    4.7  \n",
       "1  Plasmodium falciparum K1   Ki    nM    4.7  \n",
       "2  Plasmodium falciparum K1   Ki    nM   14.5  \n",
       "3  Plasmodium falciparum K1   Ki    nM    3.1  \n",
       "4  Plasmodium falciparum K1   Ki    nM  103.5  "
      ]
     },
     "execution_count": 11,
     "metadata": {},
     "output_type": "execute_result"
    }
   ],
   "source": [
    "bioactivities_plasmodium_df = pd.DataFrame.from_records(bioactivities_plasmodium)\n",
    "print(f\"The dataframe shape is: {bioactivities_plasmodium_df.shape}\")\n",
    "\n",
    "bioactivities_plasmodium_df.head(5)"
   ]
  },
  {
   "attachments": {},
   "cell_type": "markdown",
   "metadata": {},
   "source": [
    "We can do a first estimation of unique structures in our dataset. For the *P. falciparum* type K1 we have almost 150 strcutures. It is possible that after the processing of our data we end up with way less than this, but this is a decent estimation"
   ]
  },
  {
   "cell_type": "code",
   "execution_count": 12,
   "metadata": {},
   "outputs": [
    {
     "name": "stdout",
     "output_type": "stream",
     "text": [
      "145\n"
     ]
    }
   ],
   "source": [
    "# Estimation of unique values:\n",
    "print(bioactivities_plasmodium_df['molecule_chembl_id'].unique().shape[0])"
   ]
  },
  {
   "cell_type": "code",
   "execution_count": 13,
   "metadata": {},
   "outputs": [
    {
     "data": {
      "text/plain": [
       "array(['nM', 'uM'], dtype=object)"
      ]
     },
     "execution_count": 13,
     "metadata": {},
     "output_type": "execute_result"
    }
   ],
   "source": [
    "bioactivities_plasmodium_df['units'].unique()"
   ]
  },
  {
   "attachments": {},
   "cell_type": "markdown",
   "metadata": {},
   "source": [
    "Note also that we have columns for `standard_units/units`and `standard_values/values` so we don't need the `units` and `values` variables. We will thus, drop the other two columns."
   ]
  },
  {
   "cell_type": "code",
   "execution_count": 14,
   "metadata": {},
   "outputs": [
    {
     "data": {
      "text/html": [
       "<div>\n",
       "<style scoped>\n",
       "    .dataframe tbody tr th:only-of-type {\n",
       "        vertical-align: middle;\n",
       "    }\n",
       "\n",
       "    .dataframe tbody tr th {\n",
       "        vertical-align: top;\n",
       "    }\n",
       "\n",
       "    .dataframe thead th {\n",
       "        text-align: right;\n",
       "    }\n",
       "</style>\n",
       "<table border=\"1\" class=\"dataframe\">\n",
       "  <thead>\n",
       "    <tr style=\"text-align: right;\">\n",
       "      <th></th>\n",
       "      <th>activity_id</th>\n",
       "      <th>assay_chembl_id</th>\n",
       "      <th>assay_description</th>\n",
       "      <th>assay_type</th>\n",
       "      <th>molecule_chembl_id</th>\n",
       "      <th>relation</th>\n",
       "      <th>standard_units</th>\n",
       "      <th>standard_value</th>\n",
       "      <th>target_chembl_id</th>\n",
       "      <th>target_organism</th>\n",
       "      <th>type</th>\n",
       "    </tr>\n",
       "  </thead>\n",
       "  <tbody>\n",
       "    <tr>\n",
       "      <th>0</th>\n",
       "      <td>185071</td>\n",
       "      <td>CHEMBL811761</td>\n",
       "      <td>Binding affinity was evaluated as inhibition o...</td>\n",
       "      <td>B</td>\n",
       "      <td>CHEMBL2364573</td>\n",
       "      <td>=</td>\n",
       "      <td>nM</td>\n",
       "      <td>4.7</td>\n",
       "      <td>CHEMBL1939</td>\n",
       "      <td>Plasmodium falciparum K1</td>\n",
       "      <td>Ki</td>\n",
       "    </tr>\n",
       "    <tr>\n",
       "      <th>1</th>\n",
       "      <td>185071</td>\n",
       "      <td>CHEMBL811761</td>\n",
       "      <td>Binding affinity was evaluated as inhibition o...</td>\n",
       "      <td>B</td>\n",
       "      <td>CHEMBL2364573</td>\n",
       "      <td>=</td>\n",
       "      <td>nM</td>\n",
       "      <td>4.7</td>\n",
       "      <td>CHEMBL1939</td>\n",
       "      <td>Plasmodium falciparum K1</td>\n",
       "      <td>Ki</td>\n",
       "    </tr>\n",
       "    <tr>\n",
       "      <th>2</th>\n",
       "      <td>185072</td>\n",
       "      <td>CHEMBL811759</td>\n",
       "      <td>Binding affinity was evaluated as inhibition o...</td>\n",
       "      <td>B</td>\n",
       "      <td>CHEMBL2364573</td>\n",
       "      <td>=</td>\n",
       "      <td>nM</td>\n",
       "      <td>14.5</td>\n",
       "      <td>CHEMBL1939</td>\n",
       "      <td>Plasmodium falciparum K1</td>\n",
       "      <td>Ki</td>\n",
       "    </tr>\n",
       "    <tr>\n",
       "      <th>3</th>\n",
       "      <td>187525</td>\n",
       "      <td>CHEMBL821379</td>\n",
       "      <td>Inhibitory activity against wild-type dihydrof...</td>\n",
       "      <td>B</td>\n",
       "      <td>CHEMBL324775</td>\n",
       "      <td>=</td>\n",
       "      <td>nM</td>\n",
       "      <td>3.1</td>\n",
       "      <td>CHEMBL1939</td>\n",
       "      <td>Plasmodium falciparum K1</td>\n",
       "      <td>Ki</td>\n",
       "    </tr>\n",
       "    <tr>\n",
       "      <th>4</th>\n",
       "      <td>187527</td>\n",
       "      <td>CHEMBL668412</td>\n",
       "      <td>Inhibitory activity against double mutant dihy...</td>\n",
       "      <td>B</td>\n",
       "      <td>CHEMBL324775</td>\n",
       "      <td>=</td>\n",
       "      <td>nM</td>\n",
       "      <td>103.5</td>\n",
       "      <td>CHEMBL1939</td>\n",
       "      <td>Plasmodium falciparum K1</td>\n",
       "      <td>Ki</td>\n",
       "    </tr>\n",
       "  </tbody>\n",
       "</table>\n",
       "</div>"
      ],
      "text/plain": [
       "   activity_id assay_chembl_id  \\\n",
       "0       185071    CHEMBL811761   \n",
       "1       185071    CHEMBL811761   \n",
       "2       185072    CHEMBL811759   \n",
       "3       187525    CHEMBL821379   \n",
       "4       187527    CHEMBL668412   \n",
       "\n",
       "                                   assay_description assay_type  \\\n",
       "0  Binding affinity was evaluated as inhibition o...          B   \n",
       "1  Binding affinity was evaluated as inhibition o...          B   \n",
       "2  Binding affinity was evaluated as inhibition o...          B   \n",
       "3  Inhibitory activity against wild-type dihydrof...          B   \n",
       "4  Inhibitory activity against double mutant dihy...          B   \n",
       "\n",
       "  molecule_chembl_id relation standard_units standard_value target_chembl_id  \\\n",
       "0      CHEMBL2364573        =             nM            4.7       CHEMBL1939   \n",
       "1      CHEMBL2364573        =             nM            4.7       CHEMBL1939   \n",
       "2      CHEMBL2364573        =             nM           14.5       CHEMBL1939   \n",
       "3       CHEMBL324775        =             nM            3.1       CHEMBL1939   \n",
       "4       CHEMBL324775        =             nM          103.5       CHEMBL1939   \n",
       "\n",
       "            target_organism type  \n",
       "0  Plasmodium falciparum K1   Ki  \n",
       "1  Plasmodium falciparum K1   Ki  \n",
       "2  Plasmodium falciparum K1   Ki  \n",
       "3  Plasmodium falciparum K1   Ki  \n",
       "4  Plasmodium falciparum K1   Ki  "
      ]
     },
     "execution_count": 14,
     "metadata": {},
     "output_type": "execute_result"
    }
   ],
   "source": [
    "bioactivities_plasmodium_df.drop(['units', 'value'], axis=1, inplace=True)\n",
    "bioactivities_plasmodium_df.head(5)"
   ]
  },
  {
   "attachments": {},
   "cell_type": "markdown",
   "metadata": {},
   "source": [
    "### Preprocess the data"
   ]
  },
  {
   "attachments": {},
   "cell_type": "markdown",
   "metadata": {},
   "source": [
    "For the pre-processing procedure of the data we're going to do the following:\n",
    "1. Convert the `standard_value` type from object to `float64`\n",
    "2. Delete entries with missing values\n",
    "3. Keep only nanomolar activities\n",
    "4. Delete duplicate molecules\n",
    "5. Reset the df index\n",
    "6. Rename columns\n"
   ]
  },
  {
   "attachments": {},
   "cell_type": "markdown",
   "metadata": {},
   "source": [
    "#### 1. Convert `standard_value` type"
   ]
  },
  {
   "cell_type": "code",
   "execution_count": 15,
   "metadata": {},
   "outputs": [
    {
     "data": {
      "text/plain": [
       "activity_id             int64\n",
       "assay_chembl_id        object\n",
       "assay_description      object\n",
       "assay_type             object\n",
       "molecule_chembl_id     object\n",
       "relation               object\n",
       "standard_units         object\n",
       "standard_value        float64\n",
       "target_chembl_id       object\n",
       "target_organism        object\n",
       "type                   object\n",
       "dtype: object"
      ]
     },
     "execution_count": 15,
     "metadata": {},
     "output_type": "execute_result"
    }
   ],
   "source": [
    "bioactivities_plasmodium_df = bioactivities_plasmodium_df.astype({'standard_value':'float64'})\n",
    "bioactivities_plasmodium_df.dtypes"
   ]
  },
  {
   "attachments": {},
   "cell_type": "markdown",
   "metadata": {},
   "source": [
    "#### 2. Delete entries with missing values"
   ]
  },
  {
   "cell_type": "code",
   "execution_count": 16,
   "metadata": {},
   "outputs": [
    {
     "name": "stdout",
     "output_type": "stream",
     "text": [
      "The shape after dropping NA values: (717, 11)\n"
     ]
    }
   ],
   "source": [
    "bioactivities_plasmodium_df.dropna(axis=0, how='any', inplace=True)\n",
    "print(f\"The shape after dropping NA values: {bioactivities_plasmodium_df.shape}\")"
   ]
  },
  {
   "attachments": {},
   "cell_type": "markdown",
   "metadata": {},
   "source": [
    "#### 3. Keep only entries with \"standard_unit == nM\""
   ]
  },
  {
   "cell_type": "code",
   "execution_count": 17,
   "metadata": {},
   "outputs": [
    {
     "name": "stdout",
     "output_type": "stream",
     "text": [
      "['nM']\n",
      "Number of non-Nm entries: 0\n"
     ]
    }
   ],
   "source": [
    "print(f\"{bioactivities_plasmodium_df['standard_units'].unique()}\")\n",
    "\n",
    "print(f\"Number of non-Nm entries: {bioactivities_plasmodium_df[bioactivities_plasmodium_df['standard_units'] != 'nM'].shape[0]}\")"
   ]
  },
  {
   "attachments": {},
   "cell_type": "markdown",
   "metadata": {},
   "source": [
    "#### 4. Delete or group by mean diplicated molecuels"
   ]
  },
  {
   "attachments": {},
   "cell_type": "markdown",
   "metadata": {},
   "source": [
    "Sometimes the same molecule, i.e. same *molecule_chembl_id* has been tested more than once, in this case, we only keep the first one or even keep the mean of the measurements. We're going to keep only the 'Wild-type' measurements in this case."
   ]
  },
  {
   "cell_type": "code",
   "execution_count": 18,
   "metadata": {},
   "outputs": [
    {
     "name": "stdout",
     "output_type": "stream",
     "text": [
      "Shape of only_wildtype dataset 305\n"
     ]
    },
    {
     "data": {
      "text/html": [
       "<div>\n",
       "<style scoped>\n",
       "    .dataframe tbody tr th:only-of-type {\n",
       "        vertical-align: middle;\n",
       "    }\n",
       "\n",
       "    .dataframe tbody tr th {\n",
       "        vertical-align: top;\n",
       "    }\n",
       "\n",
       "    .dataframe thead th {\n",
       "        text-align: right;\n",
       "    }\n",
       "</style>\n",
       "<table border=\"1\" class=\"dataframe\">\n",
       "  <thead>\n",
       "    <tr style=\"text-align: right;\">\n",
       "      <th></th>\n",
       "      <th>activity_id</th>\n",
       "      <th>assay_chembl_id</th>\n",
       "      <th>assay_description</th>\n",
       "      <th>assay_type</th>\n",
       "      <th>molecule_chembl_id</th>\n",
       "      <th>relation</th>\n",
       "      <th>standard_units</th>\n",
       "      <th>standard_value</th>\n",
       "      <th>target_chembl_id</th>\n",
       "      <th>target_organism</th>\n",
       "      <th>type</th>\n",
       "    </tr>\n",
       "  </thead>\n",
       "  <tbody>\n",
       "    <tr>\n",
       "      <th>0</th>\n",
       "      <td>185071</td>\n",
       "      <td>CHEMBL811761</td>\n",
       "      <td>Binding affinity was evaluated as inhibition o...</td>\n",
       "      <td>B</td>\n",
       "      <td>CHEMBL2364573</td>\n",
       "      <td>=</td>\n",
       "      <td>nM</td>\n",
       "      <td>4.7</td>\n",
       "      <td>CHEMBL1939</td>\n",
       "      <td>Plasmodium falciparum K1</td>\n",
       "      <td>Ki</td>\n",
       "    </tr>\n",
       "    <tr>\n",
       "      <th>1</th>\n",
       "      <td>185071</td>\n",
       "      <td>CHEMBL811761</td>\n",
       "      <td>Binding affinity was evaluated as inhibition o...</td>\n",
       "      <td>B</td>\n",
       "      <td>CHEMBL2364573</td>\n",
       "      <td>=</td>\n",
       "      <td>nM</td>\n",
       "      <td>4.7</td>\n",
       "      <td>CHEMBL1939</td>\n",
       "      <td>Plasmodium falciparum K1</td>\n",
       "      <td>Ki</td>\n",
       "    </tr>\n",
       "    <tr>\n",
       "      <th>2</th>\n",
       "      <td>187525</td>\n",
       "      <td>CHEMBL821379</td>\n",
       "      <td>Inhibitory activity against wild-type dihydrof...</td>\n",
       "      <td>B</td>\n",
       "      <td>CHEMBL324775</td>\n",
       "      <td>=</td>\n",
       "      <td>nM</td>\n",
       "      <td>3.1</td>\n",
       "      <td>CHEMBL1939</td>\n",
       "      <td>Plasmodium falciparum K1</td>\n",
       "      <td>Ki</td>\n",
       "    </tr>\n",
       "  </tbody>\n",
       "</table>\n",
       "</div>"
      ],
      "text/plain": [
       "   activity_id assay_chembl_id  \\\n",
       "0       185071    CHEMBL811761   \n",
       "1       185071    CHEMBL811761   \n",
       "2       187525    CHEMBL821379   \n",
       "\n",
       "                                   assay_description assay_type  \\\n",
       "0  Binding affinity was evaluated as inhibition o...          B   \n",
       "1  Binding affinity was evaluated as inhibition o...          B   \n",
       "2  Inhibitory activity against wild-type dihydrof...          B   \n",
       "\n",
       "  molecule_chembl_id relation standard_units  standard_value target_chembl_id  \\\n",
       "0      CHEMBL2364573        =             nM             4.7       CHEMBL1939   \n",
       "1      CHEMBL2364573        =             nM             4.7       CHEMBL1939   \n",
       "2       CHEMBL324775        =             nM             3.1       CHEMBL1939   \n",
       "\n",
       "            target_organism type  \n",
       "0  Plasmodium falciparum K1   Ki  \n",
       "1  Plasmodium falciparum K1   Ki  \n",
       "2  Plasmodium falciparum K1   Ki  "
      ]
     },
     "execution_count": 18,
     "metadata": {},
     "output_type": "execute_result"
    }
   ],
   "source": [
    "only_wildtype = bioactivities_plasmodium_df[~bioactivities_plasmodium_df['assay_description'].str.contains('utant', regex=False, case=False)].reset_index(drop=True)\n",
    "print(f\"Shape of only_wildtype dataset {only_wildtype.shape[0]}\")\n",
    "only_wildtype.head(3)"
   ]
  },
  {
   "attachments": {},
   "cell_type": "markdown",
   "metadata": {},
   "source": [
    "We have approximately 305 observations for the wild-type but most of them is repeated measurments or duplicated entries. We're going to group them by the mean and set this dataset apart."
   ]
  },
  {
   "cell_type": "code",
   "execution_count": 19,
   "metadata": {},
   "outputs": [
    {
     "name": "stdout",
     "output_type": "stream",
     "text": [
      "By keeping the mean and merging duplicated entries we're left with: 145 entries\n"
     ]
    },
    {
     "data": {
      "text/html": [
       "<div>\n",
       "<style scoped>\n",
       "    .dataframe tbody tr th:only-of-type {\n",
       "        vertical-align: middle;\n",
       "    }\n",
       "\n",
       "    .dataframe tbody tr th {\n",
       "        vertical-align: top;\n",
       "    }\n",
       "\n",
       "    .dataframe thead th {\n",
       "        text-align: right;\n",
       "    }\n",
       "</style>\n",
       "<table border=\"1\" class=\"dataframe\">\n",
       "  <thead>\n",
       "    <tr style=\"text-align: right;\">\n",
       "      <th></th>\n",
       "      <th>molecule_chembl_id</th>\n",
       "      <th>mean_standard_value</th>\n",
       "    </tr>\n",
       "  </thead>\n",
       "  <tbody>\n",
       "    <tr>\n",
       "      <th>0</th>\n",
       "      <td>CHEMBL115483</td>\n",
       "      <td>2.0</td>\n",
       "    </tr>\n",
       "    <tr>\n",
       "      <th>1</th>\n",
       "      <td>CHEMBL118202</td>\n",
       "      <td>2.3</td>\n",
       "    </tr>\n",
       "    <tr>\n",
       "      <th>2</th>\n",
       "      <td>CHEMBL118425</td>\n",
       "      <td>7.0</td>\n",
       "    </tr>\n",
       "    <tr>\n",
       "      <th>3</th>\n",
       "      <td>CHEMBL118581</td>\n",
       "      <td>2.5</td>\n",
       "    </tr>\n",
       "    <tr>\n",
       "      <th>4</th>\n",
       "      <td>CHEMBL118602</td>\n",
       "      <td>3.5</td>\n",
       "    </tr>\n",
       "  </tbody>\n",
       "</table>\n",
       "</div>"
      ],
      "text/plain": [
       "  molecule_chembl_id  mean_standard_value\n",
       "0       CHEMBL115483                  2.0\n",
       "1       CHEMBL118202                  2.3\n",
       "2       CHEMBL118425                  7.0\n",
       "3       CHEMBL118581                  2.5\n",
       "4       CHEMBL118602                  3.5"
      ]
     },
     "execution_count": 19,
     "metadata": {},
     "output_type": "execute_result"
    }
   ],
   "source": [
    "# Standard_value already as float so we can skip the part when we convert it\n",
    "only_wildtype_mean = only_wildtype[['molecule_chembl_id','standard_value']].groupby('molecule_chembl_id').mean().reset_index()\n",
    "\n",
    "# Renaming the variables\n",
    "only_wildtype_mean.rename(columns={'standard_value':'mean_standard_value'}, inplace=True)\n",
    "\n",
    "print(f\"By keeping the mean and merging duplicated entries we're left with: {only_wildtype_mean.shape[0]} entries\")\n",
    "only_wildtype_mean.head(5)"
   ]
  },
  {
   "attachments": {},
   "cell_type": "markdown",
   "metadata": {},
   "source": [
    "Next, we drop the duplicates of the `only_wildtype` dataframe employing the `drop_duplicates` of pandas package."
   ]
  },
  {
   "cell_type": "code",
   "execution_count": 20,
   "metadata": {},
   "outputs": [
    {
     "data": {
      "text/html": [
       "<div>\n",
       "<style scoped>\n",
       "    .dataframe tbody tr th:only-of-type {\n",
       "        vertical-align: middle;\n",
       "    }\n",
       "\n",
       "    .dataframe tbody tr th {\n",
       "        vertical-align: top;\n",
       "    }\n",
       "\n",
       "    .dataframe thead th {\n",
       "        text-align: right;\n",
       "    }\n",
       "</style>\n",
       "<table border=\"1\" class=\"dataframe\">\n",
       "  <thead>\n",
       "    <tr style=\"text-align: right;\">\n",
       "      <th></th>\n",
       "      <th>activity_id</th>\n",
       "      <th>assay_chembl_id</th>\n",
       "      <th>assay_description</th>\n",
       "      <th>assay_type</th>\n",
       "      <th>molecule_chembl_id</th>\n",
       "      <th>relation</th>\n",
       "      <th>standard_units</th>\n",
       "      <th>first_standard_value</th>\n",
       "      <th>target_chembl_id</th>\n",
       "      <th>target_organism</th>\n",
       "      <th>type</th>\n",
       "    </tr>\n",
       "  </thead>\n",
       "  <tbody>\n",
       "    <tr>\n",
       "      <th>0</th>\n",
       "      <td>185071</td>\n",
       "      <td>CHEMBL811761</td>\n",
       "      <td>Binding affinity was evaluated as inhibition o...</td>\n",
       "      <td>B</td>\n",
       "      <td>CHEMBL2364573</td>\n",
       "      <td>=</td>\n",
       "      <td>nM</td>\n",
       "      <td>4.7</td>\n",
       "      <td>CHEMBL1939</td>\n",
       "      <td>Plasmodium falciparum K1</td>\n",
       "      <td>Ki</td>\n",
       "    </tr>\n",
       "    <tr>\n",
       "      <th>1</th>\n",
       "      <td>187525</td>\n",
       "      <td>CHEMBL821379</td>\n",
       "      <td>Inhibitory activity against wild-type dihydrof...</td>\n",
       "      <td>B</td>\n",
       "      <td>CHEMBL324775</td>\n",
       "      <td>=</td>\n",
       "      <td>nM</td>\n",
       "      <td>3.1</td>\n",
       "      <td>CHEMBL1939</td>\n",
       "      <td>Plasmodium falciparum K1</td>\n",
       "      <td>Ki</td>\n",
       "    </tr>\n",
       "    <tr>\n",
       "      <th>2</th>\n",
       "      <td>188709</td>\n",
       "      <td>CHEMBL821379</td>\n",
       "      <td>Inhibitory activity against wild-type dihydrof...</td>\n",
       "      <td>B</td>\n",
       "      <td>CHEMBL416373</td>\n",
       "      <td>=</td>\n",
       "      <td>nM</td>\n",
       "      <td>0.4</td>\n",
       "      <td>CHEMBL1939</td>\n",
       "      <td>Plasmodium falciparum K1</td>\n",
       "      <td>Ki</td>\n",
       "    </tr>\n",
       "    <tr>\n",
       "      <th>3</th>\n",
       "      <td>189896</td>\n",
       "      <td>CHEMBL821379</td>\n",
       "      <td>Inhibitory activity against wild-type dihydrof...</td>\n",
       "      <td>B</td>\n",
       "      <td>CHEMBL291931</td>\n",
       "      <td>=</td>\n",
       "      <td>nM</td>\n",
       "      <td>7.2</td>\n",
       "      <td>CHEMBL1939</td>\n",
       "      <td>Plasmodium falciparum K1</td>\n",
       "      <td>Ki</td>\n",
       "    </tr>\n",
       "    <tr>\n",
       "      <th>4</th>\n",
       "      <td>189912</td>\n",
       "      <td>CHEMBL821379</td>\n",
       "      <td>Inhibitory activity against wild-type dihydrof...</td>\n",
       "      <td>B</td>\n",
       "      <td>CHEMBL119188</td>\n",
       "      <td>=</td>\n",
       "      <td>nM</td>\n",
       "      <td>0.6</td>\n",
       "      <td>CHEMBL1939</td>\n",
       "      <td>Plasmodium falciparum K1</td>\n",
       "      <td>Ki</td>\n",
       "    </tr>\n",
       "  </tbody>\n",
       "</table>\n",
       "</div>"
      ],
      "text/plain": [
       "   activity_id assay_chembl_id  \\\n",
       "0       185071    CHEMBL811761   \n",
       "1       187525    CHEMBL821379   \n",
       "2       188709    CHEMBL821379   \n",
       "3       189896    CHEMBL821379   \n",
       "4       189912    CHEMBL821379   \n",
       "\n",
       "                                   assay_description assay_type  \\\n",
       "0  Binding affinity was evaluated as inhibition o...          B   \n",
       "1  Inhibitory activity against wild-type dihydrof...          B   \n",
       "2  Inhibitory activity against wild-type dihydrof...          B   \n",
       "3  Inhibitory activity against wild-type dihydrof...          B   \n",
       "4  Inhibitory activity against wild-type dihydrof...          B   \n",
       "\n",
       "  molecule_chembl_id relation standard_units  first_standard_value  \\\n",
       "0      CHEMBL2364573        =             nM                   4.7   \n",
       "1       CHEMBL324775        =             nM                   3.1   \n",
       "2       CHEMBL416373        =             nM                   0.4   \n",
       "3       CHEMBL291931        =             nM                   7.2   \n",
       "4       CHEMBL119188        =             nM                   0.6   \n",
       "\n",
       "  target_chembl_id           target_organism type  \n",
       "0       CHEMBL1939  Plasmodium falciparum K1   Ki  \n",
       "1       CHEMBL1939  Plasmodium falciparum K1   Ki  \n",
       "2       CHEMBL1939  Plasmodium falciparum K1   Ki  \n",
       "3       CHEMBL1939  Plasmodium falciparum K1   Ki  \n",
       "4       CHEMBL1939  Plasmodium falciparum K1   Ki  "
      ]
     },
     "execution_count": 20,
     "metadata": {},
     "output_type": "execute_result"
    }
   ],
   "source": [
    "# Dropping the duplicates \n",
    "only_wildtype_first = only_wildtype.drop_duplicates('molecule_chembl_id', keep='first')\n",
    "\n",
    "# Renaming the columns. I was using the inplace=True argument but resulted in warning\n",
    "only_wildtype_first = only_wildtype_first.rename(columns={'standard_value':'first_standard_value'})\n",
    "\n",
    "# Reseting the index\n",
    "only_wildtype_first = only_wildtype_first.reset_index(drop=True)\n",
    "only_wildtype_first.head(5)"
   ]
  },
  {
   "attachments": {},
   "cell_type": "markdown",
   "metadata": {},
   "source": [
    "Finally, we merge both datasets so we can keep both informations: the mean and the first appearance of the measurement."
   ]
  },
  {
   "cell_type": "code",
   "execution_count": 21,
   "metadata": {},
   "outputs": [
    {
     "data": {
      "text/html": [
       "<div>\n",
       "<style scoped>\n",
       "    .dataframe tbody tr th:only-of-type {\n",
       "        vertical-align: middle;\n",
       "    }\n",
       "\n",
       "    .dataframe tbody tr th {\n",
       "        vertical-align: top;\n",
       "    }\n",
       "\n",
       "    .dataframe thead th {\n",
       "        text-align: right;\n",
       "    }\n",
       "</style>\n",
       "<table border=\"1\" class=\"dataframe\">\n",
       "  <thead>\n",
       "    <tr style=\"text-align: right;\">\n",
       "      <th></th>\n",
       "      <th>activity_id</th>\n",
       "      <th>assay_chembl_id</th>\n",
       "      <th>assay_description</th>\n",
       "      <th>assay_type</th>\n",
       "      <th>molecule_chembl_id</th>\n",
       "      <th>relation</th>\n",
       "      <th>standard_units</th>\n",
       "      <th>first_standard_value</th>\n",
       "      <th>target_chembl_id</th>\n",
       "      <th>target_organism</th>\n",
       "      <th>type</th>\n",
       "      <th>mean_standard_value</th>\n",
       "    </tr>\n",
       "  </thead>\n",
       "  <tbody>\n",
       "    <tr>\n",
       "      <th>0</th>\n",
       "      <td>185071</td>\n",
       "      <td>CHEMBL811761</td>\n",
       "      <td>Binding affinity was evaluated as inhibition o...</td>\n",
       "      <td>B</td>\n",
       "      <td>CHEMBL2364573</td>\n",
       "      <td>=</td>\n",
       "      <td>nM</td>\n",
       "      <td>4.7</td>\n",
       "      <td>CHEMBL1939</td>\n",
       "      <td>Plasmodium falciparum K1</td>\n",
       "      <td>Ki</td>\n",
       "      <td>4.7</td>\n",
       "    </tr>\n",
       "    <tr>\n",
       "      <th>1</th>\n",
       "      <td>187525</td>\n",
       "      <td>CHEMBL821379</td>\n",
       "      <td>Inhibitory activity against wild-type dihydrof...</td>\n",
       "      <td>B</td>\n",
       "      <td>CHEMBL324775</td>\n",
       "      <td>=</td>\n",
       "      <td>nM</td>\n",
       "      <td>3.1</td>\n",
       "      <td>CHEMBL1939</td>\n",
       "      <td>Plasmodium falciparum K1</td>\n",
       "      <td>Ki</td>\n",
       "      <td>3.1</td>\n",
       "    </tr>\n",
       "    <tr>\n",
       "      <th>2</th>\n",
       "      <td>188709</td>\n",
       "      <td>CHEMBL821379</td>\n",
       "      <td>Inhibitory activity against wild-type dihydrof...</td>\n",
       "      <td>B</td>\n",
       "      <td>CHEMBL416373</td>\n",
       "      <td>=</td>\n",
       "      <td>nM</td>\n",
       "      <td>0.4</td>\n",
       "      <td>CHEMBL1939</td>\n",
       "      <td>Plasmodium falciparum K1</td>\n",
       "      <td>Ki</td>\n",
       "      <td>0.4</td>\n",
       "    </tr>\n",
       "    <tr>\n",
       "      <th>3</th>\n",
       "      <td>189896</td>\n",
       "      <td>CHEMBL821379</td>\n",
       "      <td>Inhibitory activity against wild-type dihydrof...</td>\n",
       "      <td>B</td>\n",
       "      <td>CHEMBL291931</td>\n",
       "      <td>=</td>\n",
       "      <td>nM</td>\n",
       "      <td>7.2</td>\n",
       "      <td>CHEMBL1939</td>\n",
       "      <td>Plasmodium falciparum K1</td>\n",
       "      <td>Ki</td>\n",
       "      <td>7.2</td>\n",
       "    </tr>\n",
       "    <tr>\n",
       "      <th>4</th>\n",
       "      <td>189912</td>\n",
       "      <td>CHEMBL821379</td>\n",
       "      <td>Inhibitory activity against wild-type dihydrof...</td>\n",
       "      <td>B</td>\n",
       "      <td>CHEMBL119188</td>\n",
       "      <td>=</td>\n",
       "      <td>nM</td>\n",
       "      <td>0.6</td>\n",
       "      <td>CHEMBL1939</td>\n",
       "      <td>Plasmodium falciparum K1</td>\n",
       "      <td>Ki</td>\n",
       "      <td>0.6</td>\n",
       "    </tr>\n",
       "  </tbody>\n",
       "</table>\n",
       "</div>"
      ],
      "text/plain": [
       "   activity_id assay_chembl_id  \\\n",
       "0       185071    CHEMBL811761   \n",
       "1       187525    CHEMBL821379   \n",
       "2       188709    CHEMBL821379   \n",
       "3       189896    CHEMBL821379   \n",
       "4       189912    CHEMBL821379   \n",
       "\n",
       "                                   assay_description assay_type  \\\n",
       "0  Binding affinity was evaluated as inhibition o...          B   \n",
       "1  Inhibitory activity against wild-type dihydrof...          B   \n",
       "2  Inhibitory activity against wild-type dihydrof...          B   \n",
       "3  Inhibitory activity against wild-type dihydrof...          B   \n",
       "4  Inhibitory activity against wild-type dihydrof...          B   \n",
       "\n",
       "  molecule_chembl_id relation standard_units  first_standard_value  \\\n",
       "0      CHEMBL2364573        =             nM                   4.7   \n",
       "1       CHEMBL324775        =             nM                   3.1   \n",
       "2       CHEMBL416373        =             nM                   0.4   \n",
       "3       CHEMBL291931        =             nM                   7.2   \n",
       "4       CHEMBL119188        =             nM                   0.6   \n",
       "\n",
       "  target_chembl_id           target_organism type  mean_standard_value  \n",
       "0       CHEMBL1939  Plasmodium falciparum K1   Ki                  4.7  \n",
       "1       CHEMBL1939  Plasmodium falciparum K1   Ki                  3.1  \n",
       "2       CHEMBL1939  Plasmodium falciparum K1   Ki                  0.4  \n",
       "3       CHEMBL1939  Plasmodium falciparum K1   Ki                  7.2  \n",
       "4       CHEMBL1939  Plasmodium falciparum K1   Ki                  0.6  "
      ]
     },
     "execution_count": 21,
     "metadata": {},
     "output_type": "execute_result"
    }
   ],
   "source": [
    "merged_only_wt = pd.merge(only_wildtype_first, only_wildtype_mean, how='left', on='molecule_chembl_id')\n",
    "merged_only_wt.head(5)"
   ]
  },
  {
   "cell_type": "markdown",
   "metadata": {},
   "source": [
    "#### 5. Reseting the DF Index"
   ]
  },
  {
   "cell_type": "code",
   "execution_count": 22,
   "metadata": {},
   "outputs": [
    {
     "data": {
      "text/html": [
       "<div>\n",
       "<style scoped>\n",
       "    .dataframe tbody tr th:only-of-type {\n",
       "        vertical-align: middle;\n",
       "    }\n",
       "\n",
       "    .dataframe tbody tr th {\n",
       "        vertical-align: top;\n",
       "    }\n",
       "\n",
       "    .dataframe thead th {\n",
       "        text-align: right;\n",
       "    }\n",
       "</style>\n",
       "<table border=\"1\" class=\"dataframe\">\n",
       "  <thead>\n",
       "    <tr style=\"text-align: right;\">\n",
       "      <th></th>\n",
       "      <th>activity_id</th>\n",
       "      <th>assay_chembl_id</th>\n",
       "      <th>assay_description</th>\n",
       "      <th>assay_type</th>\n",
       "      <th>molecule_chembl_id</th>\n",
       "      <th>relation</th>\n",
       "      <th>standard_units</th>\n",
       "      <th>first_standard_value</th>\n",
       "      <th>target_chembl_id</th>\n",
       "      <th>target_organism</th>\n",
       "      <th>type</th>\n",
       "      <th>mean_standard_value</th>\n",
       "    </tr>\n",
       "  </thead>\n",
       "  <tbody>\n",
       "    <tr>\n",
       "      <th>0</th>\n",
       "      <td>185071</td>\n",
       "      <td>CHEMBL811761</td>\n",
       "      <td>Binding affinity was evaluated as inhibition o...</td>\n",
       "      <td>B</td>\n",
       "      <td>CHEMBL2364573</td>\n",
       "      <td>=</td>\n",
       "      <td>nM</td>\n",
       "      <td>4.7</td>\n",
       "      <td>CHEMBL1939</td>\n",
       "      <td>Plasmodium falciparum K1</td>\n",
       "      <td>Ki</td>\n",
       "      <td>4.7</td>\n",
       "    </tr>\n",
       "    <tr>\n",
       "      <th>1</th>\n",
       "      <td>187525</td>\n",
       "      <td>CHEMBL821379</td>\n",
       "      <td>Inhibitory activity against wild-type dihydrof...</td>\n",
       "      <td>B</td>\n",
       "      <td>CHEMBL324775</td>\n",
       "      <td>=</td>\n",
       "      <td>nM</td>\n",
       "      <td>3.1</td>\n",
       "      <td>CHEMBL1939</td>\n",
       "      <td>Plasmodium falciparum K1</td>\n",
       "      <td>Ki</td>\n",
       "      <td>3.1</td>\n",
       "    </tr>\n",
       "    <tr>\n",
       "      <th>2</th>\n",
       "      <td>188709</td>\n",
       "      <td>CHEMBL821379</td>\n",
       "      <td>Inhibitory activity against wild-type dihydrof...</td>\n",
       "      <td>B</td>\n",
       "      <td>CHEMBL416373</td>\n",
       "      <td>=</td>\n",
       "      <td>nM</td>\n",
       "      <td>0.4</td>\n",
       "      <td>CHEMBL1939</td>\n",
       "      <td>Plasmodium falciparum K1</td>\n",
       "      <td>Ki</td>\n",
       "      <td>0.4</td>\n",
       "    </tr>\n",
       "  </tbody>\n",
       "</table>\n",
       "</div>"
      ],
      "text/plain": [
       "   activity_id assay_chembl_id  \\\n",
       "0       185071    CHEMBL811761   \n",
       "1       187525    CHEMBL821379   \n",
       "2       188709    CHEMBL821379   \n",
       "\n",
       "                                   assay_description assay_type  \\\n",
       "0  Binding affinity was evaluated as inhibition o...          B   \n",
       "1  Inhibitory activity against wild-type dihydrof...          B   \n",
       "2  Inhibitory activity against wild-type dihydrof...          B   \n",
       "\n",
       "  molecule_chembl_id relation standard_units  first_standard_value  \\\n",
       "0      CHEMBL2364573        =             nM                   4.7   \n",
       "1       CHEMBL324775        =             nM                   3.1   \n",
       "2       CHEMBL416373        =             nM                   0.4   \n",
       "\n",
       "  target_chembl_id           target_organism type  mean_standard_value  \n",
       "0       CHEMBL1939  Plasmodium falciparum K1   Ki                  4.7  \n",
       "1       CHEMBL1939  Plasmodium falciparum K1   Ki                  3.1  \n",
       "2       CHEMBL1939  Plasmodium falciparum K1   Ki                  0.4  "
      ]
     },
     "execution_count": 22,
     "metadata": {},
     "output_type": "execute_result"
    }
   ],
   "source": [
    "merged_only_wt.reset_index(inplace=True, drop=True)\n",
    "merged_only_wt.head(3)"
   ]
  },
  {
   "attachments": {},
   "cell_type": "markdown",
   "metadata": {},
   "source": [
    "#### 6. Renaming and reordering the columns"
   ]
  },
  {
   "cell_type": "code",
   "execution_count": 24,
   "metadata": {},
   "outputs": [
    {
     "data": {
      "text/html": [
       "<div>\n",
       "<style scoped>\n",
       "    .dataframe tbody tr th:only-of-type {\n",
       "        vertical-align: middle;\n",
       "    }\n",
       "\n",
       "    .dataframe tbody tr th {\n",
       "        vertical-align: top;\n",
       "    }\n",
       "\n",
       "    .dataframe thead th {\n",
       "        text-align: right;\n",
       "    }\n",
       "</style>\n",
       "<table border=\"1\" class=\"dataframe\">\n",
       "  <thead>\n",
       "    <tr style=\"text-align: right;\">\n",
       "      <th></th>\n",
       "      <th>activity_id</th>\n",
       "      <th>assay_chembl_id</th>\n",
       "      <th>assay_description</th>\n",
       "      <th>assay_type</th>\n",
       "      <th>molecule_chembl_id</th>\n",
       "      <th>relation</th>\n",
       "      <th>first_standard_value</th>\n",
       "      <th>mean_standard_value</th>\n",
       "      <th>standard_units</th>\n",
       "      <th>target_chembl_id</th>\n",
       "      <th>target_organism</th>\n",
       "    </tr>\n",
       "  </thead>\n",
       "  <tbody>\n",
       "    <tr>\n",
       "      <th>0</th>\n",
       "      <td>185071</td>\n",
       "      <td>CHEMBL811761</td>\n",
       "      <td>Binding affinity was evaluated as inhibition o...</td>\n",
       "      <td>B</td>\n",
       "      <td>CHEMBL2364573</td>\n",
       "      <td>=</td>\n",
       "      <td>4.7</td>\n",
       "      <td>4.7</td>\n",
       "      <td>nM</td>\n",
       "      <td>CHEMBL1939</td>\n",
       "      <td>Plasmodium falciparum K1</td>\n",
       "    </tr>\n",
       "    <tr>\n",
       "      <th>1</th>\n",
       "      <td>187525</td>\n",
       "      <td>CHEMBL821379</td>\n",
       "      <td>Inhibitory activity against wild-type dihydrof...</td>\n",
       "      <td>B</td>\n",
       "      <td>CHEMBL324775</td>\n",
       "      <td>=</td>\n",
       "      <td>3.1</td>\n",
       "      <td>3.1</td>\n",
       "      <td>nM</td>\n",
       "      <td>CHEMBL1939</td>\n",
       "      <td>Plasmodium falciparum K1</td>\n",
       "    </tr>\n",
       "    <tr>\n",
       "      <th>2</th>\n",
       "      <td>188709</td>\n",
       "      <td>CHEMBL821379</td>\n",
       "      <td>Inhibitory activity against wild-type dihydrof...</td>\n",
       "      <td>B</td>\n",
       "      <td>CHEMBL416373</td>\n",
       "      <td>=</td>\n",
       "      <td>0.4</td>\n",
       "      <td>0.4</td>\n",
       "      <td>nM</td>\n",
       "      <td>CHEMBL1939</td>\n",
       "      <td>Plasmodium falciparum K1</td>\n",
       "    </tr>\n",
       "  </tbody>\n",
       "</table>\n",
       "</div>"
      ],
      "text/plain": [
       "   activity_id assay_chembl_id  \\\n",
       "0       185071    CHEMBL811761   \n",
       "1       187525    CHEMBL821379   \n",
       "2       188709    CHEMBL821379   \n",
       "\n",
       "                                   assay_description assay_type  \\\n",
       "0  Binding affinity was evaluated as inhibition o...          B   \n",
       "1  Inhibitory activity against wild-type dihydrof...          B   \n",
       "2  Inhibitory activity against wild-type dihydrof...          B   \n",
       "\n",
       "  molecule_chembl_id relation  first_standard_value  mean_standard_value  \\\n",
       "0      CHEMBL2364573        =                   4.7                  4.7   \n",
       "1       CHEMBL324775        =                   3.1                  3.1   \n",
       "2       CHEMBL416373        =                   0.4                  0.4   \n",
       "\n",
       "  standard_units target_chembl_id           target_organism  \n",
       "0             nM       CHEMBL1939  Plasmodium falciparum K1  \n",
       "1             nM       CHEMBL1939  Plasmodium falciparum K1  \n",
       "2             nM       CHEMBL1939  Plasmodium falciparum K1  "
      ]
     },
     "execution_count": 24,
     "metadata": {},
     "output_type": "execute_result"
    }
   ],
   "source": [
    "# We already renamed the columns so we only need to redordem them.\n",
    "\n",
    "merged_only_wt = merged_only_wt[['activity_id', 'assay_chembl_id', 'assay_description', 'assay_type', 'molecule_chembl_id', 'relation', 'first_standard_value', 'mean_standard_value', 'standard_units', 'target_chembl_id', 'target_organism']]\n",
    "merged_only_wt.head(3)"
   ]
  },
  {
   "attachments": {},
   "cell_type": "markdown",
   "metadata": {},
   "source": [
    "### Download the compound data from ChEMBL"
   ]
  },
  {
   "attachments": {},
   "cell_type": "markdown",
   "metadata": {},
   "source": [
    "Finally download the compound data from the ChEMBL database, again using hte API from the site:"
   ]
  },
  {
   "cell_type": "code",
   "execution_count": 25,
   "metadata": {},
   "outputs": [
    {
     "data": {
      "application/vnd.jupyter.widget-view+json": {
       "model_id": "6e279c7e1d024f7abf6fc30cac431484",
       "version_major": 2,
       "version_minor": 0
      },
      "text/plain": [
       "  0%|          | 0/145 [00:00<?, ?it/s]"
      ]
     },
     "metadata": {},
     "output_type": "display_data"
    }
   ],
   "source": [
    "compounds_provider = compounds_api.filter(\n",
    "    molecule_chembl_id__in=list(merged_only_wt['molecule_chembl_id'])\n",
    ").only('molecule_chembl_id', 'molecule_structures')\n",
    "\n",
    "compounds = list(tqdm(compounds_provider))"
   ]
  },
  {
   "attachments": {},
   "cell_type": "markdown",
   "metadata": {},
   "source": [
    "After wating for the compounds to be fetched, we can see the SMILES gathered:"
   ]
  },
  {
   "cell_type": "code",
   "execution_count": 26,
   "metadata": {},
   "outputs": [
    {
     "name": "stdout",
     "output_type": "stream",
     "text": [
      "(145, 2)\n"
     ]
    },
    {
     "data": {
      "text/html": [
       "<div>\n",
       "<style scoped>\n",
       "    .dataframe tbody tr th:only-of-type {\n",
       "        vertical-align: middle;\n",
       "    }\n",
       "\n",
       "    .dataframe tbody tr th {\n",
       "        vertical-align: top;\n",
       "    }\n",
       "\n",
       "    .dataframe thead th {\n",
       "        text-align: right;\n",
       "    }\n",
       "</style>\n",
       "<table border=\"1\" class=\"dataframe\">\n",
       "  <thead>\n",
       "    <tr style=\"text-align: right;\">\n",
       "      <th></th>\n",
       "      <th>molecule_chembl_id</th>\n",
       "      <th>molecule_structures</th>\n",
       "    </tr>\n",
       "  </thead>\n",
       "  <tbody>\n",
       "    <tr>\n",
       "      <th>0</th>\n",
       "      <td>CHEMBL7004</td>\n",
       "      <td>{'canonical_smiles': 'Cc1ccc(N2C(N)=NC(N)=NC2(...</td>\n",
       "    </tr>\n",
       "    <tr>\n",
       "      <th>1</th>\n",
       "      <td>CHEMBL7005</td>\n",
       "      <td>{'canonical_smiles': 'CC1(C)N=C(N)N=C(N)N1c1cc...</td>\n",
       "    </tr>\n",
       "    <tr>\n",
       "      <th>2</th>\n",
       "      <td>CHEMBL6741</td>\n",
       "      <td>{'canonical_smiles': 'CC1(C)N=C(N)N=C(N)N1c1cc...</td>\n",
       "    </tr>\n",
       "    <tr>\n",
       "      <th>3</th>\n",
       "      <td>CHEMBL6742</td>\n",
       "      <td>{'canonical_smiles': 'CC1(C)N=C(N)N=C(N)N1c1cc...</td>\n",
       "    </tr>\n",
       "    <tr>\n",
       "      <th>4</th>\n",
       "      <td>CHEMBL22</td>\n",
       "      <td>{'canonical_smiles': 'COc1cc(Cc2cnc(N)nc2N)cc(...</td>\n",
       "    </tr>\n",
       "  </tbody>\n",
       "</table>\n",
       "</div>"
      ],
      "text/plain": [
       "  molecule_chembl_id                                molecule_structures\n",
       "0         CHEMBL7004  {'canonical_smiles': 'Cc1ccc(N2C(N)=NC(N)=NC2(...\n",
       "1         CHEMBL7005  {'canonical_smiles': 'CC1(C)N=C(N)N=C(N)N1c1cc...\n",
       "2         CHEMBL6741  {'canonical_smiles': 'CC1(C)N=C(N)N=C(N)N1c1cc...\n",
       "3         CHEMBL6742  {'canonical_smiles': 'CC1(C)N=C(N)N=C(N)N1c1cc...\n",
       "4           CHEMBL22  {'canonical_smiles': 'COc1cc(Cc2cnc(N)nc2N)cc(..."
      ]
     },
     "execution_count": 26,
     "metadata": {},
     "output_type": "execute_result"
    }
   ],
   "source": [
    "compounds_df = pd.DataFrame.from_records(compounds)\n",
    "print(compounds_df.shape)\n",
    "compounds_df.head(5)"
   ]
  },
  {
   "attachments": {},
   "cell_type": "markdown",
   "metadata": {},
   "source": [
    "We have to perform the following steps:\n",
    "\n",
    "1. Remove the entries with missing structures\n",
    "2. Delete duplicate molecule by `molecule_chembl_id` variable\n",
    "3. Get only molecules with **Canonical SMILES**"
   ]
  },
  {
   "attachments": {},
   "cell_type": "markdown",
   "metadata": {},
   "source": [
    "#### 1. Removing missing structures"
   ]
  },
  {
   "cell_type": "code",
   "execution_count": 27,
   "metadata": {},
   "outputs": [
    {
     "name": "stdout",
     "output_type": "stream",
     "text": [
      "145\n"
     ]
    }
   ],
   "source": [
    "compounds_df.dropna(axis=0, how='any', inplace=True)\n",
    "print(compounds_df.shape[0])"
   ]
  },
  {
   "attachments": {},
   "cell_type": "markdown",
   "metadata": {},
   "source": [
    "#### 2. Delete duplicates"
   ]
  },
  {
   "cell_type": "code",
   "execution_count": 28,
   "metadata": {},
   "outputs": [
    {
     "name": "stdout",
     "output_type": "stream",
     "text": [
      "145\n"
     ]
    }
   ],
   "source": [
    "compounds_df.drop_duplicates('molecule_chembl_id', keep = 'first', inplace = True)\n",
    "print(compounds_df.shape[0])"
   ]
  },
  {
   "attachments": {},
   "cell_type": "markdown",
   "metadata": {},
   "source": [
    "#### 3. Only Canonical SMILES"
   ]
  },
  {
   "attachments": {},
   "cell_type": "markdown",
   "metadata": {},
   "source": [
    "As one can see, we have multiple outputs for the structure gathered in `compounds_df`, but we only want to keep the canonical_smiles information."
   ]
  },
  {
   "cell_type": "code",
   "execution_count": 29,
   "metadata": {},
   "outputs": [
    {
     "data": {
      "text/plain": [
       "dict_keys(['canonical_smiles', 'molfile', 'standard_inchi', 'standard_inchi_key'])"
      ]
     },
     "execution_count": 29,
     "metadata": {},
     "output_type": "execute_result"
    }
   ],
   "source": [
    "compounds_df.iloc[0].molecule_structures.keys()"
   ]
  },
  {
   "attachments": {},
   "cell_type": "markdown",
   "metadata": {},
   "source": [
    "We can do a `for` loop to retrieve only the canonical_smiles key. That's what we do below:"
   ]
  },
  {
   "cell_type": "code",
   "execution_count": 32,
   "metadata": {},
   "outputs": [],
   "source": [
    "canonical_smiles = []\n",
    "\n",
    "for i, compounds in compounds_df.iterrows():\n",
    "    try:\n",
    "        canonical_smiles.append(compounds['molecule_structures']['canonical_smiles'])\n",
    "\n",
    "    except KeyError:\n",
    "        canonical_smiles.append(None)\n",
    "\n",
    "compounds_df['smiles'] = canonical_smiles\n",
    "compounds_df.drop('molecule_structures', axis=1, inplace=True)"
   ]
  },
  {
   "attachments": {},
   "cell_type": "markdown",
   "metadata": {},
   "source": [
    "**Sanity check:** to see if there is any NA value appeded before"
   ]
  },
  {
   "cell_type": "code",
   "execution_count": 33,
   "metadata": {},
   "outputs": [
    {
     "name": "stdout",
     "output_type": "stream",
     "text": [
      "The shape of the compounds dataset is: (145, 2)\n"
     ]
    },
    {
     "data": {
      "text/html": [
       "<div>\n",
       "<style scoped>\n",
       "    .dataframe tbody tr th:only-of-type {\n",
       "        vertical-align: middle;\n",
       "    }\n",
       "\n",
       "    .dataframe tbody tr th {\n",
       "        vertical-align: top;\n",
       "    }\n",
       "\n",
       "    .dataframe thead th {\n",
       "        text-align: right;\n",
       "    }\n",
       "</style>\n",
       "<table border=\"1\" class=\"dataframe\">\n",
       "  <thead>\n",
       "    <tr style=\"text-align: right;\">\n",
       "      <th></th>\n",
       "      <th>molecule_chembl_id</th>\n",
       "      <th>smiles</th>\n",
       "    </tr>\n",
       "  </thead>\n",
       "  <tbody>\n",
       "    <tr>\n",
       "      <th>0</th>\n",
       "      <td>CHEMBL7004</td>\n",
       "      <td>Cc1ccc(N2C(N)=NC(N)=NC2(C)C)cc1</td>\n",
       "    </tr>\n",
       "    <tr>\n",
       "      <th>1</th>\n",
       "      <td>CHEMBL7005</td>\n",
       "      <td>CC1(C)N=C(N)N=C(N)N1c1ccc(F)cc1</td>\n",
       "    </tr>\n",
       "    <tr>\n",
       "      <th>2</th>\n",
       "      <td>CHEMBL6741</td>\n",
       "      <td>CC1(C)N=C(N)N=C(N)N1c1ccc(Br)cc1</td>\n",
       "    </tr>\n",
       "  </tbody>\n",
       "</table>\n",
       "</div>"
      ],
      "text/plain": [
       "  molecule_chembl_id                            smiles\n",
       "0         CHEMBL7004   Cc1ccc(N2C(N)=NC(N)=NC2(C)C)cc1\n",
       "1         CHEMBL7005   CC1(C)N=C(N)N=C(N)N1c1ccc(F)cc1\n",
       "2         CHEMBL6741  CC1(C)N=C(N)N=C(N)N1c1ccc(Br)cc1"
      ]
     },
     "execution_count": 33,
     "metadata": {},
     "output_type": "execute_result"
    }
   ],
   "source": [
    "compounds_df.dropna(axis=0, how='any', inplace=True)\n",
    "print(f\"The shape of the compounds dataset is: {compounds_df.shape}\")\n",
    "compounds_df.head(3)"
   ]
  },
  {
   "attachments": {},
   "cell_type": "markdown",
   "metadata": {},
   "source": [
    "### Output of the data"
   ]
  },
  {
   "attachments": {},
   "cell_type": "markdown",
   "metadata": {},
   "source": [
    "Doing a summary of the data that we have gathered so far, that is: the `merged_only_wt` and the `compounds_df`. The first one contains the biological activities and the second one contains the smiles respective to each `molecule_chembl_id`."
   ]
  },
  {
   "cell_type": "code",
   "execution_count": 34,
   "metadata": {},
   "outputs": [
    {
     "name": "stdout",
     "output_type": "stream",
     "text": [
      "Total molecule_ids retrieved from ChEMBL for our plasmodium target: 145\n",
      "\n"
     ]
    },
    {
     "data": {
      "text/plain": [
       "Index(['activity_id', 'assay_chembl_id', 'assay_description', 'assay_type',\n",
       "       'molecule_chembl_id', 'relation', 'first_standard_value',\n",
       "       'mean_standard_value', 'standard_units', 'target_chembl_id',\n",
       "       'target_organism'],\n",
       "      dtype='object')"
      ]
     },
     "execution_count": 34,
     "metadata": {},
     "output_type": "execute_result"
    }
   ],
   "source": [
    "print(f\"Total molecule_ids retrieved from ChEMBL for our plasmodium target: {merged_only_wt.shape[0]}\\n\")\n",
    "merged_only_wt.columns"
   ]
  },
  {
   "attachments": {},
   "cell_type": "markdown",
   "metadata": {},
   "source": [
    "For instance, the `canonical_smiles` fetched, we have:"
   ]
  },
  {
   "cell_type": "code",
   "execution_count": 35,
   "metadata": {},
   "outputs": [
    {
     "name": "stdout",
     "output_type": "stream",
     "text": [
      "Total canonical_smiles fetched for our plasmodium target: 145\n",
      "\n"
     ]
    },
    {
     "data": {
      "text/plain": [
       "Index(['molecule_chembl_id', 'smiles'], dtype='object')"
      ]
     },
     "execution_count": 35,
     "metadata": {},
     "output_type": "execute_result"
    }
   ],
   "source": [
    "print(f\"Total canonical_smiles fetched for our plasmodium target: {compounds_df.shape[0]}\\n\")\n",
    "\n",
    "compounds_df.columns"
   ]
  },
  {
   "attachments": {},
   "cell_type": "markdown",
   "metadata": {},
   "source": [
    "### Merge both datasets"
   ]
  },
  {
   "attachments": {},
   "cell_type": "markdown",
   "metadata": {},
   "source": [
    "Merging both datasets so we can do a `csv` of our outputs and get a preprocessed data to pipe into the cleaning process. We're basically going to merge the datasets and keep the following columns:\n",
    "\n",
    "* ChEMBL IDs: `molecule_chembl_id`\n",
    "* SMILES: `smiles`\n",
    "* Units: `standard_units`\n",
    "* First Ki: `first_standard_value`\n",
    "* Mean Ki: `mean_standard_value`\n",
    "* Standard Units: `standard_units`\n",
    "* Target: `target_organism`"
   ]
  },
  {
   "cell_type": "code",
   "execution_count": 36,
   "metadata": {},
   "outputs": [
    {
     "data": {
      "text/html": [
       "<div>\n",
       "<style scoped>\n",
       "    .dataframe tbody tr th:only-of-type {\n",
       "        vertical-align: middle;\n",
       "    }\n",
       "\n",
       "    .dataframe tbody tr th {\n",
       "        vertical-align: top;\n",
       "    }\n",
       "\n",
       "    .dataframe thead th {\n",
       "        text-align: right;\n",
       "    }\n",
       "</style>\n",
       "<table border=\"1\" class=\"dataframe\">\n",
       "  <thead>\n",
       "    <tr style=\"text-align: right;\">\n",
       "      <th></th>\n",
       "      <th>molecule_chembl_id</th>\n",
       "      <th>first_standard_value</th>\n",
       "      <th>mean_standard_value</th>\n",
       "      <th>standard_units</th>\n",
       "      <th>target_organism</th>\n",
       "      <th>smiles</th>\n",
       "    </tr>\n",
       "  </thead>\n",
       "  <tbody>\n",
       "    <tr>\n",
       "      <th>0</th>\n",
       "      <td>CHEMBL2364573</td>\n",
       "      <td>4.7</td>\n",
       "      <td>4.7</td>\n",
       "      <td>nM</td>\n",
       "      <td>Plasmodium falciparum K1</td>\n",
       "      <td>NC(=O)c1ccc[n+]([C@H]2O[C@@H](COP(=O)([O-])OP(...</td>\n",
       "    </tr>\n",
       "    <tr>\n",
       "      <th>1</th>\n",
       "      <td>CHEMBL324775</td>\n",
       "      <td>3.1</td>\n",
       "      <td>3.1</td>\n",
       "      <td>nM</td>\n",
       "      <td>Plasmodium falciparum K1</td>\n",
       "      <td>CCCCCCCOc1cc(Cc2cnc(N)nc2N)ccc1OC</td>\n",
       "    </tr>\n",
       "    <tr>\n",
       "      <th>2</th>\n",
       "      <td>CHEMBL416373</td>\n",
       "      <td>0.4</td>\n",
       "      <td>0.4</td>\n",
       "      <td>nM</td>\n",
       "      <td>Plasmodium falciparum K1</td>\n",
       "      <td>CCCCOc1cc(Cc2cnc(N)nc2N)ccc1OCc1cc(OC)c(OC)c(O...</td>\n",
       "    </tr>\n",
       "    <tr>\n",
       "      <th>3</th>\n",
       "      <td>CHEMBL291931</td>\n",
       "      <td>7.2</td>\n",
       "      <td>7.2</td>\n",
       "      <td>nM</td>\n",
       "      <td>Plasmodium falciparum K1</td>\n",
       "      <td>COc1ccc(Cc2cnc(N)nc2N)cc1OCc1ccccc1</td>\n",
       "    </tr>\n",
       "    <tr>\n",
       "      <th>4</th>\n",
       "      <td>CHEMBL119188</td>\n",
       "      <td>0.6</td>\n",
       "      <td>0.6</td>\n",
       "      <td>nM</td>\n",
       "      <td>Plasmodium falciparum K1</td>\n",
       "      <td>CCOc1cc(Cc2cnc(N)nc2N)ccc1OCCCOc1ccccc1</td>\n",
       "    </tr>\n",
       "  </tbody>\n",
       "</table>\n",
       "</div>"
      ],
      "text/plain": [
       "  molecule_chembl_id  first_standard_value  mean_standard_value  \\\n",
       "0      CHEMBL2364573                   4.7                  4.7   \n",
       "1       CHEMBL324775                   3.1                  3.1   \n",
       "2       CHEMBL416373                   0.4                  0.4   \n",
       "3       CHEMBL291931                   7.2                  7.2   \n",
       "4       CHEMBL119188                   0.6                  0.6   \n",
       "\n",
       "  standard_units           target_organism  \\\n",
       "0             nM  Plasmodium falciparum K1   \n",
       "1             nM  Plasmodium falciparum K1   \n",
       "2             nM  Plasmodium falciparum K1   \n",
       "3             nM  Plasmodium falciparum K1   \n",
       "4             nM  Plasmodium falciparum K1   \n",
       "\n",
       "                                              smiles  \n",
       "0  NC(=O)c1ccc[n+]([C@H]2O[C@@H](COP(=O)([O-])OP(...  \n",
       "1                  CCCCCCCOc1cc(Cc2cnc(N)nc2N)ccc1OC  \n",
       "2  CCCCOc1cc(Cc2cnc(N)nc2N)ccc1OCc1cc(OC)c(OC)c(O...  \n",
       "3                COc1ccc(Cc2cnc(N)nc2N)cc1OCc1ccccc1  \n",
       "4            CCOc1cc(Cc2cnc(N)nc2N)ccc1OCCCOc1ccccc1  "
      ]
     },
     "execution_count": 36,
     "metadata": {},
     "output_type": "execute_result"
    }
   ],
   "source": [
    "# Merging both datasets\n",
    "only_wt_chembl_df = pd.merge(\n",
    "    merged_only_wt[['molecule_chembl_id', 'first_standard_value', 'mean_standard_value', 'standard_units', 'target_organism']],\n",
    "    compounds_df,\n",
    "    on='molecule_chembl_id'\n",
    ")\n",
    "\n",
    "only_wt_chembl_df.head(5)"
   ]
  },
  {
   "attachments": {},
   "cell_type": "markdown",
   "metadata": {},
   "source": [
    "### Add pKi values\n",
    "\n",
    "It is widely known to the QSAR community that, converting raw Ki numbers to pKi is an important step into the modeling pipeline. Because of that, we need to transform our previously collect Ki values into pKi values. First we make a function to convert pKi to Ki `convert_pki` and use the `apply` method in the vertical axis=1."
   ]
  },
  {
   "cell_type": "code",
   "execution_count": 37,
   "metadata": {},
   "outputs": [],
   "source": [
    "# Define a function that convert the Ki to pKi\n",
    "def convert_pki(Ki):\n",
    "    pKi_value = 9 - math.log10(Ki)\n",
    "    return pKi_value"
   ]
  },
  {
   "cell_type": "code",
   "execution_count": 38,
   "metadata": {},
   "outputs": [
    {
     "data": {
      "text/html": [
       "<div>\n",
       "<style scoped>\n",
       "    .dataframe tbody tr th:only-of-type {\n",
       "        vertical-align: middle;\n",
       "    }\n",
       "\n",
       "    .dataframe tbody tr th {\n",
       "        vertical-align: top;\n",
       "    }\n",
       "\n",
       "    .dataframe thead th {\n",
       "        text-align: right;\n",
       "    }\n",
       "</style>\n",
       "<table border=\"1\" class=\"dataframe\">\n",
       "  <thead>\n",
       "    <tr style=\"text-align: right;\">\n",
       "      <th></th>\n",
       "      <th>molecule_chembl_id</th>\n",
       "      <th>first_standard_value</th>\n",
       "      <th>mean_standard_value</th>\n",
       "      <th>standard_units</th>\n",
       "      <th>target_organism</th>\n",
       "      <th>smiles</th>\n",
       "      <th>pKi_mean_value</th>\n",
       "      <th>pKi_first_value</th>\n",
       "    </tr>\n",
       "  </thead>\n",
       "  <tbody>\n",
       "    <tr>\n",
       "      <th>0</th>\n",
       "      <td>CHEMBL2364573</td>\n",
       "      <td>4.7</td>\n",
       "      <td>4.7</td>\n",
       "      <td>nM</td>\n",
       "      <td>Plasmodium falciparum K1</td>\n",
       "      <td>NC(=O)c1ccc[n+]([C@H]2O[C@@H](COP(=O)([O-])OP(...</td>\n",
       "      <td>8.327902</td>\n",
       "      <td>8.327902</td>\n",
       "    </tr>\n",
       "    <tr>\n",
       "      <th>1</th>\n",
       "      <td>CHEMBL324775</td>\n",
       "      <td>3.1</td>\n",
       "      <td>3.1</td>\n",
       "      <td>nM</td>\n",
       "      <td>Plasmodium falciparum K1</td>\n",
       "      <td>CCCCCCCOc1cc(Cc2cnc(N)nc2N)ccc1OC</td>\n",
       "      <td>8.508638</td>\n",
       "      <td>8.508638</td>\n",
       "    </tr>\n",
       "    <tr>\n",
       "      <th>2</th>\n",
       "      <td>CHEMBL416373</td>\n",
       "      <td>0.4</td>\n",
       "      <td>0.4</td>\n",
       "      <td>nM</td>\n",
       "      <td>Plasmodium falciparum K1</td>\n",
       "      <td>CCCCOc1cc(Cc2cnc(N)nc2N)ccc1OCc1cc(OC)c(OC)c(O...</td>\n",
       "      <td>9.397940</td>\n",
       "      <td>9.397940</td>\n",
       "    </tr>\n",
       "    <tr>\n",
       "      <th>3</th>\n",
       "      <td>CHEMBL291931</td>\n",
       "      <td>7.2</td>\n",
       "      <td>7.2</td>\n",
       "      <td>nM</td>\n",
       "      <td>Plasmodium falciparum K1</td>\n",
       "      <td>COc1ccc(Cc2cnc(N)nc2N)cc1OCc1ccccc1</td>\n",
       "      <td>8.142668</td>\n",
       "      <td>8.142668</td>\n",
       "    </tr>\n",
       "    <tr>\n",
       "      <th>4</th>\n",
       "      <td>CHEMBL119188</td>\n",
       "      <td>0.6</td>\n",
       "      <td>0.6</td>\n",
       "      <td>nM</td>\n",
       "      <td>Plasmodium falciparum K1</td>\n",
       "      <td>CCOc1cc(Cc2cnc(N)nc2N)ccc1OCCCOc1ccccc1</td>\n",
       "      <td>9.221849</td>\n",
       "      <td>9.221849</td>\n",
       "    </tr>\n",
       "  </tbody>\n",
       "</table>\n",
       "</div>"
      ],
      "text/plain": [
       "  molecule_chembl_id  first_standard_value  mean_standard_value  \\\n",
       "0      CHEMBL2364573                   4.7                  4.7   \n",
       "1       CHEMBL324775                   3.1                  3.1   \n",
       "2       CHEMBL416373                   0.4                  0.4   \n",
       "3       CHEMBL291931                   7.2                  7.2   \n",
       "4       CHEMBL119188                   0.6                  0.6   \n",
       "\n",
       "  standard_units           target_organism  \\\n",
       "0             nM  Plasmodium falciparum K1   \n",
       "1             nM  Plasmodium falciparum K1   \n",
       "2             nM  Plasmodium falciparum K1   \n",
       "3             nM  Plasmodium falciparum K1   \n",
       "4             nM  Plasmodium falciparum K1   \n",
       "\n",
       "                                              smiles  pKi_mean_value  \\\n",
       "0  NC(=O)c1ccc[n+]([C@H]2O[C@@H](COP(=O)([O-])OP(...        8.327902   \n",
       "1                  CCCCCCCOc1cc(Cc2cnc(N)nc2N)ccc1OC        8.508638   \n",
       "2  CCCCOc1cc(Cc2cnc(N)nc2N)ccc1OCc1cc(OC)c(OC)c(O...        9.397940   \n",
       "3                COc1ccc(Cc2cnc(N)nc2N)cc1OCc1ccccc1        8.142668   \n",
       "4            CCOc1cc(Cc2cnc(N)nc2N)ccc1OCCCOc1ccccc1        9.221849   \n",
       "\n",
       "   pKi_first_value  \n",
       "0         8.327902  \n",
       "1         8.508638  \n",
       "2         9.397940  \n",
       "3         8.142668  \n",
       "4         9.221849  "
      ]
     },
     "execution_count": 38,
     "metadata": {},
     "output_type": "execute_result"
    }
   ],
   "source": [
    "only_wt_chembl_df['pKi_mean_value'] = only_wt_chembl_df.apply(lambda x: convert_pki(x.mean_standard_value), axis=1)\n",
    "\n",
    "only_wt_chembl_df['pKi_first_value'] = only_wt_chembl_df.apply(lambda x: convert_pki(x.first_standard_value), axis=1)\n",
    "\n",
    "only_wt_chembl_df.head(5)"
   ]
  },
  {
   "attachments": {},
   "cell_type": "markdown",
   "metadata": {},
   "source": [
    "Our final dataset can be further curated and streamlined into the following process steps now, we just need to save it into an appropriate '.csv' file to be incorporated in further scripts."
   ]
  },
  {
   "attachments": {},
   "cell_type": "markdown",
   "metadata": {},
   "source": [
    "### Drawing the distributions"
   ]
  },
  {
   "cell_type": "code",
   "execution_count": 39,
   "metadata": {},
   "outputs": [
    {
     "data": {
      "text/plain": [
       "array([[<AxesSubplot: title={'center': 'pKi_mean_value'}>]], dtype=object)"
      ]
     },
     "execution_count": 39,
     "metadata": {},
     "output_type": "execute_result"
    },
    {
     "data": {
      "image/png": "[encoded data removed]",
      "text/plain": [
       "<Figure size 640x480 with 1 Axes>"
      ]
     },
     "metadata": {},
     "output_type": "display_data"
    }
   ],
   "source": [
    "only_wt_chembl_df.hist(column='pKi_mean_value')"
   ]
  },
  {
   "cell_type": "code",
   "execution_count": 40,
   "metadata": {},
   "outputs": [
    {
     "data": {
      "text/plain": [
       "array([[<AxesSubplot: title={'center': 'pKi_first_value'}>]], dtype=object)"
      ]
     },
     "execution_count": 40,
     "metadata": {},
     "output_type": "execute_result"
    },
    {
     "data": {
      "image/png": "[encoded data removed]",
      "text/plain": [
       "<Figure size 640x480 with 1 Axes>"
      ]
     },
     "metadata": {},
     "output_type": "display_data"
    }
   ],
   "source": [
    "only_wt_chembl_df.hist(column='pKi_first_value')"
   ]
  },
  {
   "attachments": {},
   "cell_type": "markdown",
   "metadata": {},
   "source": [
    "### Saving the final output (csv)"
   ]
  },
  {
   "attachments": {},
   "cell_type": "markdown",
   "metadata": {},
   "source": [
    "We need to reorder the columns to save it as a `csv` file:"
   ]
  },
  {
   "cell_type": "code",
   "execution_count": 41,
   "metadata": {},
   "outputs": [
    {
     "data": {
      "text/html": [
       "<div>\n",
       "<style scoped>\n",
       "    .dataframe tbody tr th:only-of-type {\n",
       "        vertical-align: middle;\n",
       "    }\n",
       "\n",
       "    .dataframe tbody tr th {\n",
       "        vertical-align: top;\n",
       "    }\n",
       "\n",
       "    .dataframe thead th {\n",
       "        text-align: right;\n",
       "    }\n",
       "</style>\n",
       "<table border=\"1\" class=\"dataframe\">\n",
       "  <thead>\n",
       "    <tr style=\"text-align: right;\">\n",
       "      <th></th>\n",
       "      <th>molecule_chembl_id</th>\n",
       "      <th>smiles</th>\n",
       "      <th>pKi_mean_value</th>\n",
       "      <th>mean_standard_value</th>\n",
       "      <th>pKi_first_value</th>\n",
       "      <th>first_standard_value</th>\n",
       "      <th>standard_units</th>\n",
       "      <th>target_organism</th>\n",
       "    </tr>\n",
       "  </thead>\n",
       "  <tbody>\n",
       "    <tr>\n",
       "      <th>0</th>\n",
       "      <td>CHEMBL2364573</td>\n",
       "      <td>NC(=O)c1ccc[n+]([C@H]2O[C@@H](COP(=O)([O-])OP(...</td>\n",
       "      <td>8.327902</td>\n",
       "      <td>4.7</td>\n",
       "      <td>8.327902</td>\n",
       "      <td>4.7</td>\n",
       "      <td>nM</td>\n",
       "      <td>Plasmodium falciparum K1</td>\n",
       "    </tr>\n",
       "    <tr>\n",
       "      <th>1</th>\n",
       "      <td>CHEMBL324775</td>\n",
       "      <td>CCCCCCCOc1cc(Cc2cnc(N)nc2N)ccc1OC</td>\n",
       "      <td>8.508638</td>\n",
       "      <td>3.1</td>\n",
       "      <td>8.508638</td>\n",
       "      <td>3.1</td>\n",
       "      <td>nM</td>\n",
       "      <td>Plasmodium falciparum K1</td>\n",
       "    </tr>\n",
       "    <tr>\n",
       "      <th>2</th>\n",
       "      <td>CHEMBL416373</td>\n",
       "      <td>CCCCOc1cc(Cc2cnc(N)nc2N)ccc1OCc1cc(OC)c(OC)c(O...</td>\n",
       "      <td>9.397940</td>\n",
       "      <td>0.4</td>\n",
       "      <td>9.397940</td>\n",
       "      <td>0.4</td>\n",
       "      <td>nM</td>\n",
       "      <td>Plasmodium falciparum K1</td>\n",
       "    </tr>\n",
       "    <tr>\n",
       "      <th>3</th>\n",
       "      <td>CHEMBL291931</td>\n",
       "      <td>COc1ccc(Cc2cnc(N)nc2N)cc1OCc1ccccc1</td>\n",
       "      <td>8.142668</td>\n",
       "      <td>7.2</td>\n",
       "      <td>8.142668</td>\n",
       "      <td>7.2</td>\n",
       "      <td>nM</td>\n",
       "      <td>Plasmodium falciparum K1</td>\n",
       "    </tr>\n",
       "    <tr>\n",
       "      <th>4</th>\n",
       "      <td>CHEMBL119188</td>\n",
       "      <td>CCOc1cc(Cc2cnc(N)nc2N)ccc1OCCCOc1ccccc1</td>\n",
       "      <td>9.221849</td>\n",
       "      <td>0.6</td>\n",
       "      <td>9.221849</td>\n",
       "      <td>0.6</td>\n",
       "      <td>nM</td>\n",
       "      <td>Plasmodium falciparum K1</td>\n",
       "    </tr>\n",
       "  </tbody>\n",
       "</table>\n",
       "</div>"
      ],
      "text/plain": [
       "  molecule_chembl_id                                             smiles  \\\n",
       "0      CHEMBL2364573  NC(=O)c1ccc[n+]([C@H]2O[C@@H](COP(=O)([O-])OP(...   \n",
       "1       CHEMBL324775                  CCCCCCCOc1cc(Cc2cnc(N)nc2N)ccc1OC   \n",
       "2       CHEMBL416373  CCCCOc1cc(Cc2cnc(N)nc2N)ccc1OCc1cc(OC)c(OC)c(O...   \n",
       "3       CHEMBL291931                COc1ccc(Cc2cnc(N)nc2N)cc1OCc1ccccc1   \n",
       "4       CHEMBL119188            CCOc1cc(Cc2cnc(N)nc2N)ccc1OCCCOc1ccccc1   \n",
       "\n",
       "   pKi_mean_value  mean_standard_value  pKi_first_value  first_standard_value  \\\n",
       "0        8.327902                  4.7         8.327902                   4.7   \n",
       "1        8.508638                  3.1         8.508638                   3.1   \n",
       "2        9.397940                  0.4         9.397940                   0.4   \n",
       "3        8.142668                  7.2         8.142668                   7.2   \n",
       "4        9.221849                  0.6         9.221849                   0.6   \n",
       "\n",
       "  standard_units           target_organism  \n",
       "0             nM  Plasmodium falciparum K1  \n",
       "1             nM  Plasmodium falciparum K1  \n",
       "2             nM  Plasmodium falciparum K1  \n",
       "3             nM  Plasmodium falciparum K1  \n",
       "4             nM  Plasmodium falciparum K1  "
      ]
     },
     "execution_count": 41,
     "metadata": {},
     "output_type": "execute_result"
    }
   ],
   "source": [
    "only_wt_chembl_df_final = only_wt_chembl_df[['molecule_chembl_id', 'smiles', 'pKi_mean_value' , 'mean_standard_value', 'pKi_first_value', 'first_standard_value', 'standard_units', 'target_organism']]\n",
    "\n",
    "only_wt_chembl_df_final.head(5)"
   ]
  },
  {
   "cell_type": "code",
   "execution_count": 42,
   "metadata": {},
   "outputs": [],
   "source": [
    "only_wt_chembl_df_final.to_csv(DATA/'onlywt_plasmodium_dhfr_chembl_compounds.csv', index=False)"
   ]
  },
  {
   "cell_type": "markdown",
   "metadata": {},
   "source": [
    "## Session and packages used on this notebook:"
   ]
  },
  {
   "cell_type": "code",
   "execution_count": 43,
   "metadata": {},
   "outputs": [
    {
     "data": {
      "text/html": [
       "<details>\n",
       "<summary>Click to view session information</summary>\n",
       "<pre>\n",
       "-----\n",
       "chembl_webresource_client   0.10.8\n",
       "numpy                       1.23.5\n",
       "pandas                      1.5.2\n",
       "rdkit                       2021.09.5\n",
       "session_info                1.0.0\n",
       "tqdm                        4.64.1\n",
       "-----\n",
       "</pre>\n",
       "<details>\n",
       "<summary>Click to view modules imported as dependencies</summary>\n",
       "<pre>\n",
       "PIL                 9.4.0\n",
       "appdirs             1.4.4\n",
       "asttokens           NA\n",
       "attr                22.2.0\n",
       "backcall            0.2.0\n",
       "brotli              NA\n",
       "cattr               NA\n",
       "cattrs              NA\n",
       "certifi             2022.12.07\n",
       "cffi                1.15.1\n",
       "charset_normalizer  2.1.1\n",
       "colorama            0.4.6\n",
       "comm                0.1.2\n",
       "cycler              0.10.0\n",
       "cython_runtime      NA\n",
       "dateutil            2.8.2\n",
       "debugpy             1.6.5\n",
       "decorator           5.1.1\n",
       "defusedxml          0.7.1\n",
       "easydict            NA\n",
       "entrypoints         0.4\n",
       "exceptiongroup      1.1.0\n",
       "executing           1.2.0\n",
       "google              NA\n",
       "idna                3.4\n",
       "ipykernel           6.19.4\n",
       "ipython_genutils    0.2.0\n",
       "ipywidgets          7.7.2\n",
       "itsdangerous        2.1.2\n",
       "jedi                0.18.2\n",
       "jupyter_server      2.0.6\n",
       "kiwisolver          1.4.4\n",
       "matplotlib          3.6.2\n",
       "matplotlib_inline   0.1.6\n",
       "mpl_toolkits        NA\n",
       "msgpack             1.0.4\n",
       "numexpr             2.8.3\n",
       "packaging           22.0\n",
       "parso               0.8.3\n",
       "pexpect             4.8.0\n",
       "pickleshare         0.7.5\n",
       "pkg_resources       NA\n",
       "platformdirs        2.6.2\n",
       "prompt_toolkit      3.0.36\n",
       "psutil              5.9.4\n",
       "ptyprocess          0.7.0\n",
       "pure_eval           0.2.2\n",
       "pydev_ipython       NA\n",
       "pydevconsole        NA\n",
       "pydevd              2.9.5\n",
       "pydevd_file_utils   NA\n",
       "pydevd_plugins      NA\n",
       "pydevd_tracing      NA\n",
       "pygments            2.14.0\n",
       "pyparsing           3.0.9\n",
       "pytz                2022.7\n",
       "requests            2.28.1\n",
       "requests_cache      0.9.7\n",
       "simplejson          3.18.1\n",
       "six                 1.16.0\n",
       "socks               1.7.1\n",
       "stack_data          0.6.2\n",
       "tornado             6.2\n",
       "traitlets           5.8.0\n",
       "ujson               5.5.0\n",
       "unicodedata2        NA\n",
       "url_normalize       1.4.3\n",
       "urllib3             1.26.13\n",
       "wcwidth             0.2.5\n",
       "yaml                6.0\n",
       "zmq                 24.0.1\n",
       "zope                NA\n",
       "</pre>\n",
       "</details> <!-- seems like this ends pre, so might as well be explicit -->\n",
       "<pre>\n",
       "-----\n",
       "IPython             8.8.0\n",
       "jupyter_client      7.4.8\n",
       "jupyter_core        5.1.2\n",
       "jupyterlab          3.5.2\n",
       "notebook            6.5.2\n",
       "-----\n",
       "Python 3.8.15 | packaged by conda-forge | (default, Nov 22 2022, 08:49:35) [GCC 10.4.0]\n",
       "Linux-6.1.6-arch1-3-x86_64-with-glibc2.10\n",
       "-----\n",
       "Session information updated at 2023-01-23 14:01\n",
       "</pre>\n",
       "</details>"
      ],
      "text/plain": [
       "<IPython.core.display.HTML object>"
      ]
     },
     "execution_count": 43,
     "metadata": {},
     "output_type": "execute_result"
    }
   ],
   "source": [
    "import session_info\n",
    "session_info.show()"
   ]
  }
 ],
 "metadata": {
  "kernelspec": {
   "display_name": "teachopencadd",
   "language": "python",
   "name": "python3"
  },
  "language_info": {
   "codemirror_mode": {
    "name": "ipython",
    "version": 3
   },
   "file_extension": ".py",
   "mimetype": "text/x-python",
   "name": "python",
   "nbconvert_exporter": "python",
   "pygments_lexer": "ipython3",
   "version": "3.8.15 | packaged by conda-forge | (default, Nov 22 2022, 08:49:35) \n[GCC 10.4.0]"
  },
  "orig_nbformat": 4,
  "vscode": {
   "interpreter": {
    "hash": "43e9bd66da9436ae54f6ec6135b165ab5f2d7407ec8e52d91977ace71cfa740c"
   }
  }
 },
 "nbformat": 4,
 "nbformat_minor": 2
}
