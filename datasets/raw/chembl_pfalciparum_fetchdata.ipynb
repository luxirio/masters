{
 "cells": [
  {
   "attachments": {},
   "cell_type": "markdown",
   "metadata": {},
   "source": [
    "# ChEMBL - Fetch Raw Data - *P. falciparum*"
   ]
  },
  {
   "attachments": {},
   "cell_type": "markdown",
   "metadata": {},
   "source": [
    "**Date:** 16/01/23\n",
    "\n",
    "**Based on:** [TeachOpenCADD T001 - Compound data acquisition (ChEMBL)](https://projects.volkamerlab.org/teachopencadd/talktorials/T001_query_chembl.html)\n",
    "\n",
    "**Done by:** Gustavo H. M. Sousa\n",
    "\n",
    "Session information at the end of the notebook."
   ]
  },
  {
   "attachments": {},
   "cell_type": "markdown",
   "metadata": {},
   "source": [
    "## Retrieving ChEMBL biological data of the target DHFR - *Plasmodium*"
   ]
  },
  {
   "attachments": {},
   "cell_type": "markdown",
   "metadata": {},
   "source": [
    "### Importing, defining paths and specifying query parameters"
   ]
  },
  {
   "attachments": {},
   "cell_type": "markdown",
   "metadata": {},
   "source": [
    "The [ChEMBL database](https://www.ebi.ac.uk/chembl/) can be defined as “a manually curated database of bioactive molecules with drug-like properties. It brings together chemical, bioactivity and genomic data to aid the translation of genomic information into effective new drugs.”\n",
    "I'm going to use its API (Application Programming Interface) to gather some raw data so we can do some modeling afterwards. The first thing we're going to do is to import some libraries:"
   ]
  },
  {
   "cell_type": "code",
   "execution_count": 1,
   "metadata": {},
   "outputs": [],
   "source": [
    "import math\n",
    "from pathlib import Path\n",
    "from zipfile import ZipFile\n",
    "from tempfile import TemporaryDirectory\n",
    "\n",
    "import numpy as np\n",
    "import pandas as pd\n",
    "from rdkit.Chem import PandasTools\n",
    "from chembl_webresource_client.new_client import new_client # This is the API chembl library\n",
    "from tqdm.auto import tqdm"
   ]
  },
  {
   "attachments": {},
   "cell_type": "markdown",
   "metadata": {},
   "source": [
    "We can use the `Path` library to define our relative or absolute directory path to save our files."
   ]
  },
  {
   "cell_type": "code",
   "execution_count": 2,
   "metadata": {},
   "outputs": [
    {
     "data": {
      "text/plain": [
       "PosixPath('/home/gustavo/github/masters/datasets/raw/data')"
      ]
     },
     "execution_count": 2,
     "metadata": {},
     "output_type": "execute_result"
    }
   ],
   "source": [
    "HERE = Path(_dh[-1])\n",
    "DATA = HERE / \"data\"\n",
    "# We are defining the relative path so we can store the data retrieved\n",
    "DATA"
   ]
  },
  {
   "attachments": {},
   "cell_type": "markdown",
   "metadata": {},
   "source": [
    "Next, we can specify the parameters of our API query. This is done assigning objects using the `new_client` and then the suffix after the '.' to the specifc parameters."
   ]
  },
  {
   "cell_type": "code",
   "execution_count": 3,
   "metadata": {},
   "outputs": [
    {
     "data": {
      "text/plain": [
       "chembl_webresource_client.query_set.QuerySet"
      ]
     },
     "execution_count": 3,
     "metadata": {},
     "output_type": "execute_result"
    }
   ],
   "source": [
    "targets_api = new_client.target\n",
    "compounds_api = new_client.molecule\n",
    "bioactivities_api = new_client.activity\n",
    "\n",
    "type(targets_api)"
   ]
  },
  {
   "attachments": {},
   "cell_type": "markdown",
   "metadata": {},
   "source": [
    "### Target information"
   ]
  },
  {
   "attachments": {},
   "cell_type": "markdown",
   "metadata": {},
   "source": [
    "We now specify the UniProt ID of our target, in our case we're going to start with the following:\n",
    "* **UniProt ID:** P13922\n",
    "* **Entry name:** DRTS_PLAFK\n",
    "* **Organism:** *Plasmodium falciparum* (isolate K1 / Thailand)\n",
    "* **Length:** 608 AA"
   ]
  },
  {
   "cell_type": "code",
   "execution_count": 4,
   "metadata": {},
   "outputs": [],
   "source": [
    "uniprot_id = \"P13922\""
   ]
  },
  {
   "attachments": {},
   "cell_type": "markdown",
   "metadata": {},
   "source": [
    "Then **fetch** the data for this UniProt ID"
   ]
  },
  {
   "cell_type": "code",
   "execution_count": 5,
   "metadata": {},
   "outputs": [
    {
     "name": "stdout",
     "output_type": "stream",
     "text": [
      "<class 'chembl_webresource_client.query_set.QuerySet'>\n"
     ]
    }
   ],
   "source": [
    "targets = targets_api.get(target_components__accession=uniprot_id).only(\n",
    "    \"target_chembl_id\", \"organism\", \"pref_name\", \"target_type\"\n",
    ")\n",
    "print(type(targets))"
   ]
  },
  {
   "attachments": {},
   "cell_type": "markdown",
   "metadata": {},
   "source": [
    "The results of the query are stored in targets, a QuerySet, i.e. the results are not fetched from ChEMBL until we ask for it (here using pandas.DataFrame.from_records). This is called QuerySets and they are 'lazy'."
   ]
  },
  {
   "cell_type": "code",
   "execution_count": 6,
   "metadata": {},
   "outputs": [
    {
     "data": {
      "text/html": [
       "<div>\n",
       "<style scoped>\n",
       "    .dataframe tbody tr th:only-of-type {\n",
       "        vertical-align: middle;\n",
       "    }\n",
       "\n",
       "    .dataframe tbody tr th {\n",
       "        vertical-align: top;\n",
       "    }\n",
       "\n",
       "    .dataframe thead th {\n",
       "        text-align: right;\n",
       "    }\n",
       "</style>\n",
       "<table border=\"1\" class=\"dataframe\">\n",
       "  <thead>\n",
       "    <tr style=\"text-align: right;\">\n",
       "      <th></th>\n",
       "      <th>organism</th>\n",
       "      <th>pref_name</th>\n",
       "      <th>target_chembl_id</th>\n",
       "      <th>target_type</th>\n",
       "    </tr>\n",
       "  </thead>\n",
       "  <tbody>\n",
       "    <tr>\n",
       "      <th>0</th>\n",
       "      <td>Plasmodium falciparum K1</td>\n",
       "      <td>Dihydrofolate reductase</td>\n",
       "      <td>CHEMBL1939</td>\n",
       "      <td>SINGLE PROTEIN</td>\n",
       "    </tr>\n",
       "    <tr>\n",
       "      <th>1</th>\n",
       "      <td>Plasmodium falciparum K1</td>\n",
       "      <td>Dihydrofolate reductase</td>\n",
       "      <td>CHEMBL1939</td>\n",
       "      <td>SINGLE PROTEIN</td>\n",
       "    </tr>\n",
       "  </tbody>\n",
       "</table>\n",
       "</div>"
      ],
      "text/plain": [
       "                   organism                pref_name target_chembl_id  \\\n",
       "0  Plasmodium falciparum K1  Dihydrofolate reductase       CHEMBL1939   \n",
       "1  Plasmodium falciparum K1  Dihydrofolate reductase       CHEMBL1939   \n",
       "\n",
       "      target_type  \n",
       "0  SINGLE PROTEIN  \n",
       "1  SINGLE PROTEIN  "
      ]
     },
     "execution_count": 6,
     "metadata": {},
     "output_type": "execute_result"
    }
   ],
   "source": [
    "targets = pd.DataFrame.from_records(targets)\n",
    "targets"
   ]
  },
  {
   "attachments": {},
   "cell_type": "markdown",
   "metadata": {},
   "source": [
    "After inspecting ou dataframe with the *'organism'*, *'pref_name'* and *'target_chembl_id'* and *'target_type'*, we can select what row are of interest. In our case, the rows are both the same (I don't know exactly why?) so we can select either."
   ]
  },
  {
   "cell_type": "code",
   "execution_count": 7,
   "metadata": {},
   "outputs": [
    {
     "data": {
      "text/plain": [
       "organism            Plasmodium falciparum K1\n",
       "pref_name            Dihydrofolate reductase\n",
       "target_chembl_id                  CHEMBL1939\n",
       "target_type                   SINGLE PROTEIN\n",
       "Name: 0, dtype: object"
      ]
     },
     "execution_count": 7,
     "metadata": {},
     "output_type": "execute_result"
    }
   ],
   "source": [
    "# We transform ou variable targets, previously a datafram into a pandas' series\n",
    "targets = targets.iloc[0]\n",
    "targets"
   ]
  },
  {
   "attachments": {},
   "cell_type": "markdown",
   "metadata": {},
   "source": [
    "Saving the 'target_chembl_id': "
   ]
  },
  {
   "cell_type": "code",
   "execution_count": 8,
   "metadata": {},
   "outputs": [
    {
     "name": "stdout",
     "output_type": "stream",
     "text": [
      "CHEMBL1939\n"
     ]
    }
   ],
   "source": [
    "chembl_id = targets.target_chembl_id\n",
    "print(chembl_id)"
   ]
  },
  {
   "attachments": {},
   "cell_type": "markdown",
   "metadata": {},
   "source": [
    "### Fetching biological data to our target"
   ]
  },
  {
   "attachments": {},
   "cell_type": "markdown",
   "metadata": {},
   "source": [
    "Now we can finally fetch the biological data for our target, taking the following into consideration:\n",
    "* bioactivity type `Ki` (there are more information about in our case)\n",
    "* exact measurements (relation `=`)\n",
    "* binding data (assay type `B`)"
   ]
  },
  {
   "cell_type": "code",
   "execution_count": 9,
   "metadata": {},
   "outputs": [
    {
     "name": "stdout",
     "output_type": "stream",
     "text": [
      "The total size of the biological activities fetched is: 716 of type, <class 'chembl_webresource_client.query_set.QuerySet'>\n"
     ]
    }
   ],
   "source": [
    "bioacitivies_plasmodium = bioactivities_api.filter(\n",
    "    target_chembl_id=chembl_id, type='Ki', relation='=', assay_type=\"B\"\n",
    ").only(\n",
    "    \"activity_id\",\n",
    "    \"assay_chembl_id\",\n",
    "    \"assay_description\",\n",
    "    \"assay_type\",\n",
    "    \"molecule_chembl_id\",\n",
    "    \"type\",\n",
    "    \"standard_units\",\n",
    "    \"relation\",\n",
    "    \"standard_value\",\n",
    "    \"target_chembl_id\",\n",
    "    \"target_organism\",\n",
    ")\n",
    "\n",
    "print(f\"The total size of the biological activities fetched is: {len(bioacitivies_plasmodium)} of type, {type(bioacitivies_plasmodium)}\")"
   ]
  },
  {
   "attachments": {},
   "cell_type": "markdown",
   "metadata": {},
   "source": [
    "For example, each element of our `bioactivities_plasmodium` object, (that is basically a dictionary) contains the following:"
   ]
  },
  {
   "cell_type": "code",
   "execution_count": 10,
   "metadata": {},
   "outputs": [
    {
     "name": "stdout",
     "output_type": "stream",
     "text": [
      "{'activity_id': 185071, 'assay_chembl_id': 'CHEMBL811761', 'assay_description': 'Binding affinity was evaluated as inhibition of recombinant wild type (WT) Plasmodium falciparum DHFR-TS.', 'assay_type': 'B', 'molecule_chembl_id': 'CHEMBL2364573', 'relation': '=', 'standard_units': 'nM', 'standard_value': '4.7', 'target_chembl_id': 'CHEMBL1939', 'target_organism': 'Plasmodium falciparum K1', 'type': 'Ki', 'units': 'nM', 'value': '4.7'}\n"
     ]
    }
   ],
   "source": [
    "print(f\"{bioacitivies_plasmodium[0]}\")"
   ]
  },
  {
   "attachments": {},
   "cell_type": "markdown",
   "metadata": {},
   "source": [
    "We can now finally download the *dataset* containing only `Ki` and exact measurements for our target."
   ]
  },
  {
   "cell_type": "code",
   "execution_count": 11,
   "metadata": {},
   "outputs": [
    {
     "name": "stdout",
     "output_type": "stream",
     "text": [
      "The dataframe shape is: (717, 13)\n"
     ]
    },
    {
     "data": {
      "text/html": [
       "<div>\n",
       "<style scoped>\n",
       "    .dataframe tbody tr th:only-of-type {\n",
       "        vertical-align: middle;\n",
       "    }\n",
       "\n",
       "    .dataframe tbody tr th {\n",
       "        vertical-align: top;\n",
       "    }\n",
       "\n",
       "    .dataframe thead th {\n",
       "        text-align: right;\n",
       "    }\n",
       "</style>\n",
       "<table border=\"1\" class=\"dataframe\">\n",
       "  <thead>\n",
       "    <tr style=\"text-align: right;\">\n",
       "      <th></th>\n",
       "      <th>activity_id</th>\n",
       "      <th>assay_chembl_id</th>\n",
       "      <th>assay_description</th>\n",
       "      <th>assay_type</th>\n",
       "      <th>molecule_chembl_id</th>\n",
       "      <th>relation</th>\n",
       "      <th>standard_units</th>\n",
       "      <th>standard_value</th>\n",
       "      <th>target_chembl_id</th>\n",
       "      <th>target_organism</th>\n",
       "      <th>type</th>\n",
       "      <th>units</th>\n",
       "      <th>value</th>\n",
       "    </tr>\n",
       "  </thead>\n",
       "  <tbody>\n",
       "    <tr>\n",
       "      <th>0</th>\n",
       "      <td>185071</td>\n",
       "      <td>CHEMBL811761</td>\n",
       "      <td>Binding affinity was evaluated as inhibition o...</td>\n",
       "      <td>B</td>\n",
       "      <td>CHEMBL2364573</td>\n",
       "      <td>=</td>\n",
       "      <td>nM</td>\n",
       "      <td>4.7</td>\n",
       "      <td>CHEMBL1939</td>\n",
       "      <td>Plasmodium falciparum K1</td>\n",
       "      <td>Ki</td>\n",
       "      <td>nM</td>\n",
       "      <td>4.7</td>\n",
       "    </tr>\n",
       "    <tr>\n",
       "      <th>1</th>\n",
       "      <td>185071</td>\n",
       "      <td>CHEMBL811761</td>\n",
       "      <td>Binding affinity was evaluated as inhibition o...</td>\n",
       "      <td>B</td>\n",
       "      <td>CHEMBL2364573</td>\n",
       "      <td>=</td>\n",
       "      <td>nM</td>\n",
       "      <td>4.7</td>\n",
       "      <td>CHEMBL1939</td>\n",
       "      <td>Plasmodium falciparum K1</td>\n",
       "      <td>Ki</td>\n",
       "      <td>nM</td>\n",
       "      <td>4.7</td>\n",
       "    </tr>\n",
       "    <tr>\n",
       "      <th>2</th>\n",
       "      <td>185072</td>\n",
       "      <td>CHEMBL811759</td>\n",
       "      <td>Binding affinity was evaluated as inhibition o...</td>\n",
       "      <td>B</td>\n",
       "      <td>CHEMBL2364573</td>\n",
       "      <td>=</td>\n",
       "      <td>nM</td>\n",
       "      <td>14.5</td>\n",
       "      <td>CHEMBL1939</td>\n",
       "      <td>Plasmodium falciparum K1</td>\n",
       "      <td>Ki</td>\n",
       "      <td>nM</td>\n",
       "      <td>14.5</td>\n",
       "    </tr>\n",
       "    <tr>\n",
       "      <th>3</th>\n",
       "      <td>187525</td>\n",
       "      <td>CHEMBL821379</td>\n",
       "      <td>Inhibitory activity against wild-type dihydrof...</td>\n",
       "      <td>B</td>\n",
       "      <td>CHEMBL324775</td>\n",
       "      <td>=</td>\n",
       "      <td>nM</td>\n",
       "      <td>3.1</td>\n",
       "      <td>CHEMBL1939</td>\n",
       "      <td>Plasmodium falciparum K1</td>\n",
       "      <td>Ki</td>\n",
       "      <td>nM</td>\n",
       "      <td>3.1</td>\n",
       "    </tr>\n",
       "    <tr>\n",
       "      <th>4</th>\n",
       "      <td>187527</td>\n",
       "      <td>CHEMBL668412</td>\n",
       "      <td>Inhibitory activity against double mutant dihy...</td>\n",
       "      <td>B</td>\n",
       "      <td>CHEMBL324775</td>\n",
       "      <td>=</td>\n",
       "      <td>nM</td>\n",
       "      <td>103.5</td>\n",
       "      <td>CHEMBL1939</td>\n",
       "      <td>Plasmodium falciparum K1</td>\n",
       "      <td>Ki</td>\n",
       "      <td>nM</td>\n",
       "      <td>103.5</td>\n",
       "    </tr>\n",
       "    <tr>\n",
       "      <th>5</th>\n",
       "      <td>187529</td>\n",
       "      <td>CHEMBL668414</td>\n",
       "      <td>Inhibitory activity against triple mutant dihy...</td>\n",
       "      <td>B</td>\n",
       "      <td>CHEMBL324775</td>\n",
       "      <td>=</td>\n",
       "      <td>nM</td>\n",
       "      <td>292.4</td>\n",
       "      <td>CHEMBL1939</td>\n",
       "      <td>Plasmodium falciparum K1</td>\n",
       "      <td>Ki</td>\n",
       "      <td>nM</td>\n",
       "      <td>292.4</td>\n",
       "    </tr>\n",
       "    <tr>\n",
       "      <th>6</th>\n",
       "      <td>187531</td>\n",
       "      <td>CHEMBL668413</td>\n",
       "      <td>Inhibitory activity against quadruple mutant d...</td>\n",
       "      <td>B</td>\n",
       "      <td>CHEMBL324775</td>\n",
       "      <td>=</td>\n",
       "      <td>nM</td>\n",
       "      <td>445.1</td>\n",
       "      <td>CHEMBL1939</td>\n",
       "      <td>Plasmodium falciparum K1</td>\n",
       "      <td>Ki</td>\n",
       "      <td>nM</td>\n",
       "      <td>445.1</td>\n",
       "    </tr>\n",
       "    <tr>\n",
       "      <th>7</th>\n",
       "      <td>188709</td>\n",
       "      <td>CHEMBL821379</td>\n",
       "      <td>Inhibitory activity against wild-type dihydrof...</td>\n",
       "      <td>B</td>\n",
       "      <td>CHEMBL416373</td>\n",
       "      <td>=</td>\n",
       "      <td>nM</td>\n",
       "      <td>0.4</td>\n",
       "      <td>CHEMBL1939</td>\n",
       "      <td>Plasmodium falciparum K1</td>\n",
       "      <td>Ki</td>\n",
       "      <td>nM</td>\n",
       "      <td>0.4</td>\n",
       "    </tr>\n",
       "    <tr>\n",
       "      <th>8</th>\n",
       "      <td>188711</td>\n",
       "      <td>CHEMBL668412</td>\n",
       "      <td>Inhibitory activity against double mutant dihy...</td>\n",
       "      <td>B</td>\n",
       "      <td>CHEMBL416373</td>\n",
       "      <td>=</td>\n",
       "      <td>nM</td>\n",
       "      <td>5.6</td>\n",
       "      <td>CHEMBL1939</td>\n",
       "      <td>Plasmodium falciparum K1</td>\n",
       "      <td>Ki</td>\n",
       "      <td>nM</td>\n",
       "      <td>5.6</td>\n",
       "    </tr>\n",
       "    <tr>\n",
       "      <th>9</th>\n",
       "      <td>188713</td>\n",
       "      <td>CHEMBL668414</td>\n",
       "      <td>Inhibitory activity against triple mutant dihy...</td>\n",
       "      <td>B</td>\n",
       "      <td>CHEMBL416373</td>\n",
       "      <td>=</td>\n",
       "      <td>nM</td>\n",
       "      <td>105.6</td>\n",
       "      <td>CHEMBL1939</td>\n",
       "      <td>Plasmodium falciparum K1</td>\n",
       "      <td>Ki</td>\n",
       "      <td>nM</td>\n",
       "      <td>105.6</td>\n",
       "    </tr>\n",
       "  </tbody>\n",
       "</table>\n",
       "</div>"
      ],
      "text/plain": [
       "   activity_id assay_chembl_id  \\\n",
       "0       185071    CHEMBL811761   \n",
       "1       185071    CHEMBL811761   \n",
       "2       185072    CHEMBL811759   \n",
       "3       187525    CHEMBL821379   \n",
       "4       187527    CHEMBL668412   \n",
       "5       187529    CHEMBL668414   \n",
       "6       187531    CHEMBL668413   \n",
       "7       188709    CHEMBL821379   \n",
       "8       188711    CHEMBL668412   \n",
       "9       188713    CHEMBL668414   \n",
       "\n",
       "                                   assay_description assay_type  \\\n",
       "0  Binding affinity was evaluated as inhibition o...          B   \n",
       "1  Binding affinity was evaluated as inhibition o...          B   \n",
       "2  Binding affinity was evaluated as inhibition o...          B   \n",
       "3  Inhibitory activity against wild-type dihydrof...          B   \n",
       "4  Inhibitory activity against double mutant dihy...          B   \n",
       "5  Inhibitory activity against triple mutant dihy...          B   \n",
       "6  Inhibitory activity against quadruple mutant d...          B   \n",
       "7  Inhibitory activity against wild-type dihydrof...          B   \n",
       "8  Inhibitory activity against double mutant dihy...          B   \n",
       "9  Inhibitory activity against triple mutant dihy...          B   \n",
       "\n",
       "  molecule_chembl_id relation standard_units standard_value target_chembl_id  \\\n",
       "0      CHEMBL2364573        =             nM            4.7       CHEMBL1939   \n",
       "1      CHEMBL2364573        =             nM            4.7       CHEMBL1939   \n",
       "2      CHEMBL2364573        =             nM           14.5       CHEMBL1939   \n",
       "3       CHEMBL324775        =             nM            3.1       CHEMBL1939   \n",
       "4       CHEMBL324775        =             nM          103.5       CHEMBL1939   \n",
       "5       CHEMBL324775        =             nM          292.4       CHEMBL1939   \n",
       "6       CHEMBL324775        =             nM          445.1       CHEMBL1939   \n",
       "7       CHEMBL416373        =             nM            0.4       CHEMBL1939   \n",
       "8       CHEMBL416373        =             nM            5.6       CHEMBL1939   \n",
       "9       CHEMBL416373        =             nM          105.6       CHEMBL1939   \n",
       "\n",
       "            target_organism type units  value  \n",
       "0  Plasmodium falciparum K1   Ki    nM    4.7  \n",
       "1  Plasmodium falciparum K1   Ki    nM    4.7  \n",
       "2  Plasmodium falciparum K1   Ki    nM   14.5  \n",
       "3  Plasmodium falciparum K1   Ki    nM    3.1  \n",
       "4  Plasmodium falciparum K1   Ki    nM  103.5  \n",
       "5  Plasmodium falciparum K1   Ki    nM  292.4  \n",
       "6  Plasmodium falciparum K1   Ki    nM  445.1  \n",
       "7  Plasmodium falciparum K1   Ki    nM    0.4  \n",
       "8  Plasmodium falciparum K1   Ki    nM    5.6  \n",
       "9  Plasmodium falciparum K1   Ki    nM  105.6  "
      ]
     },
     "execution_count": 11,
     "metadata": {},
     "output_type": "execute_result"
    }
   ],
   "source": [
    "bioactivities_plasmodium_df = pd.DataFrame.from_records(bioacitivies_plasmodium)\n",
    "print(f\"The dataframe shape is: {bioactivities_plasmodium_df.shape}\")\n",
    "bioactivities_plasmodium_df.head(10)"
   ]
  },
  {
   "attachments": {},
   "cell_type": "markdown",
   "metadata": {},
   "source": [
    "We can do a first estimation of unique structures in our dataset. For *Plasmodium falciparum* type K1 we have almost 150 structures. It is possible that after the processing of our data we end up with way less than this, but this is a decent estimation."
   ]
  },
  {
   "cell_type": "code",
   "execution_count": 12,
   "metadata": {},
   "outputs": [
    {
     "name": "stdout",
     "output_type": "stream",
     "text": [
      "145\n"
     ]
    }
   ],
   "source": [
    "# Just an estimation of our unique values:\n",
    "print(bioactivities_plasmodium_df[\"molecule_chembl_id\"].unique().shape[0])"
   ]
  },
  {
   "cell_type": "code",
   "execution_count": 13,
   "metadata": {},
   "outputs": [
    {
     "data": {
      "text/plain": [
       "array(['nM', 'uM'], dtype=object)"
      ]
     },
     "execution_count": 13,
     "metadata": {},
     "output_type": "execute_result"
    }
   ],
   "source": [
    "bioactivities_plasmodium_df[\"units\"].unique()"
   ]
  },
  {
   "attachments": {},
   "cell_type": "markdown",
   "metadata": {},
   "source": [
    "Note also that we have columns for `standard_units/units` and `standard_values/values`; in the following, we will use the standardized columns (standardization by ChEMBL), and thus, we drop the other two columns."
   ]
  },
  {
   "cell_type": "code",
   "execution_count": 14,
   "metadata": {},
   "outputs": [
    {
     "data": {
      "text/html": [
       "<div>\n",
       "<style scoped>\n",
       "    .dataframe tbody tr th:only-of-type {\n",
       "        vertical-align: middle;\n",
       "    }\n",
       "\n",
       "    .dataframe tbody tr th {\n",
       "        vertical-align: top;\n",
       "    }\n",
       "\n",
       "    .dataframe thead th {\n",
       "        text-align: right;\n",
       "    }\n",
       "</style>\n",
       "<table border=\"1\" class=\"dataframe\">\n",
       "  <thead>\n",
       "    <tr style=\"text-align: right;\">\n",
       "      <th></th>\n",
       "      <th>activity_id</th>\n",
       "      <th>assay_chembl_id</th>\n",
       "      <th>assay_description</th>\n",
       "      <th>assay_type</th>\n",
       "      <th>molecule_chembl_id</th>\n",
       "      <th>relation</th>\n",
       "      <th>standard_units</th>\n",
       "      <th>standard_value</th>\n",
       "      <th>target_chembl_id</th>\n",
       "      <th>target_organism</th>\n",
       "      <th>type</th>\n",
       "    </tr>\n",
       "  </thead>\n",
       "  <tbody>\n",
       "    <tr>\n",
       "      <th>0</th>\n",
       "      <td>185071</td>\n",
       "      <td>CHEMBL811761</td>\n",
       "      <td>Binding affinity was evaluated as inhibition o...</td>\n",
       "      <td>B</td>\n",
       "      <td>CHEMBL2364573</td>\n",
       "      <td>=</td>\n",
       "      <td>nM</td>\n",
       "      <td>4.7</td>\n",
       "      <td>CHEMBL1939</td>\n",
       "      <td>Plasmodium falciparum K1</td>\n",
       "      <td>Ki</td>\n",
       "    </tr>\n",
       "    <tr>\n",
       "      <th>1</th>\n",
       "      <td>185071</td>\n",
       "      <td>CHEMBL811761</td>\n",
       "      <td>Binding affinity was evaluated as inhibition o...</td>\n",
       "      <td>B</td>\n",
       "      <td>CHEMBL2364573</td>\n",
       "      <td>=</td>\n",
       "      <td>nM</td>\n",
       "      <td>4.7</td>\n",
       "      <td>CHEMBL1939</td>\n",
       "      <td>Plasmodium falciparum K1</td>\n",
       "      <td>Ki</td>\n",
       "    </tr>\n",
       "    <tr>\n",
       "      <th>2</th>\n",
       "      <td>185072</td>\n",
       "      <td>CHEMBL811759</td>\n",
       "      <td>Binding affinity was evaluated as inhibition o...</td>\n",
       "      <td>B</td>\n",
       "      <td>CHEMBL2364573</td>\n",
       "      <td>=</td>\n",
       "      <td>nM</td>\n",
       "      <td>14.5</td>\n",
       "      <td>CHEMBL1939</td>\n",
       "      <td>Plasmodium falciparum K1</td>\n",
       "      <td>Ki</td>\n",
       "    </tr>\n",
       "    <tr>\n",
       "      <th>3</th>\n",
       "      <td>187525</td>\n",
       "      <td>CHEMBL821379</td>\n",
       "      <td>Inhibitory activity against wild-type dihydrof...</td>\n",
       "      <td>B</td>\n",
       "      <td>CHEMBL324775</td>\n",
       "      <td>=</td>\n",
       "      <td>nM</td>\n",
       "      <td>3.1</td>\n",
       "      <td>CHEMBL1939</td>\n",
       "      <td>Plasmodium falciparum K1</td>\n",
       "      <td>Ki</td>\n",
       "    </tr>\n",
       "    <tr>\n",
       "      <th>4</th>\n",
       "      <td>187527</td>\n",
       "      <td>CHEMBL668412</td>\n",
       "      <td>Inhibitory activity against double mutant dihy...</td>\n",
       "      <td>B</td>\n",
       "      <td>CHEMBL324775</td>\n",
       "      <td>=</td>\n",
       "      <td>nM</td>\n",
       "      <td>103.5</td>\n",
       "      <td>CHEMBL1939</td>\n",
       "      <td>Plasmodium falciparum K1</td>\n",
       "      <td>Ki</td>\n",
       "    </tr>\n",
       "  </tbody>\n",
       "</table>\n",
       "</div>"
      ],
      "text/plain": [
       "   activity_id assay_chembl_id  \\\n",
       "0       185071    CHEMBL811761   \n",
       "1       185071    CHEMBL811761   \n",
       "2       185072    CHEMBL811759   \n",
       "3       187525    CHEMBL821379   \n",
       "4       187527    CHEMBL668412   \n",
       "\n",
       "                                   assay_description assay_type  \\\n",
       "0  Binding affinity was evaluated as inhibition o...          B   \n",
       "1  Binding affinity was evaluated as inhibition o...          B   \n",
       "2  Binding affinity was evaluated as inhibition o...          B   \n",
       "3  Inhibitory activity against wild-type dihydrof...          B   \n",
       "4  Inhibitory activity against double mutant dihy...          B   \n",
       "\n",
       "  molecule_chembl_id relation standard_units standard_value target_chembl_id  \\\n",
       "0      CHEMBL2364573        =             nM            4.7       CHEMBL1939   \n",
       "1      CHEMBL2364573        =             nM            4.7       CHEMBL1939   \n",
       "2      CHEMBL2364573        =             nM           14.5       CHEMBL1939   \n",
       "3       CHEMBL324775        =             nM            3.1       CHEMBL1939   \n",
       "4       CHEMBL324775        =             nM          103.5       CHEMBL1939   \n",
       "\n",
       "            target_organism type  \n",
       "0  Plasmodium falciparum K1   Ki  \n",
       "1  Plasmodium falciparum K1   Ki  \n",
       "2  Plasmodium falciparum K1   Ki  \n",
       "3  Plasmodium falciparum K1   Ki  \n",
       "4  Plasmodium falciparum K1   Ki  "
      ]
     },
     "execution_count": 14,
     "metadata": {},
     "output_type": "execute_result"
    }
   ],
   "source": [
    "bioactivities_plasmodium_df.drop([\"units\", \"value\"], axis=1, inplace=True)\n",
    "bioactivities_plasmodium_df.head()"
   ]
  },
  {
   "attachments": {},
   "cell_type": "markdown",
   "metadata": {},
   "source": [
    "### Divergent: only wild-type assays\n"
   ]
  },
  {
   "attachments": {},
   "cell_type": "markdown",
   "metadata": {},
   "source": [
    "We're going to try and process one-way only the wild-type for now:"
   ]
  },
  {
   "cell_type": "code",
   "execution_count": 15,
   "metadata": {},
   "outputs": [],
   "source": [
    "only_wildtype = bioactivities_plasmodium_df[~bioactivities_plasmodium_df['assay_description'].str.contains('utant', regex=False, case=False)].reset_index(drop=True)\n",
    "\n",
    "# Changing the variable type to float\n",
    "only_wildtype = only_wildtype.astype({'standard_value':'float64'})\n",
    "\n",
    "# Dropping NA values\n",
    "only_wildtype.dropna(axis=0, how=\"any\", inplace=True)"
   ]
  },
  {
   "cell_type": "code",
   "execution_count": 16,
   "metadata": {},
   "outputs": [
    {
     "data": {
      "text/html": [
       "<div>\n",
       "<style scoped>\n",
       "    .dataframe tbody tr th:only-of-type {\n",
       "        vertical-align: middle;\n",
       "    }\n",
       "\n",
       "    .dataframe tbody tr th {\n",
       "        vertical-align: top;\n",
       "    }\n",
       "\n",
       "    .dataframe thead th {\n",
       "        text-align: right;\n",
       "    }\n",
       "</style>\n",
       "<table border=\"1\" class=\"dataframe\">\n",
       "  <thead>\n",
       "    <tr style=\"text-align: right;\">\n",
       "      <th></th>\n",
       "      <th>molecule_chembl_id</th>\n",
       "      <th>mean_standard_value</th>\n",
       "    </tr>\n",
       "  </thead>\n",
       "  <tbody>\n",
       "    <tr>\n",
       "      <th>0</th>\n",
       "      <td>CHEMBL115483</td>\n",
       "      <td>2.0</td>\n",
       "    </tr>\n",
       "    <tr>\n",
       "      <th>1</th>\n",
       "      <td>CHEMBL118202</td>\n",
       "      <td>2.3</td>\n",
       "    </tr>\n",
       "    <tr>\n",
       "      <th>2</th>\n",
       "      <td>CHEMBL118425</td>\n",
       "      <td>7.0</td>\n",
       "    </tr>\n",
       "  </tbody>\n",
       "</table>\n",
       "</div>"
      ],
      "text/plain": [
       "  molecule_chembl_id  mean_standard_value\n",
       "0       CHEMBL115483                  2.0\n",
       "1       CHEMBL118202                  2.3\n",
       "2       CHEMBL118425                  7.0"
      ]
     },
     "execution_count": 16,
     "metadata": {},
     "output_type": "execute_result"
    }
   ],
   "source": [
    "# The mean of the values\n",
    "only_wildtype_mean = only_wildtype[['molecule_chembl_id', 'standard_value']].groupby('molecule_chembl_id').mean().reset_index()\n",
    "only_wildtype_mean = only_wildtype_mean.rename(columns={'standard_value':'mean_standard_value'})\n",
    "only_wildtype_mean.head(3)\n",
    "print(only_wildtype_mean.shape[0])"
   ]
  },
  {
   "cell_type": "code",
   "execution_count": 17,
   "metadata": {},
   "outputs": [
    {
     "data": {
      "text/html": [
       "<div>\n",
       "<style scoped>\n",
       "    .dataframe tbody tr th:only-of-type {\n",
       "        vertical-align: middle;\n",
       "    }\n",
       "\n",
       "    .dataframe tbody tr th {\n",
       "        vertical-align: top;\n",
       "    }\n",
       "\n",
       "    .dataframe thead th {\n",
       "        text-align: right;\n",
       "    }\n",
       "</style>\n",
       "<table border=\"1\" class=\"dataframe\">\n",
       "  <thead>\n",
       "    <tr style=\"text-align: right;\">\n",
       "      <th></th>\n",
       "      <th>activity_id</th>\n",
       "      <th>assay_chembl_id</th>\n",
       "      <th>assay_description</th>\n",
       "      <th>assay_type</th>\n",
       "      <th>molecule_chembl_id</th>\n",
       "      <th>relation</th>\n",
       "      <th>standard_units</th>\n",
       "      <th>standard_value</th>\n",
       "      <th>target_chembl_id</th>\n",
       "      <th>target_organism</th>\n",
       "      <th>type</th>\n",
       "      <th>mean_standard_value</th>\n",
       "    </tr>\n",
       "  </thead>\n",
       "  <tbody>\n",
       "    <tr>\n",
       "      <th>0</th>\n",
       "      <td>185071</td>\n",
       "      <td>CHEMBL811761</td>\n",
       "      <td>Binding affinity was evaluated as inhibition o...</td>\n",
       "      <td>B</td>\n",
       "      <td>CHEMBL2364573</td>\n",
       "      <td>=</td>\n",
       "      <td>nM</td>\n",
       "      <td>4.7</td>\n",
       "      <td>CHEMBL1939</td>\n",
       "      <td>Plasmodium falciparum K1</td>\n",
       "      <td>Ki</td>\n",
       "      <td>4.7</td>\n",
       "    </tr>\n",
       "    <tr>\n",
       "      <th>1</th>\n",
       "      <td>187525</td>\n",
       "      <td>CHEMBL821379</td>\n",
       "      <td>Inhibitory activity against wild-type dihydrof...</td>\n",
       "      <td>B</td>\n",
       "      <td>CHEMBL324775</td>\n",
       "      <td>=</td>\n",
       "      <td>nM</td>\n",
       "      <td>3.1</td>\n",
       "      <td>CHEMBL1939</td>\n",
       "      <td>Plasmodium falciparum K1</td>\n",
       "      <td>Ki</td>\n",
       "      <td>3.1</td>\n",
       "    </tr>\n",
       "    <tr>\n",
       "      <th>2</th>\n",
       "      <td>188709</td>\n",
       "      <td>CHEMBL821379</td>\n",
       "      <td>Inhibitory activity against wild-type dihydrof...</td>\n",
       "      <td>B</td>\n",
       "      <td>CHEMBL416373</td>\n",
       "      <td>=</td>\n",
       "      <td>nM</td>\n",
       "      <td>0.4</td>\n",
       "      <td>CHEMBL1939</td>\n",
       "      <td>Plasmodium falciparum K1</td>\n",
       "      <td>Ki</td>\n",
       "      <td>0.4</td>\n",
       "    </tr>\n",
       "  </tbody>\n",
       "</table>\n",
       "</div>"
      ],
      "text/plain": [
       "   activity_id assay_chembl_id  \\\n",
       "0       185071    CHEMBL811761   \n",
       "1       187525    CHEMBL821379   \n",
       "2       188709    CHEMBL821379   \n",
       "\n",
       "                                   assay_description assay_type  \\\n",
       "0  Binding affinity was evaluated as inhibition o...          B   \n",
       "1  Inhibitory activity against wild-type dihydrof...          B   \n",
       "2  Inhibitory activity against wild-type dihydrof...          B   \n",
       "\n",
       "  molecule_chembl_id relation standard_units  standard_value target_chembl_id  \\\n",
       "0      CHEMBL2364573        =             nM             4.7       CHEMBL1939   \n",
       "1       CHEMBL324775        =             nM             3.1       CHEMBL1939   \n",
       "2       CHEMBL416373        =             nM             0.4       CHEMBL1939   \n",
       "\n",
       "            target_organism type  mean_standard_value  \n",
       "0  Plasmodium falciparum K1   Ki                  4.7  \n",
       "1  Plasmodium falciparum K1   Ki                  3.1  \n",
       "2  Plasmodium falciparum K1   Ki                  0.4  "
      ]
     },
     "execution_count": 17,
     "metadata": {},
     "output_type": "execute_result"
    }
   ],
   "source": [
    "only_wildtype.drop_duplicates('molecule_chembl_id', keep='first', inplace=True)\n",
    "only_wildtype_merged = pd.merge(only_wildtype, only_wildtype_mean, how='left', on='molecule_chembl_id')\n",
    "only_wildtype_merged.head(3)"
   ]
  },
  {
   "attachments": {},
   "cell_type": "markdown",
   "metadata": {},
   "source": [
    "### Preprocess the data"
   ]
  },
  {
   "attachments": {},
   "cell_type": "markdown",
   "metadata": {},
   "source": [
    "For the pre-processing of the data we're going to do the following:\n",
    "\n",
    "1. Convert the `standard_value` type from `object` to `float`.\n",
    "2. Delete entries with missing values (I think in our case there is none)\n",
    "3. Keep only nanomolar entries or convert `uM` to `nM` by applying a x1000 multiplication factor\n",
    "4. Delete duplicate molecules - **That is a questionable step we could take the mean of the two**\n",
    "5. Reset the `DataFrame` index\n",
    "6. Rename columns"
   ]
  },
  {
   "attachments": {},
   "cell_type": "markdown",
   "metadata": {},
   "source": [
    "The field `standard_value` holds `Ki` values. We're going to perform some calculations later on and we need to convert them from `objects` to `float`.\n",
    "\n",
    "This is an important step, specially when dealing with a lot of information and **you should always check each variable type** prior of doing any calculation! This is just basic data analysis good practices."
   ]
  },
  {
   "attachments": {},
   "cell_type": "markdown",
   "metadata": {},
   "source": [
    "#### 1. Convert `starndard_value` type"
   ]
  },
  {
   "cell_type": "code",
   "execution_count": 18,
   "metadata": {},
   "outputs": [
    {
     "data": {
      "text/plain": [
       "activity_id            int64\n",
       "assay_chembl_id       object\n",
       "assay_description     object\n",
       "assay_type            object\n",
       "molecule_chembl_id    object\n",
       "relation              object\n",
       "standard_units        object\n",
       "standard_value        object\n",
       "target_chembl_id      object\n",
       "target_organism       object\n",
       "type                  object\n",
       "dtype: object"
      ]
     },
     "execution_count": 18,
     "metadata": {},
     "output_type": "execute_result"
    }
   ],
   "source": [
    "bioactivities_plasmodium_df.dtypes"
   ]
  },
  {
   "cell_type": "code",
   "execution_count": 19,
   "metadata": {},
   "outputs": [
    {
     "data": {
      "text/plain": [
       "activity_id             int64\n",
       "assay_chembl_id        object\n",
       "assay_description      object\n",
       "assay_type             object\n",
       "molecule_chembl_id     object\n",
       "relation               object\n",
       "standard_units         object\n",
       "standard_value        float64\n",
       "target_chembl_id       object\n",
       "target_organism        object\n",
       "type                   object\n",
       "dtype: object"
      ]
     },
     "execution_count": 19,
     "metadata": {},
     "output_type": "execute_result"
    }
   ],
   "source": [
    "bioactivities_plasmodium_df = bioactivities_plasmodium_df.astype({'standard_value': \"float64\"})\n",
    "bioactivities_plasmodium_df.dtypes"
   ]
  },
  {
   "attachments": {},
   "cell_type": "markdown",
   "metadata": {},
   "source": [
    "#### 2. Delete entries with missing values "
   ]
  },
  {
   "cell_type": "code",
   "execution_count": 20,
   "metadata": {},
   "outputs": [
    {
     "name": "stdout",
     "output_type": "stream",
     "text": [
      "The shape after dropping NA values: (717, 11)\n"
     ]
    }
   ],
   "source": [
    "# We can use the parameter `inplace = True` to do the changes into the dataframe directly\n",
    "bioactivities_plasmodium_df.dropna(axis=0, how=\"any\", inplace=True)\n",
    "print(f\"The shape after dropping NA values: {bioactivities_plasmodium_df.shape}\")"
   ]
  },
  {
   "attachments": {},
   "cell_type": "markdown",
   "metadata": {},
   "source": [
    "So we basically do not have any NA values!"
   ]
  },
  {
   "attachments": {},
   "cell_type": "markdown",
   "metadata": {},
   "source": [
    "#### 3. Keep only entries with “standard_unit == nM”"
   ]
  },
  {
   "cell_type": "code",
   "execution_count": 21,
   "metadata": {},
   "outputs": [
    {
     "name": "stdout",
     "output_type": "stream",
     "text": [
      "['nM']\n",
      "Number of non nM entries: 0\n"
     ]
    }
   ],
   "source": [
    "print(f\"{bioactivities_plasmodium_df['standard_units'].unique()}\")\n",
    "\n",
    "# Number of entries with standard_units columns != nM\n",
    "\n",
    "print(f\"Number of non nM entries: {bioactivities_plasmodium_df[bioactivities_plasmodium_df['standard_units'] != 'nM'].shape[0]}\")"
   ]
  },
  {
   "attachments": {},
   "cell_type": "markdown",
   "metadata": {},
   "source": [
    "#### 4. Delete or group by mean duplicated molecules"
   ]
  },
  {
   "attachments": {},
   "cell_type": "markdown",
   "metadata": {},
   "source": [
    "Sometimes the same molecule (molecule_chembl_id) has been tested more than once, in this case, we only keep the first one or even keep the mean of the measurements. We're gonna do the mean of the measurements and also just keep the first as it is on the tutorial."
   ]
  },
  {
   "cell_type": "code",
   "execution_count": 22,
   "metadata": {},
   "outputs": [
    {
     "data": {
      "text/html": [
       "<div>\n",
       "<style scoped>\n",
       "    .dataframe tbody tr th:only-of-type {\n",
       "        vertical-align: middle;\n",
       "    }\n",
       "\n",
       "    .dataframe tbody tr th {\n",
       "        vertical-align: top;\n",
       "    }\n",
       "\n",
       "    .dataframe thead th {\n",
       "        text-align: right;\n",
       "    }\n",
       "</style>\n",
       "<table border=\"1\" class=\"dataframe\">\n",
       "  <thead>\n",
       "    <tr style=\"text-align: right;\">\n",
       "      <th></th>\n",
       "      <th>molecule_chembl_id</th>\n",
       "      <th>mean_standard_value</th>\n",
       "    </tr>\n",
       "  </thead>\n",
       "  <tbody>\n",
       "    <tr>\n",
       "      <th>0</th>\n",
       "      <td>CHEMBL115483</td>\n",
       "      <td>225.450000</td>\n",
       "    </tr>\n",
       "    <tr>\n",
       "      <th>1</th>\n",
       "      <td>CHEMBL118202</td>\n",
       "      <td>325.075000</td>\n",
       "    </tr>\n",
       "    <tr>\n",
       "      <th>2</th>\n",
       "      <td>CHEMBL118425</td>\n",
       "      <td>491.825000</td>\n",
       "    </tr>\n",
       "    <tr>\n",
       "      <th>3</th>\n",
       "      <td>CHEMBL118581</td>\n",
       "      <td>500.425000</td>\n",
       "    </tr>\n",
       "    <tr>\n",
       "      <th>4</th>\n",
       "      <td>CHEMBL118602</td>\n",
       "      <td>1133.450000</td>\n",
       "    </tr>\n",
       "    <tr>\n",
       "      <th>...</th>\n",
       "      <td>...</td>\n",
       "      <td>...</td>\n",
       "    </tr>\n",
       "    <tr>\n",
       "      <th>140</th>\n",
       "      <td>CHEMBL95609</td>\n",
       "      <td>59471.428571</td>\n",
       "    </tr>\n",
       "    <tr>\n",
       "      <th>141</th>\n",
       "      <td>CHEMBL95615</td>\n",
       "      <td>9701.428571</td>\n",
       "    </tr>\n",
       "    <tr>\n",
       "      <th>142</th>\n",
       "      <td>CHEMBL95725</td>\n",
       "      <td>13200.000000</td>\n",
       "    </tr>\n",
       "    <tr>\n",
       "      <th>143</th>\n",
       "      <td>CHEMBL95783</td>\n",
       "      <td>18828.571429</td>\n",
       "    </tr>\n",
       "    <tr>\n",
       "      <th>144</th>\n",
       "      <td>CHEMBL97598</td>\n",
       "      <td>1171.428571</td>\n",
       "    </tr>\n",
       "  </tbody>\n",
       "</table>\n",
       "<p>145 rows × 2 columns</p>\n",
       "</div>"
      ],
      "text/plain": [
       "    molecule_chembl_id  mean_standard_value\n",
       "0         CHEMBL115483           225.450000\n",
       "1         CHEMBL118202           325.075000\n",
       "2         CHEMBL118425           491.825000\n",
       "3         CHEMBL118581           500.425000\n",
       "4         CHEMBL118602          1133.450000\n",
       "..                 ...                  ...\n",
       "140        CHEMBL95609         59471.428571\n",
       "141        CHEMBL95615          9701.428571\n",
       "142        CHEMBL95725         13200.000000\n",
       "143        CHEMBL95783         18828.571429\n",
       "144        CHEMBL97598          1171.428571\n",
       "\n",
       "[145 rows x 2 columns]"
      ]
     },
     "execution_count": 22,
     "metadata": {},
     "output_type": "execute_result"
    }
   ],
   "source": [
    "# If we wanted to delete the duplicates and only keep the first one we would do:\n",
    "# bioactivities_plasmodium_df.drop_duplicates(\"molecule_chembl_id\", keep=\"first\", inplace=True)\n",
    "# print(f\"DataFrame shape: {bioactivities_plasmodium_df.shape}\")\n",
    "\n",
    "# But if we'd want to keep the mean we can do:\n",
    "bioactivites_mean_df=bioactivities_plasmodium_df[[\"molecule_chembl_id\",\"standard_value\"]].groupby('molecule_chembl_id').mean().reset_index()\n",
    "bioactivites_mean_df.rename(columns={\"standard_value\": \"mean_standard_value\"}, inplace=True)\n",
    "bioactivites_mean_df\n"
   ]
  },
  {
   "cell_type": "code",
   "execution_count": 23,
   "metadata": {},
   "outputs": [
    {
     "name": "stderr",
     "output_type": "stream",
     "text": [
      "/tmp/ipykernel_16803/3494885800.py:2: SettingWithCopyWarning: \n",
      "A value is trying to be set on a copy of a slice from a DataFrame\n",
      "\n",
      "See the caveats in the documentation: https://pandas.pydata.org/pandas-docs/stable/user_guide/indexing.html#returning-a-view-versus-a-copy\n",
      "  bioactivities_last.drop_duplicates('molecule_chembl_id', keep='last', inplace=True)\n",
      "/tmp/ipykernel_16803/3494885800.py:3: SettingWithCopyWarning: \n",
      "A value is trying to be set on a copy of a slice from a DataFrame\n",
      "\n",
      "See the caveats in the documentation: https://pandas.pydata.org/pandas-docs/stable/user_guide/indexing.html#returning-a-view-versus-a-copy\n",
      "  bioactivities_last.rename(columns={\"standard_value\": \"last_standard_value\"}, inplace=True)\n"
     ]
    },
    {
     "data": {
      "text/html": [
       "<div>\n",
       "<style scoped>\n",
       "    .dataframe tbody tr th:only-of-type {\n",
       "        vertical-align: middle;\n",
       "    }\n",
       "\n",
       "    .dataframe tbody tr th {\n",
       "        vertical-align: top;\n",
       "    }\n",
       "\n",
       "    .dataframe thead th {\n",
       "        text-align: right;\n",
       "    }\n",
       "</style>\n",
       "<table border=\"1\" class=\"dataframe\">\n",
       "  <thead>\n",
       "    <tr style=\"text-align: right;\">\n",
       "      <th></th>\n",
       "      <th>molecule_chembl_id</th>\n",
       "      <th>last_standard_value</th>\n",
       "    </tr>\n",
       "  </thead>\n",
       "  <tbody>\n",
       "    <tr>\n",
       "      <th>2</th>\n",
       "      <td>CHEMBL2364573</td>\n",
       "      <td>14.5</td>\n",
       "    </tr>\n",
       "    <tr>\n",
       "      <th>6</th>\n",
       "      <td>CHEMBL324775</td>\n",
       "      <td>445.1</td>\n",
       "    </tr>\n",
       "    <tr>\n",
       "      <th>14</th>\n",
       "      <td>CHEMBL291931</td>\n",
       "      <td>1129.6</td>\n",
       "    </tr>\n",
       "    <tr>\n",
       "      <th>18</th>\n",
       "      <td>CHEMBL119188</td>\n",
       "      <td>770.1</td>\n",
       "    </tr>\n",
       "    <tr>\n",
       "      <th>27</th>\n",
       "      <td>CHEMBL30937</td>\n",
       "      <td>1380.0</td>\n",
       "    </tr>\n",
       "    <tr>\n",
       "      <th>...</th>\n",
       "      <td>...</td>\n",
       "      <td>...</td>\n",
       "    </tr>\n",
       "    <tr>\n",
       "      <th>712</th>\n",
       "      <td>CHEMBL95615</td>\n",
       "      <td>410.0</td>\n",
       "    </tr>\n",
       "    <tr>\n",
       "      <th>713</th>\n",
       "      <td>CHEMBL365894</td>\n",
       "      <td>930.0</td>\n",
       "    </tr>\n",
       "    <tr>\n",
       "      <th>714</th>\n",
       "      <td>CHEMBL95609</td>\n",
       "      <td>800.0</td>\n",
       "    </tr>\n",
       "    <tr>\n",
       "      <th>715</th>\n",
       "      <td>CHEMBL95274</td>\n",
       "      <td>1500.0</td>\n",
       "    </tr>\n",
       "    <tr>\n",
       "      <th>716</th>\n",
       "      <td>CHEMBL243185</td>\n",
       "      <td>31000.0</td>\n",
       "    </tr>\n",
       "  </tbody>\n",
       "</table>\n",
       "<p>145 rows × 2 columns</p>\n",
       "</div>"
      ],
      "text/plain": [
       "    molecule_chembl_id  last_standard_value\n",
       "2        CHEMBL2364573                 14.5\n",
       "6         CHEMBL324775                445.1\n",
       "14        CHEMBL291931               1129.6\n",
       "18        CHEMBL119188                770.1\n",
       "27         CHEMBL30937               1380.0\n",
       "..                 ...                  ...\n",
       "712        CHEMBL95615                410.0\n",
       "713       CHEMBL365894                930.0\n",
       "714        CHEMBL95609                800.0\n",
       "715        CHEMBL95274               1500.0\n",
       "716       CHEMBL243185              31000.0\n",
       "\n",
       "[145 rows x 2 columns]"
      ]
     },
     "execution_count": 23,
     "metadata": {},
     "output_type": "execute_result"
    }
   ],
   "source": [
    "\n",
    "bioactivities_last = bioactivities_plasmodium_df[['molecule_chembl_id', 'standard_value']]\n",
    "bioactivities_last.drop_duplicates('molecule_chembl_id', keep='last', inplace=True)\n",
    "bioactivities_last.rename(columns={\"standard_value\": \"last_standard_value\"}, inplace=True)\n",
    "bioactivities_last"
   ]
  },
  {
   "attachments": {},
   "cell_type": "markdown",
   "metadata": {},
   "source": [
    "We can basically drop the duplicates by keeping only the first value, as it is taught in the tutorial but I'm going to keep both the first entries and the mean just in case."
   ]
  },
  {
   "cell_type": "code",
   "execution_count": 24,
   "metadata": {},
   "outputs": [
    {
     "name": "stdout",
     "output_type": "stream",
     "text": [
      "145\n"
     ]
    }
   ],
   "source": [
    "bioactivities_plasmodium_df.drop_duplicates(\"molecule_chembl_id\", keep=\"first\", inplace=True)\n",
    "print(bioactivities_plasmodium_df.shape[0])"
   ]
  },
  {
   "attachments": {},
   "cell_type": "markdown",
   "metadata": {},
   "source": [
    "We can then merge the two datasets by keeping also the mean using the `pd.merge` pandas function using `molecule_chembl_id` as our key:"
   ]
  },
  {
   "cell_type": "code",
   "execution_count": 25,
   "metadata": {},
   "outputs": [
    {
     "data": {
      "text/html": [
       "<div>\n",
       "<style scoped>\n",
       "    .dataframe tbody tr th:only-of-type {\n",
       "        vertical-align: middle;\n",
       "    }\n",
       "\n",
       "    .dataframe tbody tr th {\n",
       "        vertical-align: top;\n",
       "    }\n",
       "\n",
       "    .dataframe thead th {\n",
       "        text-align: right;\n",
       "    }\n",
       "</style>\n",
       "<table border=\"1\" class=\"dataframe\">\n",
       "  <thead>\n",
       "    <tr style=\"text-align: right;\">\n",
       "      <th></th>\n",
       "      <th>activity_id</th>\n",
       "      <th>assay_chembl_id</th>\n",
       "      <th>assay_description</th>\n",
       "      <th>assay_type</th>\n",
       "      <th>molecule_chembl_id</th>\n",
       "      <th>relation</th>\n",
       "      <th>standard_units</th>\n",
       "      <th>standard_value</th>\n",
       "      <th>target_chembl_id</th>\n",
       "      <th>target_organism</th>\n",
       "      <th>type</th>\n",
       "      <th>mean_standard_value</th>\n",
       "      <th>last_standard_value</th>\n",
       "    </tr>\n",
       "  </thead>\n",
       "  <tbody>\n",
       "    <tr>\n",
       "      <th>0</th>\n",
       "      <td>185071</td>\n",
       "      <td>CHEMBL811761</td>\n",
       "      <td>Binding affinity was evaluated as inhibition o...</td>\n",
       "      <td>B</td>\n",
       "      <td>CHEMBL2364573</td>\n",
       "      <td>=</td>\n",
       "      <td>nM</td>\n",
       "      <td>4.7</td>\n",
       "      <td>CHEMBL1939</td>\n",
       "      <td>Plasmodium falciparum K1</td>\n",
       "      <td>Ki</td>\n",
       "      <td>7.966667</td>\n",
       "      <td>14.5</td>\n",
       "    </tr>\n",
       "    <tr>\n",
       "      <th>1</th>\n",
       "      <td>187525</td>\n",
       "      <td>CHEMBL821379</td>\n",
       "      <td>Inhibitory activity against wild-type dihydrof...</td>\n",
       "      <td>B</td>\n",
       "      <td>CHEMBL324775</td>\n",
       "      <td>=</td>\n",
       "      <td>nM</td>\n",
       "      <td>3.1</td>\n",
       "      <td>CHEMBL1939</td>\n",
       "      <td>Plasmodium falciparum K1</td>\n",
       "      <td>Ki</td>\n",
       "      <td>211.025000</td>\n",
       "      <td>445.1</td>\n",
       "    </tr>\n",
       "    <tr>\n",
       "      <th>2</th>\n",
       "      <td>188709</td>\n",
       "      <td>CHEMBL821379</td>\n",
       "      <td>Inhibitory activity against wild-type dihydrof...</td>\n",
       "      <td>B</td>\n",
       "      <td>CHEMBL416373</td>\n",
       "      <td>=</td>\n",
       "      <td>nM</td>\n",
       "      <td>0.4</td>\n",
       "      <td>CHEMBL1939</td>\n",
       "      <td>Plasmodium falciparum K1</td>\n",
       "      <td>Ki</td>\n",
       "      <td>53.985714</td>\n",
       "      <td>5.6</td>\n",
       "    </tr>\n",
       "    <tr>\n",
       "      <th>3</th>\n",
       "      <td>189896</td>\n",
       "      <td>CHEMBL821379</td>\n",
       "      <td>Inhibitory activity against wild-type dihydrof...</td>\n",
       "      <td>B</td>\n",
       "      <td>CHEMBL291931</td>\n",
       "      <td>=</td>\n",
       "      <td>nM</td>\n",
       "      <td>7.2</td>\n",
       "      <td>CHEMBL1939</td>\n",
       "      <td>Plasmodium falciparum K1</td>\n",
       "      <td>Ki</td>\n",
       "      <td>477.500000</td>\n",
       "      <td>1129.6</td>\n",
       "    </tr>\n",
       "    <tr>\n",
       "      <th>4</th>\n",
       "      <td>189912</td>\n",
       "      <td>CHEMBL821379</td>\n",
       "      <td>Inhibitory activity against wild-type dihydrof...</td>\n",
       "      <td>B</td>\n",
       "      <td>CHEMBL119188</td>\n",
       "      <td>=</td>\n",
       "      <td>nM</td>\n",
       "      <td>0.6</td>\n",
       "      <td>CHEMBL1939</td>\n",
       "      <td>Plasmodium falciparum K1</td>\n",
       "      <td>Ki</td>\n",
       "      <td>246.200000</td>\n",
       "      <td>770.1</td>\n",
       "    </tr>\n",
       "    <tr>\n",
       "      <th>...</th>\n",
       "      <td>...</td>\n",
       "      <td>...</td>\n",
       "      <td>...</td>\n",
       "      <td>...</td>\n",
       "      <td>...</td>\n",
       "      <td>...</td>\n",
       "      <td>...</td>\n",
       "      <td>...</td>\n",
       "      <td>...</td>\n",
       "      <td>...</td>\n",
       "      <td>...</td>\n",
       "      <td>...</td>\n",
       "      <td>...</td>\n",
       "    </tr>\n",
       "    <tr>\n",
       "      <th>140</th>\n",
       "      <td>1136399</td>\n",
       "      <td>CHEMBL821377</td>\n",
       "      <td>Binding affinity towards wild-type dihydrofola...</td>\n",
       "      <td>B</td>\n",
       "      <td>CHEMBL161673</td>\n",
       "      <td>=</td>\n",
       "      <td>nM</td>\n",
       "      <td>0.6</td>\n",
       "      <td>CHEMBL1939</td>\n",
       "      <td>Plasmodium falciparum K1</td>\n",
       "      <td>Ki</td>\n",
       "      <td>215.580000</td>\n",
       "      <td>955.0</td>\n",
       "    </tr>\n",
       "    <tr>\n",
       "      <th>141</th>\n",
       "      <td>1137686</td>\n",
       "      <td>CHEMBL821377</td>\n",
       "      <td>Binding affinity towards wild-type dihydrofola...</td>\n",
       "      <td>B</td>\n",
       "      <td>CHEMBL161034</td>\n",
       "      <td>=</td>\n",
       "      <td>nM</td>\n",
       "      <td>0.4</td>\n",
       "      <td>CHEMBL1939</td>\n",
       "      <td>Plasmodium falciparum K1</td>\n",
       "      <td>Ki</td>\n",
       "      <td>80.100000</td>\n",
       "      <td>3.8</td>\n",
       "    </tr>\n",
       "    <tr>\n",
       "      <th>142</th>\n",
       "      <td>1464744</td>\n",
       "      <td>CHEMBL828776</td>\n",
       "      <td>Inhibition constant against Plasmodium falcipa...</td>\n",
       "      <td>B</td>\n",
       "      <td>CHEMBL129788</td>\n",
       "      <td>=</td>\n",
       "      <td>nM</td>\n",
       "      <td>1.1</td>\n",
       "      <td>CHEMBL1939</td>\n",
       "      <td>Plasmodium falciparum K1</td>\n",
       "      <td>Ki</td>\n",
       "      <td>1.100000</td>\n",
       "      <td>1.1</td>\n",
       "    </tr>\n",
       "    <tr>\n",
       "      <th>143</th>\n",
       "      <td>1464745</td>\n",
       "      <td>CHEMBL828776</td>\n",
       "      <td>Inhibition constant against Plasmodium falcipa...</td>\n",
       "      <td>B</td>\n",
       "      <td>CHEMBL185800</td>\n",
       "      <td>=</td>\n",
       "      <td>nM</td>\n",
       "      <td>180.0</td>\n",
       "      <td>CHEMBL1939</td>\n",
       "      <td>Plasmodium falciparum K1</td>\n",
       "      <td>Ki</td>\n",
       "      <td>180.000000</td>\n",
       "      <td>180.0</td>\n",
       "    </tr>\n",
       "    <tr>\n",
       "      <th>144</th>\n",
       "      <td>1464746</td>\n",
       "      <td>CHEMBL828776</td>\n",
       "      <td>Inhibition constant against Plasmodium falcipa...</td>\n",
       "      <td>B</td>\n",
       "      <td>CHEMBL365481</td>\n",
       "      <td>=</td>\n",
       "      <td>nM</td>\n",
       "      <td>2300.0</td>\n",
       "      <td>CHEMBL1939</td>\n",
       "      <td>Plasmodium falciparum K1</td>\n",
       "      <td>Ki</td>\n",
       "      <td>2300.000000</td>\n",
       "      <td>2300.0</td>\n",
       "    </tr>\n",
       "  </tbody>\n",
       "</table>\n",
       "<p>145 rows × 13 columns</p>\n",
       "</div>"
      ],
      "text/plain": [
       "     activity_id assay_chembl_id  \\\n",
       "0         185071    CHEMBL811761   \n",
       "1         187525    CHEMBL821379   \n",
       "2         188709    CHEMBL821379   \n",
       "3         189896    CHEMBL821379   \n",
       "4         189912    CHEMBL821379   \n",
       "..           ...             ...   \n",
       "140      1136399    CHEMBL821377   \n",
       "141      1137686    CHEMBL821377   \n",
       "142      1464744    CHEMBL828776   \n",
       "143      1464745    CHEMBL828776   \n",
       "144      1464746    CHEMBL828776   \n",
       "\n",
       "                                     assay_description assay_type  \\\n",
       "0    Binding affinity was evaluated as inhibition o...          B   \n",
       "1    Inhibitory activity against wild-type dihydrof...          B   \n",
       "2    Inhibitory activity against wild-type dihydrof...          B   \n",
       "3    Inhibitory activity against wild-type dihydrof...          B   \n",
       "4    Inhibitory activity against wild-type dihydrof...          B   \n",
       "..                                                 ...        ...   \n",
       "140  Binding affinity towards wild-type dihydrofola...          B   \n",
       "141  Binding affinity towards wild-type dihydrofola...          B   \n",
       "142  Inhibition constant against Plasmodium falcipa...          B   \n",
       "143  Inhibition constant against Plasmodium falcipa...          B   \n",
       "144  Inhibition constant against Plasmodium falcipa...          B   \n",
       "\n",
       "    molecule_chembl_id relation standard_units  standard_value  \\\n",
       "0        CHEMBL2364573        =             nM             4.7   \n",
       "1         CHEMBL324775        =             nM             3.1   \n",
       "2         CHEMBL416373        =             nM             0.4   \n",
       "3         CHEMBL291931        =             nM             7.2   \n",
       "4         CHEMBL119188        =             nM             0.6   \n",
       "..                 ...      ...            ...             ...   \n",
       "140       CHEMBL161673        =             nM             0.6   \n",
       "141       CHEMBL161034        =             nM             0.4   \n",
       "142       CHEMBL129788        =             nM             1.1   \n",
       "143       CHEMBL185800        =             nM           180.0   \n",
       "144       CHEMBL365481        =             nM          2300.0   \n",
       "\n",
       "    target_chembl_id           target_organism type  mean_standard_value  \\\n",
       "0         CHEMBL1939  Plasmodium falciparum K1   Ki             7.966667   \n",
       "1         CHEMBL1939  Plasmodium falciparum K1   Ki           211.025000   \n",
       "2         CHEMBL1939  Plasmodium falciparum K1   Ki            53.985714   \n",
       "3         CHEMBL1939  Plasmodium falciparum K1   Ki           477.500000   \n",
       "4         CHEMBL1939  Plasmodium falciparum K1   Ki           246.200000   \n",
       "..               ...                       ...  ...                  ...   \n",
       "140       CHEMBL1939  Plasmodium falciparum K1   Ki           215.580000   \n",
       "141       CHEMBL1939  Plasmodium falciparum K1   Ki            80.100000   \n",
       "142       CHEMBL1939  Plasmodium falciparum K1   Ki             1.100000   \n",
       "143       CHEMBL1939  Plasmodium falciparum K1   Ki           180.000000   \n",
       "144       CHEMBL1939  Plasmodium falciparum K1   Ki          2300.000000   \n",
       "\n",
       "     last_standard_value  \n",
       "0                   14.5  \n",
       "1                  445.1  \n",
       "2                    5.6  \n",
       "3                 1129.6  \n",
       "4                  770.1  \n",
       "..                   ...  \n",
       "140                955.0  \n",
       "141                  3.8  \n",
       "142                  1.1  \n",
       "143                180.0  \n",
       "144               2300.0  \n",
       "\n",
       "[145 rows x 13 columns]"
      ]
     },
     "execution_count": 25,
     "metadata": {},
     "output_type": "execute_result"
    }
   ],
   "source": [
    "merged_bioactivities_plasmodium = pd.merge(bioactivities_plasmodium_df, bioactivites_mean_df, how=\"left\", on=\"molecule_chembl_id\")\n",
    "merged_bioactivities_plasmodium = pd.merge(merged_bioactivities_plasmodium, bioactivities_last, how=\"left\", on=\"molecule_chembl_id\")\n",
    "\n",
    "merged_bioactivities_plasmodium"
   ]
  },
  {
   "attachments": {},
   "cell_type": "markdown",
   "metadata": {},
   "source": [
    "#### 5. Reseting the DF index\n",
    "\n",
    "Reseting the dataframe index, just in case any index came out of place."
   ]
  },
  {
   "cell_type": "code",
   "execution_count": 26,
   "metadata": {},
   "outputs": [
    {
     "data": {
      "text/html": [
       "<div>\n",
       "<style scoped>\n",
       "    .dataframe tbody tr th:only-of-type {\n",
       "        vertical-align: middle;\n",
       "    }\n",
       "\n",
       "    .dataframe tbody tr th {\n",
       "        vertical-align: top;\n",
       "    }\n",
       "\n",
       "    .dataframe thead th {\n",
       "        text-align: right;\n",
       "    }\n",
       "</style>\n",
       "<table border=\"1\" class=\"dataframe\">\n",
       "  <thead>\n",
       "    <tr style=\"text-align: right;\">\n",
       "      <th></th>\n",
       "      <th>activity_id</th>\n",
       "      <th>assay_chembl_id</th>\n",
       "      <th>assay_description</th>\n",
       "      <th>assay_type</th>\n",
       "      <th>molecule_chembl_id</th>\n",
       "      <th>relation</th>\n",
       "      <th>standard_units</th>\n",
       "      <th>standard_value</th>\n",
       "      <th>target_chembl_id</th>\n",
       "      <th>target_organism</th>\n",
       "      <th>type</th>\n",
       "      <th>mean_standard_value</th>\n",
       "      <th>last_standard_value</th>\n",
       "    </tr>\n",
       "  </thead>\n",
       "  <tbody>\n",
       "    <tr>\n",
       "      <th>0</th>\n",
       "      <td>185071</td>\n",
       "      <td>CHEMBL811761</td>\n",
       "      <td>Binding affinity was evaluated as inhibition o...</td>\n",
       "      <td>B</td>\n",
       "      <td>CHEMBL2364573</td>\n",
       "      <td>=</td>\n",
       "      <td>nM</td>\n",
       "      <td>4.7</td>\n",
       "      <td>CHEMBL1939</td>\n",
       "      <td>Plasmodium falciparum K1</td>\n",
       "      <td>Ki</td>\n",
       "      <td>7.966667</td>\n",
       "      <td>14.5</td>\n",
       "    </tr>\n",
       "    <tr>\n",
       "      <th>1</th>\n",
       "      <td>187525</td>\n",
       "      <td>CHEMBL821379</td>\n",
       "      <td>Inhibitory activity against wild-type dihydrof...</td>\n",
       "      <td>B</td>\n",
       "      <td>CHEMBL324775</td>\n",
       "      <td>=</td>\n",
       "      <td>nM</td>\n",
       "      <td>3.1</td>\n",
       "      <td>CHEMBL1939</td>\n",
       "      <td>Plasmodium falciparum K1</td>\n",
       "      <td>Ki</td>\n",
       "      <td>211.025000</td>\n",
       "      <td>445.1</td>\n",
       "    </tr>\n",
       "    <tr>\n",
       "      <th>2</th>\n",
       "      <td>188709</td>\n",
       "      <td>CHEMBL821379</td>\n",
       "      <td>Inhibitory activity against wild-type dihydrof...</td>\n",
       "      <td>B</td>\n",
       "      <td>CHEMBL416373</td>\n",
       "      <td>=</td>\n",
       "      <td>nM</td>\n",
       "      <td>0.4</td>\n",
       "      <td>CHEMBL1939</td>\n",
       "      <td>Plasmodium falciparum K1</td>\n",
       "      <td>Ki</td>\n",
       "      <td>53.985714</td>\n",
       "      <td>5.6</td>\n",
       "    </tr>\n",
       "  </tbody>\n",
       "</table>\n",
       "</div>"
      ],
      "text/plain": [
       "   activity_id assay_chembl_id  \\\n",
       "0       185071    CHEMBL811761   \n",
       "1       187525    CHEMBL821379   \n",
       "2       188709    CHEMBL821379   \n",
       "\n",
       "                                   assay_description assay_type  \\\n",
       "0  Binding affinity was evaluated as inhibition o...          B   \n",
       "1  Inhibitory activity against wild-type dihydrof...          B   \n",
       "2  Inhibitory activity against wild-type dihydrof...          B   \n",
       "\n",
       "  molecule_chembl_id relation standard_units  standard_value target_chembl_id  \\\n",
       "0      CHEMBL2364573        =             nM             4.7       CHEMBL1939   \n",
       "1       CHEMBL324775        =             nM             3.1       CHEMBL1939   \n",
       "2       CHEMBL416373        =             nM             0.4       CHEMBL1939   \n",
       "\n",
       "            target_organism type  mean_standard_value  last_standard_value  \n",
       "0  Plasmodium falciparum K1   Ki             7.966667                 14.5  \n",
       "1  Plasmodium falciparum K1   Ki           211.025000                445.1  \n",
       "2  Plasmodium falciparum K1   Ki            53.985714                  5.6  "
      ]
     },
     "execution_count": 26,
     "metadata": {},
     "output_type": "execute_result"
    }
   ],
   "source": [
    "merged_bioactivities_plasmodium.reset_index(inplace=True, drop=True)\n",
    "merged_bioactivities_plasmodium.head(3)"
   ]
  },
  {
   "attachments": {},
   "cell_type": "markdown",
   "metadata": {},
   "source": [
    "#### 6. Renaming and reordering the columns"
   ]
  },
  {
   "cell_type": "code",
   "execution_count": 27,
   "metadata": {},
   "outputs": [
    {
     "data": {
      "text/html": [
       "<div>\n",
       "<style scoped>\n",
       "    .dataframe tbody tr th:only-of-type {\n",
       "        vertical-align: middle;\n",
       "    }\n",
       "\n",
       "    .dataframe tbody tr th {\n",
       "        vertical-align: top;\n",
       "    }\n",
       "\n",
       "    .dataframe thead th {\n",
       "        text-align: right;\n",
       "    }\n",
       "</style>\n",
       "<table border=\"1\" class=\"dataframe\">\n",
       "  <thead>\n",
       "    <tr style=\"text-align: right;\">\n",
       "      <th></th>\n",
       "      <th>activity_id</th>\n",
       "      <th>assay_chembl_id</th>\n",
       "      <th>assay_description</th>\n",
       "      <th>assay_type</th>\n",
       "      <th>molecule_chembl_id</th>\n",
       "      <th>relation</th>\n",
       "      <th>standard_units</th>\n",
       "      <th>first_Ki_value</th>\n",
       "      <th>target_chembl_id</th>\n",
       "      <th>target_organism</th>\n",
       "      <th>type</th>\n",
       "      <th>mean_Ki_value</th>\n",
       "      <th>last_Ki_value</th>\n",
       "    </tr>\n",
       "  </thead>\n",
       "  <tbody>\n",
       "    <tr>\n",
       "      <th>0</th>\n",
       "      <td>185071</td>\n",
       "      <td>CHEMBL811761</td>\n",
       "      <td>Binding affinity was evaluated as inhibition o...</td>\n",
       "      <td>B</td>\n",
       "      <td>CHEMBL2364573</td>\n",
       "      <td>=</td>\n",
       "      <td>nM</td>\n",
       "      <td>4.7</td>\n",
       "      <td>CHEMBL1939</td>\n",
       "      <td>Plasmodium falciparum K1</td>\n",
       "      <td>Ki</td>\n",
       "      <td>7.966667</td>\n",
       "      <td>14.5</td>\n",
       "    </tr>\n",
       "    <tr>\n",
       "      <th>1</th>\n",
       "      <td>187525</td>\n",
       "      <td>CHEMBL821379</td>\n",
       "      <td>Inhibitory activity against wild-type dihydrof...</td>\n",
       "      <td>B</td>\n",
       "      <td>CHEMBL324775</td>\n",
       "      <td>=</td>\n",
       "      <td>nM</td>\n",
       "      <td>3.1</td>\n",
       "      <td>CHEMBL1939</td>\n",
       "      <td>Plasmodium falciparum K1</td>\n",
       "      <td>Ki</td>\n",
       "      <td>211.025000</td>\n",
       "      <td>445.1</td>\n",
       "    </tr>\n",
       "    <tr>\n",
       "      <th>2</th>\n",
       "      <td>188709</td>\n",
       "      <td>CHEMBL821379</td>\n",
       "      <td>Inhibitory activity against wild-type dihydrof...</td>\n",
       "      <td>B</td>\n",
       "      <td>CHEMBL416373</td>\n",
       "      <td>=</td>\n",
       "      <td>nM</td>\n",
       "      <td>0.4</td>\n",
       "      <td>CHEMBL1939</td>\n",
       "      <td>Plasmodium falciparum K1</td>\n",
       "      <td>Ki</td>\n",
       "      <td>53.985714</td>\n",
       "      <td>5.6</td>\n",
       "    </tr>\n",
       "  </tbody>\n",
       "</table>\n",
       "</div>"
      ],
      "text/plain": [
       "   activity_id assay_chembl_id  \\\n",
       "0       185071    CHEMBL811761   \n",
       "1       187525    CHEMBL821379   \n",
       "2       188709    CHEMBL821379   \n",
       "\n",
       "                                   assay_description assay_type  \\\n",
       "0  Binding affinity was evaluated as inhibition o...          B   \n",
       "1  Inhibitory activity against wild-type dihydrof...          B   \n",
       "2  Inhibitory activity against wild-type dihydrof...          B   \n",
       "\n",
       "  molecule_chembl_id relation standard_units  first_Ki_value target_chembl_id  \\\n",
       "0      CHEMBL2364573        =             nM             4.7       CHEMBL1939   \n",
       "1       CHEMBL324775        =             nM             3.1       CHEMBL1939   \n",
       "2       CHEMBL416373        =             nM             0.4       CHEMBL1939   \n",
       "\n",
       "            target_organism type  mean_Ki_value  last_Ki_value  \n",
       "0  Plasmodium falciparum K1   Ki       7.966667           14.5  \n",
       "1  Plasmodium falciparum K1   Ki     211.025000          445.1  \n",
       "2  Plasmodium falciparum K1   Ki      53.985714            5.6  "
      ]
     },
     "execution_count": 27,
     "metadata": {},
     "output_type": "execute_result"
    }
   ],
   "source": [
    "merged_bioactivities_plasmodium.rename(columns={'standard_value': 'first_Ki_value', 'mean_standard_value': 'mean_Ki_value', 'last_standard_value': 'last_Ki_value'}, inplace=True)\n",
    "merged_bioactivities_plasmodium.head(3)"
   ]
  },
  {
   "cell_type": "code",
   "execution_count": 28,
   "metadata": {},
   "outputs": [],
   "source": [
    "merged_bioactivities_plasmodium = merged_bioactivities_plasmodium[['activity_id', 'assay_chembl_id', 'assay_description', 'assay_type', 'molecule_chembl_id', 'relation', 'first_Ki_value','last_Ki_value', 'mean_Ki_value', 'standard_units', 'standard_units', 'target_chembl_id', 'target_organism']]"
   ]
  },
  {
   "cell_type": "code",
   "execution_count": 29,
   "metadata": {},
   "outputs": [
    {
     "name": "stdout",
     "output_type": "stream",
     "text": [
      "145\n"
     ]
    }
   ],
   "source": [
    "result = merged_bioactivities_plasmodium.shape[0]\n",
    "print(result)"
   ]
  },
  {
   "attachments": {},
   "cell_type": "markdown",
   "metadata": {},
   "source": [
    "    So we finally have {{result}} molecules ids with their respective biological activity."
   ]
  },
  {
   "attachments": {},
   "cell_type": "markdown",
   "metadata": {},
   "source": [
    "### Download the compound data from ChEMBL"
   ]
  },
  {
   "attachments": {},
   "cell_type": "markdown",
   "metadata": {},
   "source": [
    "We can finally download the compound data from the ChEMBL database, again using the API from the site."
   ]
  },
  {
   "cell_type": "code",
   "execution_count": 30,
   "metadata": {},
   "outputs": [],
   "source": [
    "compounds_provider = compounds_api.filter(\n",
    "    molecule_chembl_id__in=list(merged_bioactivities_plasmodium['molecule_chembl_id'])\n",
    ").only('molecule_chembl_id', 'molecule_structures')"
   ]
  },
  {
   "cell_type": "code",
   "execution_count": 31,
   "metadata": {},
   "outputs": [
    {
     "data": {
      "application/vnd.jupyter.widget-view+json": {
       "model_id": "e1177ee898c44b68a3f5b495f88a915e",
       "version_major": 2,
       "version_minor": 0
      },
      "text/plain": [
       "  0%|          | 0/145 [00:00<?, ?it/s]"
      ]
     },
     "metadata": {},
     "output_type": "display_data"
    }
   ],
   "source": [
    "compounds = list(tqdm(compounds_provider))"
   ]
  },
  {
   "attachments": {},
   "cell_type": "markdown",
   "metadata": {},
   "source": [
    "After waiting for the compounds to be gathered (using the list function I think), we can now take a peek in our SMILES strucutres gathered."
   ]
  },
  {
   "cell_type": "code",
   "execution_count": 32,
   "metadata": {},
   "outputs": [
    {
     "name": "stdout",
     "output_type": "stream",
     "text": [
      "(145, 2)\n"
     ]
    },
    {
     "data": {
      "text/html": [
       "<div>\n",
       "<style scoped>\n",
       "    .dataframe tbody tr th:only-of-type {\n",
       "        vertical-align: middle;\n",
       "    }\n",
       "\n",
       "    .dataframe tbody tr th {\n",
       "        vertical-align: top;\n",
       "    }\n",
       "\n",
       "    .dataframe thead th {\n",
       "        text-align: right;\n",
       "    }\n",
       "</style>\n",
       "<table border=\"1\" class=\"dataframe\">\n",
       "  <thead>\n",
       "    <tr style=\"text-align: right;\">\n",
       "      <th></th>\n",
       "      <th>molecule_chembl_id</th>\n",
       "      <th>molecule_structures</th>\n",
       "    </tr>\n",
       "  </thead>\n",
       "  <tbody>\n",
       "    <tr>\n",
       "      <th>0</th>\n",
       "      <td>CHEMBL7004</td>\n",
       "      <td>{'canonical_smiles': 'Cc1ccc(N2C(N)=NC(N)=NC2(...</td>\n",
       "    </tr>\n",
       "    <tr>\n",
       "      <th>1</th>\n",
       "      <td>CHEMBL7005</td>\n",
       "      <td>{'canonical_smiles': 'CC1(C)N=C(N)N=C(N)N1c1cc...</td>\n",
       "    </tr>\n",
       "    <tr>\n",
       "      <th>2</th>\n",
       "      <td>CHEMBL6741</td>\n",
       "      <td>{'canonical_smiles': 'CC1(C)N=C(N)N=C(N)N1c1cc...</td>\n",
       "    </tr>\n",
       "    <tr>\n",
       "      <th>3</th>\n",
       "      <td>CHEMBL6742</td>\n",
       "      <td>{'canonical_smiles': 'CC1(C)N=C(N)N=C(N)N1c1cc...</td>\n",
       "    </tr>\n",
       "    <tr>\n",
       "      <th>4</th>\n",
       "      <td>CHEMBL22</td>\n",
       "      <td>{'canonical_smiles': 'COc1cc(Cc2cnc(N)nc2N)cc(...</td>\n",
       "    </tr>\n",
       "  </tbody>\n",
       "</table>\n",
       "</div>"
      ],
      "text/plain": [
       "  molecule_chembl_id                                molecule_structures\n",
       "0         CHEMBL7004  {'canonical_smiles': 'Cc1ccc(N2C(N)=NC(N)=NC2(...\n",
       "1         CHEMBL7005  {'canonical_smiles': 'CC1(C)N=C(N)N=C(N)N1c1cc...\n",
       "2         CHEMBL6741  {'canonical_smiles': 'CC1(C)N=C(N)N=C(N)N1c1cc...\n",
       "3         CHEMBL6742  {'canonical_smiles': 'CC1(C)N=C(N)N=C(N)N1c1cc...\n",
       "4           CHEMBL22  {'canonical_smiles': 'COc1cc(Cc2cnc(N)nc2N)cc(..."
      ]
     },
     "execution_count": 32,
     "metadata": {},
     "output_type": "execute_result"
    }
   ],
   "source": [
    "compounds_df = pd.DataFrame.from_records(compounds)\n",
    "print(compounds_df.shape)\n",
    "compounds_df.head(5)"
   ]
  },
  {
   "attachments": {},
   "cell_type": "markdown",
   "metadata": {},
   "source": [
    "We can perform now the following steps:\n",
    "1. Remove entries with missing structures\n",
    "2. Delete duplicate molecule by `'molecule_chembl_id'` variable\n",
    "3. Get only molecules with **Canonical SMILES**"
   ]
  },
  {
   "attachments": {},
   "cell_type": "markdown",
   "metadata": {},
   "source": [
    "#### 1. Remove missing structures"
   ]
  },
  {
   "cell_type": "code",
   "execution_count": 33,
   "metadata": {},
   "outputs": [
    {
     "name": "stdout",
     "output_type": "stream",
     "text": [
      "145\n"
     ]
    },
    {
     "data": {
      "text/html": [
       "<div>\n",
       "<style scoped>\n",
       "    .dataframe tbody tr th:only-of-type {\n",
       "        vertical-align: middle;\n",
       "    }\n",
       "\n",
       "    .dataframe tbody tr th {\n",
       "        vertical-align: top;\n",
       "    }\n",
       "\n",
       "    .dataframe thead th {\n",
       "        text-align: right;\n",
       "    }\n",
       "</style>\n",
       "<table border=\"1\" class=\"dataframe\">\n",
       "  <thead>\n",
       "    <tr style=\"text-align: right;\">\n",
       "      <th></th>\n",
       "      <th>molecule_chembl_id</th>\n",
       "      <th>molecule_structures</th>\n",
       "    </tr>\n",
       "  </thead>\n",
       "  <tbody>\n",
       "    <tr>\n",
       "      <th>0</th>\n",
       "      <td>CHEMBL7004</td>\n",
       "      <td>{'canonical_smiles': 'Cc1ccc(N2C(N)=NC(N)=NC2(...</td>\n",
       "    </tr>\n",
       "    <tr>\n",
       "      <th>1</th>\n",
       "      <td>CHEMBL7005</td>\n",
       "      <td>{'canonical_smiles': 'CC1(C)N=C(N)N=C(N)N1c1cc...</td>\n",
       "    </tr>\n",
       "    <tr>\n",
       "      <th>2</th>\n",
       "      <td>CHEMBL6741</td>\n",
       "      <td>{'canonical_smiles': 'CC1(C)N=C(N)N=C(N)N1c1cc...</td>\n",
       "    </tr>\n",
       "  </tbody>\n",
       "</table>\n",
       "</div>"
      ],
      "text/plain": [
       "  molecule_chembl_id                                molecule_structures\n",
       "0         CHEMBL7004  {'canonical_smiles': 'Cc1ccc(N2C(N)=NC(N)=NC2(...\n",
       "1         CHEMBL7005  {'canonical_smiles': 'CC1(C)N=C(N)N=C(N)N1c1cc...\n",
       "2         CHEMBL6741  {'canonical_smiles': 'CC1(C)N=C(N)N=C(N)N1c1cc..."
      ]
     },
     "execution_count": 33,
     "metadata": {},
     "output_type": "execute_result"
    }
   ],
   "source": [
    "compounds_df.dropna(axis=0, how=\"any\", inplace=True)\n",
    "print(compounds_df.shape[0])\n",
    "\n",
    "compounds_df.head(3)"
   ]
  },
  {
   "attachments": {},
   "cell_type": "markdown",
   "metadata": {},
   "source": [
    "Ok, so no missing entries. Nice!"
   ]
  },
  {
   "attachments": {},
   "cell_type": "markdown",
   "metadata": {},
   "source": [
    "#### 2. Delete duplicates"
   ]
  },
  {
   "cell_type": "code",
   "execution_count": 34,
   "metadata": {},
   "outputs": [
    {
     "name": "stdout",
     "output_type": "stream",
     "text": [
      "145\n"
     ]
    }
   ],
   "source": [
    "compounds_df.drop_duplicates('molecule_chembl_id', keep='first', inplace=True)\n",
    "print(compounds_df.shape[0])"
   ]
  },
  {
   "attachments": {},
   "cell_type": "markdown",
   "metadata": {},
   "source": [
    "No duplicates! Nice!"
   ]
  },
  {
   "attachments": {},
   "cell_type": "markdown",
   "metadata": {},
   "source": [
    "#### 3. Only Canonical SMILES"
   ]
  },
  {
   "attachments": {},
   "cell_type": "markdown",
   "metadata": {},
   "source": [
    "As one can see, we have multiple outputs for the structure gathered in `compounds_df`, but we only want to keep the canonical_smiles information."
   ]
  },
  {
   "cell_type": "code",
   "execution_count": 35,
   "metadata": {},
   "outputs": [
    {
     "data": {
      "text/plain": [
       "dict_keys(['canonical_smiles', 'molfile', 'standard_inchi', 'standard_inchi_key'])"
      ]
     },
     "execution_count": 35,
     "metadata": {},
     "output_type": "execute_result"
    }
   ],
   "source": [
    "compounds_df.iloc[0].molecule_structures.keys()"
   ]
  },
  {
   "attachments": {},
   "cell_type": "markdown",
   "metadata": {},
   "source": [
    "We can do a `for` loop to retrieve only the canonical_smiles key. That's what we do below:"
   ]
  },
  {
   "cell_type": "code",
   "execution_count": 36,
   "metadata": {},
   "outputs": [],
   "source": [
    "canonical_smiles = []\n",
    "\n",
    "for i, compounds in compounds_df.iterrows():\n",
    "    try:\n",
    "        canonical_smiles.append(compounds[\"molecule_structures\"][\"canonical_smiles\"])\n",
    "    except KeyError:\n",
    "        canonical_smiles.append(None)\n",
    "\n",
    "compounds_df['smiles'] = canonical_smiles\n",
    "compounds_df.drop('molecule_structures', axis=1, inplace=True)\n"
   ]
  },
  {
   "attachments": {},
   "cell_type": "markdown",
   "metadata": {},
   "source": [
    "Sanity check to see if there is any NA value appended before."
   ]
  },
  {
   "cell_type": "code",
   "execution_count": 37,
   "metadata": {},
   "outputs": [
    {
     "name": "stdout",
     "output_type": "stream",
     "text": [
      "The shape of the compounds dataset is: (145, 2)\n"
     ]
    },
    {
     "data": {
      "text/html": [
       "<div>\n",
       "<style scoped>\n",
       "    .dataframe tbody tr th:only-of-type {\n",
       "        vertical-align: middle;\n",
       "    }\n",
       "\n",
       "    .dataframe tbody tr th {\n",
       "        vertical-align: top;\n",
       "    }\n",
       "\n",
       "    .dataframe thead th {\n",
       "        text-align: right;\n",
       "    }\n",
       "</style>\n",
       "<table border=\"1\" class=\"dataframe\">\n",
       "  <thead>\n",
       "    <tr style=\"text-align: right;\">\n",
       "      <th></th>\n",
       "      <th>molecule_chembl_id</th>\n",
       "      <th>smiles</th>\n",
       "    </tr>\n",
       "  </thead>\n",
       "  <tbody>\n",
       "    <tr>\n",
       "      <th>0</th>\n",
       "      <td>CHEMBL7004</td>\n",
       "      <td>Cc1ccc(N2C(N)=NC(N)=NC2(C)C)cc1</td>\n",
       "    </tr>\n",
       "    <tr>\n",
       "      <th>1</th>\n",
       "      <td>CHEMBL7005</td>\n",
       "      <td>CC1(C)N=C(N)N=C(N)N1c1ccc(F)cc1</td>\n",
       "    </tr>\n",
       "    <tr>\n",
       "      <th>2</th>\n",
       "      <td>CHEMBL6741</td>\n",
       "      <td>CC1(C)N=C(N)N=C(N)N1c1ccc(Br)cc1</td>\n",
       "    </tr>\n",
       "  </tbody>\n",
       "</table>\n",
       "</div>"
      ],
      "text/plain": [
       "  molecule_chembl_id                            smiles\n",
       "0         CHEMBL7004   Cc1ccc(N2C(N)=NC(N)=NC2(C)C)cc1\n",
       "1         CHEMBL7005   CC1(C)N=C(N)N=C(N)N1c1ccc(F)cc1\n",
       "2         CHEMBL6741  CC1(C)N=C(N)N=C(N)N1c1ccc(Br)cc1"
      ]
     },
     "execution_count": 37,
     "metadata": {},
     "output_type": "execute_result"
    }
   ],
   "source": [
    "compounds_df.dropna(axis=0, how='any', inplace=True)\n",
    "print(f\"The shape of the compounds dataset is: {compounds_df.shape}\")\n",
    "compounds_df.head(3)"
   ]
  },
  {
   "attachments": {},
   "cell_type": "markdown",
   "metadata": {},
   "source": [
    "### Output of the data"
   ]
  },
  {
   "attachments": {},
   "cell_type": "markdown",
   "metadata": {},
   "source": [
    "Doing a summary of the data that we have gathered so far, that is: the `merged_bioactivities_plasmodium` and the  `compounds_df`. The first one contains the biological activities and the second one contains the smiles respective to each `molecule_chembl_id`."
   ]
  },
  {
   "cell_type": "code",
   "execution_count": 38,
   "metadata": {},
   "outputs": [
    {
     "name": "stdout",
     "output_type": "stream",
     "text": [
      "Total molecule_ids retrieved from ChEMBL for our plasmodium target: 145\n",
      "\n"
     ]
    },
    {
     "data": {
      "text/plain": [
       "Index(['activity_id', 'assay_chembl_id', 'assay_description', 'assay_type',\n",
       "       'molecule_chembl_id', 'relation', 'first_Ki_value', 'last_Ki_value',\n",
       "       'mean_Ki_value', 'standard_units', 'standard_units', 'target_chembl_id',\n",
       "       'target_organism'],\n",
       "      dtype='object')"
      ]
     },
     "execution_count": 38,
     "metadata": {},
     "output_type": "execute_result"
    }
   ],
   "source": [
    "print(f\"Total molecule_ids retrieved from ChEMBL for our plasmodium target: {merged_bioactivities_plasmodium.shape[0]}\\n\")\n",
    "merged_bioactivities_plasmodium.columns"
   ]
  },
  {
   "attachments": {},
   "cell_type": "markdown",
   "metadata": {},
   "source": [
    "Simultaneously for the `canonical_smiles` fetched, we have:"
   ]
  },
  {
   "cell_type": "code",
   "execution_count": 39,
   "metadata": {},
   "outputs": [
    {
     "name": "stdout",
     "output_type": "stream",
     "text": [
      "Total canonical_smiles fetched for our plasmodium target: 145\n",
      "\n"
     ]
    },
    {
     "data": {
      "text/plain": [
       "Index(['molecule_chembl_id', 'smiles'], dtype='object')"
      ]
     },
     "execution_count": 39,
     "metadata": {},
     "output_type": "execute_result"
    }
   ],
   "source": [
    "print(f\"Total canonical_smiles fetched for our plasmodium target: {compounds_df.shape[0]}\\n\")\n",
    "compounds_df.columns"
   ]
  },
  {
   "attachments": {},
   "cell_type": "markdown",
   "metadata": {},
   "source": [
    "### Merge both datasets"
   ]
  },
  {
   "attachments": {},
   "cell_type": "markdown",
   "metadata": {},
   "source": [
    "Merging both datasets so we can do a `csv` of our outputs and get a preprocessed to the cleaning step of the data. We're basically going to merge the datsets and keep the following columns:\n",
    "\n",
    "* ChEMBL IDs: `molecule_chembl_id`\n",
    "* SMILES: `smiles`\n",
    "* Units: `standard_units`\n",
    "* Last Ki: `last_Ki_value`\n",
    "* Mean Ki: `mean_Ki_value`\n",
    "* Target: `target_organism` - (so we can tell right away what target we're talking about)"
   ]
  },
  {
   "cell_type": "code",
   "execution_count": 40,
   "metadata": {},
   "outputs": [
    {
     "data": {
      "text/html": [
       "<div>\n",
       "<style scoped>\n",
       "    .dataframe tbody tr th:only-of-type {\n",
       "        vertical-align: middle;\n",
       "    }\n",
       "\n",
       "    .dataframe tbody tr th {\n",
       "        vertical-align: top;\n",
       "    }\n",
       "\n",
       "    .dataframe thead th {\n",
       "        text-align: right;\n",
       "    }\n",
       "</style>\n",
       "<table border=\"1\" class=\"dataframe\">\n",
       "  <thead>\n",
       "    <tr style=\"text-align: right;\">\n",
       "      <th></th>\n",
       "      <th>molecule_chembl_id</th>\n",
       "      <th>first_Ki_value</th>\n",
       "      <th>last_Ki_value</th>\n",
       "      <th>mean_Ki_value</th>\n",
       "      <th>standard_units</th>\n",
       "      <th>standard_units</th>\n",
       "      <th>target_organism</th>\n",
       "      <th>smiles</th>\n",
       "    </tr>\n",
       "  </thead>\n",
       "  <tbody>\n",
       "    <tr>\n",
       "      <th>0</th>\n",
       "      <td>CHEMBL2364573</td>\n",
       "      <td>4.7</td>\n",
       "      <td>14.5</td>\n",
       "      <td>7.966667</td>\n",
       "      <td>nM</td>\n",
       "      <td>nM</td>\n",
       "      <td>Plasmodium falciparum K1</td>\n",
       "      <td>NC(=O)c1ccc[n+]([C@H]2O[C@@H](COP(=O)([O-])OP(...</td>\n",
       "    </tr>\n",
       "    <tr>\n",
       "      <th>1</th>\n",
       "      <td>CHEMBL324775</td>\n",
       "      <td>3.1</td>\n",
       "      <td>445.1</td>\n",
       "      <td>211.025000</td>\n",
       "      <td>nM</td>\n",
       "      <td>nM</td>\n",
       "      <td>Plasmodium falciparum K1</td>\n",
       "      <td>CCCCCCCOc1cc(Cc2cnc(N)nc2N)ccc1OC</td>\n",
       "    </tr>\n",
       "    <tr>\n",
       "      <th>2</th>\n",
       "      <td>CHEMBL416373</td>\n",
       "      <td>0.4</td>\n",
       "      <td>5.6</td>\n",
       "      <td>53.985714</td>\n",
       "      <td>nM</td>\n",
       "      <td>nM</td>\n",
       "      <td>Plasmodium falciparum K1</td>\n",
       "      <td>CCCCOc1cc(Cc2cnc(N)nc2N)ccc1OCc1cc(OC)c(OC)c(O...</td>\n",
       "    </tr>\n",
       "    <tr>\n",
       "      <th>3</th>\n",
       "      <td>CHEMBL291931</td>\n",
       "      <td>7.2</td>\n",
       "      <td>1129.6</td>\n",
       "      <td>477.500000</td>\n",
       "      <td>nM</td>\n",
       "      <td>nM</td>\n",
       "      <td>Plasmodium falciparum K1</td>\n",
       "      <td>COc1ccc(Cc2cnc(N)nc2N)cc1OCc1ccccc1</td>\n",
       "    </tr>\n",
       "    <tr>\n",
       "      <th>4</th>\n",
       "      <td>CHEMBL119188</td>\n",
       "      <td>0.6</td>\n",
       "      <td>770.1</td>\n",
       "      <td>246.200000</td>\n",
       "      <td>nM</td>\n",
       "      <td>nM</td>\n",
       "      <td>Plasmodium falciparum K1</td>\n",
       "      <td>CCOc1cc(Cc2cnc(N)nc2N)ccc1OCCCOc1ccccc1</td>\n",
       "    </tr>\n",
       "  </tbody>\n",
       "</table>\n",
       "</div>"
      ],
      "text/plain": [
       "  molecule_chembl_id  first_Ki_value  last_Ki_value  mean_Ki_value  \\\n",
       "0      CHEMBL2364573             4.7           14.5       7.966667   \n",
       "1       CHEMBL324775             3.1          445.1     211.025000   \n",
       "2       CHEMBL416373             0.4            5.6      53.985714   \n",
       "3       CHEMBL291931             7.2         1129.6     477.500000   \n",
       "4       CHEMBL119188             0.6          770.1     246.200000   \n",
       "\n",
       "  standard_units standard_units           target_organism  \\\n",
       "0             nM             nM  Plasmodium falciparum K1   \n",
       "1             nM             nM  Plasmodium falciparum K1   \n",
       "2             nM             nM  Plasmodium falciparum K1   \n",
       "3             nM             nM  Plasmodium falciparum K1   \n",
       "4             nM             nM  Plasmodium falciparum K1   \n",
       "\n",
       "                                              smiles  \n",
       "0  NC(=O)c1ccc[n+]([C@H]2O[C@@H](COP(=O)([O-])OP(...  \n",
       "1                  CCCCCCCOc1cc(Cc2cnc(N)nc2N)ccc1OC  \n",
       "2  CCCCOc1cc(Cc2cnc(N)nc2N)ccc1OCc1cc(OC)c(OC)c(O...  \n",
       "3                COc1ccc(Cc2cnc(N)nc2N)cc1OCc1ccccc1  \n",
       "4            CCOc1cc(Cc2cnc(N)nc2N)ccc1OCCCOc1ccccc1  "
      ]
     },
     "execution_count": 40,
     "metadata": {},
     "output_type": "execute_result"
    }
   ],
   "source": [
    "# Merging both datasets\n",
    "plasmodium_chembl_output_df = pd.merge(\n",
    "    merged_bioactivities_plasmodium[['molecule_chembl_id', 'first_Ki_value','last_Ki_value', 'mean_Ki_value', 'standard_units', 'target_organism']],\n",
    "    compounds_df,\n",
    "    on='molecule_chembl_id'\n",
    ")\n",
    "\n",
    "plasmodium_chembl_output_df.head()"
   ]
  },
  {
   "attachments": {},
   "cell_type": "markdown",
   "metadata": {},
   "source": [
    "### Add pKi values"
   ]
  },
  {
   "attachments": {},
   "cell_type": "markdown",
   "metadata": {},
   "source": [
    "As it known to the QSAR community, converting raw Ki numbers to pKi is a important step into the modeling pipeline. Because of that, we need to transform our previously collected Ki values into pKi values. First we make a function to convert pKi to Ki `convert_pki` and use the `apply()` method to do it in the vertical axis (1)."
   ]
  },
  {
   "cell_type": "code",
   "execution_count": 41,
   "metadata": {},
   "outputs": [],
   "source": [
    "# Define a function to convert Ki to pKi\n",
    "def convert_pki(Ki):\n",
    "    pKi_value = 9 - math.log10(Ki)\n",
    "    return pKi_value"
   ]
  },
  {
   "cell_type": "code",
   "execution_count": 43,
   "metadata": {},
   "outputs": [
    {
     "data": {
      "text/html": [
       "<div>\n",
       "<style scoped>\n",
       "    .dataframe tbody tr th:only-of-type {\n",
       "        vertical-align: middle;\n",
       "    }\n",
       "\n",
       "    .dataframe tbody tr th {\n",
       "        vertical-align: top;\n",
       "    }\n",
       "\n",
       "    .dataframe thead th {\n",
       "        text-align: right;\n",
       "    }\n",
       "</style>\n",
       "<table border=\"1\" class=\"dataframe\">\n",
       "  <thead>\n",
       "    <tr style=\"text-align: right;\">\n",
       "      <th></th>\n",
       "      <th>molecule_chembl_id</th>\n",
       "      <th>first_Ki_value</th>\n",
       "      <th>last_Ki_value</th>\n",
       "      <th>mean_Ki_value</th>\n",
       "      <th>standard_units</th>\n",
       "      <th>standard_units</th>\n",
       "      <th>target_organism</th>\n",
       "      <th>smiles</th>\n",
       "      <th>pKi_mean_value</th>\n",
       "      <th>pKi_last_value</th>\n",
       "      <th>pKi_first_value</th>\n",
       "    </tr>\n",
       "  </thead>\n",
       "  <tbody>\n",
       "    <tr>\n",
       "      <th>0</th>\n",
       "      <td>CHEMBL2364573</td>\n",
       "      <td>4.7</td>\n",
       "      <td>14.5</td>\n",
       "      <td>7.966667</td>\n",
       "      <td>nM</td>\n",
       "      <td>nM</td>\n",
       "      <td>Plasmodium falciparum K1</td>\n",
       "      <td>NC(=O)c1ccc[n+]([C@H]2O[C@@H](COP(=O)([O-])OP(...</td>\n",
       "      <td>8.098723</td>\n",
       "      <td>7.838632</td>\n",
       "      <td>8.327902</td>\n",
       "    </tr>\n",
       "    <tr>\n",
       "      <th>1</th>\n",
       "      <td>CHEMBL324775</td>\n",
       "      <td>3.1</td>\n",
       "      <td>445.1</td>\n",
       "      <td>211.025000</td>\n",
       "      <td>nM</td>\n",
       "      <td>nM</td>\n",
       "      <td>Plasmodium falciparum K1</td>\n",
       "      <td>CCCCCCCOc1cc(Cc2cnc(N)nc2N)ccc1OC</td>\n",
       "      <td>6.675666</td>\n",
       "      <td>6.351542</td>\n",
       "      <td>8.508638</td>\n",
       "    </tr>\n",
       "    <tr>\n",
       "      <th>2</th>\n",
       "      <td>CHEMBL416373</td>\n",
       "      <td>0.4</td>\n",
       "      <td>5.6</td>\n",
       "      <td>53.985714</td>\n",
       "      <td>nM</td>\n",
       "      <td>nM</td>\n",
       "      <td>Plasmodium falciparum K1</td>\n",
       "      <td>CCCCOc1cc(Cc2cnc(N)nc2N)ccc1OCc1cc(OC)c(OC)c(O...</td>\n",
       "      <td>7.267721</td>\n",
       "      <td>8.251812</td>\n",
       "      <td>9.397940</td>\n",
       "    </tr>\n",
       "    <tr>\n",
       "      <th>3</th>\n",
       "      <td>CHEMBL291931</td>\n",
       "      <td>7.2</td>\n",
       "      <td>1129.6</td>\n",
       "      <td>477.500000</td>\n",
       "      <td>nM</td>\n",
       "      <td>nM</td>\n",
       "      <td>Plasmodium falciparum K1</td>\n",
       "      <td>COc1ccc(Cc2cnc(N)nc2N)cc1OCc1ccccc1</td>\n",
       "      <td>6.321027</td>\n",
       "      <td>5.947075</td>\n",
       "      <td>8.142668</td>\n",
       "    </tr>\n",
       "    <tr>\n",
       "      <th>4</th>\n",
       "      <td>CHEMBL119188</td>\n",
       "      <td>0.6</td>\n",
       "      <td>770.1</td>\n",
       "      <td>246.200000</td>\n",
       "      <td>nM</td>\n",
       "      <td>nM</td>\n",
       "      <td>Plasmodium falciparum K1</td>\n",
       "      <td>CCOc1cc(Cc2cnc(N)nc2N)ccc1OCCCOc1ccccc1</td>\n",
       "      <td>6.608712</td>\n",
       "      <td>6.113453</td>\n",
       "      <td>9.221849</td>\n",
       "    </tr>\n",
       "  </tbody>\n",
       "</table>\n",
       "</div>"
      ],
      "text/plain": [
       "  molecule_chembl_id  first_Ki_value  last_Ki_value  mean_Ki_value  \\\n",
       "0      CHEMBL2364573             4.7           14.5       7.966667   \n",
       "1       CHEMBL324775             3.1          445.1     211.025000   \n",
       "2       CHEMBL416373             0.4            5.6      53.985714   \n",
       "3       CHEMBL291931             7.2         1129.6     477.500000   \n",
       "4       CHEMBL119188             0.6          770.1     246.200000   \n",
       "\n",
       "  standard_units standard_units           target_organism  \\\n",
       "0             nM             nM  Plasmodium falciparum K1   \n",
       "1             nM             nM  Plasmodium falciparum K1   \n",
       "2             nM             nM  Plasmodium falciparum K1   \n",
       "3             nM             nM  Plasmodium falciparum K1   \n",
       "4             nM             nM  Plasmodium falciparum K1   \n",
       "\n",
       "                                              smiles  pKi_mean_value  \\\n",
       "0  NC(=O)c1ccc[n+]([C@H]2O[C@@H](COP(=O)([O-])OP(...        8.098723   \n",
       "1                  CCCCCCCOc1cc(Cc2cnc(N)nc2N)ccc1OC        6.675666   \n",
       "2  CCCCOc1cc(Cc2cnc(N)nc2N)ccc1OCc1cc(OC)c(OC)c(O...        7.267721   \n",
       "3                COc1ccc(Cc2cnc(N)nc2N)cc1OCc1ccccc1        6.321027   \n",
       "4            CCOc1cc(Cc2cnc(N)nc2N)ccc1OCCCOc1ccccc1        6.608712   \n",
       "\n",
       "   pKi_last_value  pKi_first_value  \n",
       "0        7.838632         8.327902  \n",
       "1        6.351542         8.508638  \n",
       "2        8.251812         9.397940  \n",
       "3        5.947075         8.142668  \n",
       "4        6.113453         9.221849  "
      ]
     },
     "execution_count": 43,
     "metadata": {},
     "output_type": "execute_result"
    }
   ],
   "source": [
    "plasmodium_chembl_output_df['pKi_mean_value'] = plasmodium_chembl_output_df.apply(lambda x:convert_pki(x.mean_Ki_value), axis=1)\n",
    "plasmodium_chembl_output_df['pKi_last_value'] = plasmodium_chembl_output_df.apply(lambda x: convert_pki(x.last_Ki_value), axis=1)\n",
    "plasmodium_chembl_output_df['pKi_first_value'] = plasmodium_chembl_output_df.apply(lambda x: convert_pki(x.first_Ki_value), axis=1)\n",
    "plasmodium_chembl_output_df.head()"
   ]
  },
  {
   "attachments": {},
   "cell_type": "markdown",
   "metadata": {},
   "source": [
    "Our final dataset can be further curated and streamlined into the following process steps now, we just need to save it into an appropriate '.csv' file to be incorporated in further scripts."
   ]
  },
  {
   "cell_type": "code",
   "execution_count": 42,
   "metadata": {},
   "outputs": [
    {
     "data": {
      "text/plain": [
       "(145, 8)"
      ]
     },
     "execution_count": 42,
     "metadata": {},
     "output_type": "execute_result"
    }
   ],
   "source": [
    "# Our final dataframe, composed of SMILES, last Ki values (for duplicated structures), mean Ki values (for duplicated structures) takes the form:\n",
    "plasmodium_chembl_output_df.shape"
   ]
  },
  {
   "attachments": {},
   "cell_type": "markdown",
   "metadata": {},
   "source": [
    "### Divergent 2: Converting to the pKi"
   ]
  },
  {
   "cell_type": "code",
   "execution_count": null,
   "metadata": {},
   "outputs": [],
   "source": []
  },
  {
   "attachments": {},
   "cell_type": "markdown",
   "metadata": {},
   "source": [
    "### Drawing the distributions"
   ]
  },
  {
   "cell_type": "code",
   "execution_count": 44,
   "metadata": {},
   "outputs": [
    {
     "data": {
      "text/plain": [
       "array([[<AxesSubplot: title={'center': 'pKi_mean_value'}>]], dtype=object)"
      ]
     },
     "execution_count": 44,
     "metadata": {},
     "output_type": "execute_result"
    },
    {
     "data": {
      "image/png": "[encoded data removed]",
      "text/plain": [
       "<Figure size 640x480 with 1 Axes>"
      ]
     },
     "metadata": {},
     "output_type": "display_data"
    }
   ],
   "source": [
    "plasmodium_chembl_output_df.hist(column='pKi_mean_value')"
   ]
  },
  {
   "cell_type": "code",
   "execution_count": 45,
   "metadata": {},
   "outputs": [
    {
     "data": {
      "text/plain": [
       "array([[<AxesSubplot: title={'center': 'pKi_last_value'}>]], dtype=object)"
      ]
     },
     "execution_count": 45,
     "metadata": {},
     "output_type": "execute_result"
    },
    {
     "data": {
      "image/png": "[encoded data removed]",
      "text/plain": [
       "<Figure size 640x480 with 1 Axes>"
      ]
     },
     "metadata": {},
     "output_type": "display_data"
    }
   ],
   "source": [
    "plasmodium_chembl_output_df.hist(column='pKi_last_value')"
   ]
  },
  {
   "cell_type": "code",
   "execution_count": 46,
   "metadata": {},
   "outputs": [
    {
     "data": {
      "text/plain": [
       "array([[<AxesSubplot: title={'center': 'pKi_first_value'}>]], dtype=object)"
      ]
     },
     "execution_count": 46,
     "metadata": {},
     "output_type": "execute_result"
    },
    {
     "data": {
      "image/png": "[encoded data removed]",
      "text/plain": [
       "<Figure size 640x480 with 1 Axes>"
      ]
     },
     "metadata": {},
     "output_type": "display_data"
    }
   ],
   "source": [
    "plasmodium_chembl_output_df.hist(column='pKi_first_value')"
   ]
  },
  {
   "attachments": {},
   "cell_type": "markdown",
   "metadata": {},
   "source": [
    "### Saving the final output (csv)"
   ]
  },
  {
   "attachments": {},
   "cell_type": "markdown",
   "metadata": {},
   "source": [
    "Furthermore, we need to reorder the columns to finally save it in a '.csv' file:"
   ]
  },
  {
   "cell_type": "code",
   "execution_count": null,
   "metadata": {},
   "outputs": [],
   "source": [
    "plasmodium_chembl_output_final = plasmodium_chembl_output_df[['molecule_chembl_id', 'smiles', 'pKi_mean_value', 'mean_Ki_value', 'pKi_first_value','pKi_last_value', 'last_Ki_value', 'target_organism' ]]\n",
    "# Final check\n",
    "plasmodium_chembl_output_final.head(5)"
   ]
  },
  {
   "cell_type": "code",
   "execution_count": null,
   "metadata": {},
   "outputs": [],
   "source": [
    "plasmodium_chembl_output_final.to_csv(DATA/\"plasmodium_dhfr_chembl_compounds.csv\", index=False)"
   ]
  },
  {
   "attachments": {},
   "cell_type": "markdown",
   "metadata": {},
   "source": [
    "## Session and packages used on this notebook:"
   ]
  },
  {
   "cell_type": "code",
   "execution_count": null,
   "metadata": {},
   "outputs": [],
   "source": [
    "import session_info\n",
    "session_info.show()"
   ]
  }
 ],
 "metadata": {
  "kernelspec": {
   "display_name": "teachopencadd",
   "language": "python",
   "name": "python3"
  },
  "language_info": {
   "codemirror_mode": {
    "name": "ipython",
    "version": 3
   },
   "file_extension": ".py",
   "mimetype": "text/x-python",
   "name": "python",
   "nbconvert_exporter": "python",
   "pygments_lexer": "ipython3",
   "version": "3.8.15"
  },
  "orig_nbformat": 4,
  "vscode": {
   "interpreter": {
    "hash": "43e9bd66da9436ae54f6ec6135b165ab5f2d7407ec8e52d91977ace71cfa740c"
   }
  }
 },
 "nbformat": 4,
 "nbformat_minor": 2
}
