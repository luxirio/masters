{
 "cells": [
  {
   "cell_type": "markdown",
   "metadata": {},
   "source": [
    "# ChEMBL - Fetch Raw Data - Human"
   ]
  },
  {
   "attachments": {},
   "cell_type": "markdown",
   "metadata": {},
   "source": [
    "**Date:** 16/01/23\n",
    "\n",
    "**Based on:** [TeachOpenCADD T001 - Compound data acquisition (ChEMBL)](https://projects.volkamerlab.org/teachopencadd/talktorials/T001_query_chembl.html)\n",
    "\n",
    "**Done by:** Gustavo H. M. Sousa\n",
    "\n",
    "Session information at the end of the notebook."
   ]
  },
  {
   "attachments": {},
   "cell_type": "markdown",
   "metadata": {},
   "source": [
    "**Important**: this notebook was done after fetching the data for the *P. falciparum* and the notebook should be on this same directory."
   ]
  },
  {
   "attachments": {},
   "cell_type": "markdown",
   "metadata": {},
   "source": [
    "### Importing, defining paths and specifying query parameters"
   ]
  },
  {
   "cell_type": "code",
   "execution_count": 1,
   "metadata": {},
   "outputs": [],
   "source": [
    "import math\n",
    "from pathlib import Path\n",
    "from zipfile import ZipFile\n",
    "from tempfile import TemporaryDirectory\n",
    "\n",
    "import numpy as np\n",
    "import pandas as pd\n",
    "from rdkit.Chem import PandasTools\n",
    "from chembl_webresource_client.new_client import new_client # This is the API chembl library\n",
    "from tqdm.auto import tqdm"
   ]
  },
  {
   "cell_type": "code",
   "execution_count": 2,
   "metadata": {},
   "outputs": [
    {
     "data": {
      "text/plain": [
       "PosixPath('/home/gustavo/github/masters/datasets/raw/data')"
      ]
     },
     "execution_count": 2,
     "metadata": {},
     "output_type": "execute_result"
    }
   ],
   "source": [
    "HERE = Path(_dh[-1])\n",
    "DATA = HERE / \"data\"\n",
    "# We are defining the relative path so we can store the data retrieved\n",
    "DATA"
   ]
  },
  {
   "attachments": {},
   "cell_type": "markdown",
   "metadata": {},
   "source": [
    "Next, we move on to the API stuff:"
   ]
  },
  {
   "cell_type": "code",
   "execution_count": 3,
   "metadata": {},
   "outputs": [
    {
     "data": {
      "text/plain": [
       "chembl_webresource_client.query_set.QuerySet"
      ]
     },
     "execution_count": 3,
     "metadata": {},
     "output_type": "execute_result"
    }
   ],
   "source": [
    "targets_api = new_client.target\n",
    "compounds_api = new_client.molecule\n",
    "bioactivities_api = new_client.activity\n",
    "\n",
    "type(targets_api)"
   ]
  },
  {
   "attachments": {},
   "cell_type": "markdown",
   "metadata": {},
   "source": [
    "### Target information"
   ]
  },
  {
   "attachments": {},
   "cell_type": "markdown",
   "metadata": {},
   "source": [
    "We now specify the UniProt ID of our target, in our case we're going to start with the following:\n",
    "* **UniProt ID:** P00374\n",
    "* **Entry name:** DYR_HUMAN\n",
    "* **Organism:**  Homo sapiens (Human)\n",
    "* **Length:** 187 AA"
   ]
  },
  {
   "cell_type": "code",
   "execution_count": 4,
   "metadata": {},
   "outputs": [],
   "source": [
    "uniprot_id = \"P00374\""
   ]
  },
  {
   "attachments": {},
   "cell_type": "markdown",
   "metadata": {},
   "source": [
    "The we fetch the data for this UniProt ID:"
   ]
  },
  {
   "cell_type": "code",
   "execution_count": 5,
   "metadata": {},
   "outputs": [
    {
     "name": "stdout",
     "output_type": "stream",
     "text": [
      "<class 'chembl_webresource_client.query_set.QuerySet'>\n"
     ]
    }
   ],
   "source": [
    "targets = targets_api.get(target_components__accession=uniprot_id).only(\n",
    "    \"target_chembl_id\", \"organism\", \"pref_name\", \"target_type\"\n",
    ")\n",
    "print(type(targets))"
   ]
  },
  {
   "attachments": {},
   "cell_type": "markdown",
   "metadata": {},
   "source": [
    "Now we retrieve our query:"
   ]
  },
  {
   "cell_type": "code",
   "execution_count": 6,
   "metadata": {},
   "outputs": [
    {
     "data": {
      "text/html": [
       "<div>\n",
       "<style scoped>\n",
       "    .dataframe tbody tr th:only-of-type {\n",
       "        vertical-align: middle;\n",
       "    }\n",
       "\n",
       "    .dataframe tbody tr th {\n",
       "        vertical-align: top;\n",
       "    }\n",
       "\n",
       "    .dataframe thead th {\n",
       "        text-align: right;\n",
       "    }\n",
       "</style>\n",
       "<table border=\"1\" class=\"dataframe\">\n",
       "  <thead>\n",
       "    <tr style=\"text-align: right;\">\n",
       "      <th></th>\n",
       "      <th>organism</th>\n",
       "      <th>pref_name</th>\n",
       "      <th>target_chembl_id</th>\n",
       "      <th>target_type</th>\n",
       "    </tr>\n",
       "  </thead>\n",
       "  <tbody>\n",
       "    <tr>\n",
       "      <th>0</th>\n",
       "      <td>Homo sapiens</td>\n",
       "      <td>Dihydrofolate reductase</td>\n",
       "      <td>CHEMBL202</td>\n",
       "      <td>SINGLE PROTEIN</td>\n",
       "    </tr>\n",
       "    <tr>\n",
       "      <th>1</th>\n",
       "      <td>Homo sapiens</td>\n",
       "      <td>Dihydrofolate reductase</td>\n",
       "      <td>CHEMBL202</td>\n",
       "      <td>SINGLE PROTEIN</td>\n",
       "    </tr>\n",
       "  </tbody>\n",
       "</table>\n",
       "</div>"
      ],
      "text/plain": [
       "       organism                pref_name target_chembl_id     target_type\n",
       "0  Homo sapiens  Dihydrofolate reductase        CHEMBL202  SINGLE PROTEIN\n",
       "1  Homo sapiens  Dihydrofolate reductase        CHEMBL202  SINGLE PROTEIN"
      ]
     },
     "execution_count": 6,
     "metadata": {},
     "output_type": "execute_result"
    }
   ],
   "source": [
    "targets = pd.DataFrame.from_records(targets)\n",
    "targets"
   ]
  },
  {
   "attachments": {},
   "cell_type": "markdown",
   "metadata": {},
   "source": [
    "After inspecting ou dataframe with the *'organism'*, *'pref_name'* and *'target_chembl_id'* and *'target_type'*, we can select what row are of interest. In our case, the rows are both the same (I don't know exactly why?) so we can select either."
   ]
  },
  {
   "cell_type": "code",
   "execution_count": 7,
   "metadata": {},
   "outputs": [
    {
     "data": {
      "text/plain": [
       "organism                       Homo sapiens\n",
       "pref_name           Dihydrofolate reductase\n",
       "target_chembl_id                  CHEMBL202\n",
       "target_type                  SINGLE PROTEIN\n",
       "Name: 0, dtype: object"
      ]
     },
     "execution_count": 7,
     "metadata": {},
     "output_type": "execute_result"
    }
   ],
   "source": [
    "targets = targets.iloc[0]\n",
    "targets"
   ]
  },
  {
   "attachments": {},
   "cell_type": "markdown",
   "metadata": {},
   "source": [
    "Saving the 'target_chembl_id': "
   ]
  },
  {
   "cell_type": "code",
   "execution_count": 8,
   "metadata": {},
   "outputs": [
    {
     "data": {
      "text/plain": [
       "'CHEMBL202'"
      ]
     },
     "execution_count": 8,
     "metadata": {},
     "output_type": "execute_result"
    }
   ],
   "source": [
    "chembl_id = targets.target_chembl_id\n",
    "chembl_id"
   ]
  },
  {
   "attachments": {},
   "cell_type": "markdown",
   "metadata": {},
   "source": [
    "### Fetching biological data to our target"
   ]
  },
  {
   "attachments": {},
   "cell_type": "markdown",
   "metadata": {},
   "source": [
    "Now we can finally fetch the biological data for our target, taking the following into consideration:\n",
    "* bioactivity type `Ki` (there are more information about in our case)\n",
    "* exact measurements (relation `=`)\n",
    "* binding data (assay type `B`)"
   ]
  },
  {
   "cell_type": "code",
   "execution_count": 9,
   "metadata": {},
   "outputs": [
    {
     "name": "stdout",
     "output_type": "stream",
     "text": [
      "The total size of the biological activities fetched is: 394 of type <class 'chembl_webresource_client.query_set.QuerySet'>\n"
     ]
    }
   ],
   "source": [
    "bioactivities_human = bioactivities_api.filter(\n",
    "    target_chembl_id=chembl_id, type='Ki', relation='=', assay_type=\"B\"\n",
    ").only(\n",
    "    \"activity_id\",\n",
    "    \"assay_chembl_id\",\n",
    "    \"assay_description\",\n",
    "    \"assay_type\",\n",
    "    \"molecule_chembl_id\",\n",
    "    \"type\",\n",
    "    \"standard_units\",\n",
    "    \"relation\",\n",
    "    \"standard_value\",\n",
    "    \"target_chembl_id\",\n",
    "    \"target_organism\",\n",
    ")\n",
    "\n",
    "print(f\"The total size of the biological activities fetched is: {len(bioactivities_human)} of type {type(bioactivities_human)}\")"
   ]
  },
  {
   "attachments": {},
   "cell_type": "markdown",
   "metadata": {},
   "source": [
    "We can now download the dataset containing only `Ki` and extract the measurements for our human target."
   ]
  },
  {
   "cell_type": "code",
   "execution_count": 10,
   "metadata": {},
   "outputs": [
    {
     "name": "stdout",
     "output_type": "stream",
     "text": [
      "The dataframe shape is (395, 13)\n"
     ]
    },
    {
     "data": {
      "text/html": [
       "<div>\n",
       "<style scoped>\n",
       "    .dataframe tbody tr th:only-of-type {\n",
       "        vertical-align: middle;\n",
       "    }\n",
       "\n",
       "    .dataframe tbody tr th {\n",
       "        vertical-align: top;\n",
       "    }\n",
       "\n",
       "    .dataframe thead th {\n",
       "        text-align: right;\n",
       "    }\n",
       "</style>\n",
       "<table border=\"1\" class=\"dataframe\">\n",
       "  <thead>\n",
       "    <tr style=\"text-align: right;\">\n",
       "      <th></th>\n",
       "      <th>activity_id</th>\n",
       "      <th>assay_chembl_id</th>\n",
       "      <th>assay_description</th>\n",
       "      <th>assay_type</th>\n",
       "      <th>molecule_chembl_id</th>\n",
       "      <th>relation</th>\n",
       "      <th>standard_units</th>\n",
       "      <th>standard_value</th>\n",
       "      <th>target_chembl_id</th>\n",
       "      <th>target_organism</th>\n",
       "      <th>type</th>\n",
       "      <th>units</th>\n",
       "      <th>value</th>\n",
       "    </tr>\n",
       "  </thead>\n",
       "  <tbody>\n",
       "    <tr>\n",
       "      <th>0</th>\n",
       "      <td>144782</td>\n",
       "      <td>CHEMBL666227</td>\n",
       "      <td>Competitive inhibition of mammalian dihydrofol...</td>\n",
       "      <td>B</td>\n",
       "      <td>CHEMBL1161155</td>\n",
       "      <td>=</td>\n",
       "      <td>nM</td>\n",
       "      <td>9.0</td>\n",
       "      <td>CHEMBL202</td>\n",
       "      <td>Homo sapiens</td>\n",
       "      <td>Ki</td>\n",
       "      <td>uM</td>\n",
       "      <td>0.009</td>\n",
       "    </tr>\n",
       "    <tr>\n",
       "      <th>1</th>\n",
       "      <td>144782</td>\n",
       "      <td>CHEMBL666227</td>\n",
       "      <td>Competitive inhibition of mammalian dihydrofol...</td>\n",
       "      <td>B</td>\n",
       "      <td>CHEMBL1161155</td>\n",
       "      <td>=</td>\n",
       "      <td>nM</td>\n",
       "      <td>9.0</td>\n",
       "      <td>CHEMBL202</td>\n",
       "      <td>Homo sapiens</td>\n",
       "      <td>Ki</td>\n",
       "      <td>uM</td>\n",
       "      <td>0.009</td>\n",
       "    </tr>\n",
       "    <tr>\n",
       "      <th>2</th>\n",
       "      <td>145813</td>\n",
       "      <td>CHEMBL669872</td>\n",
       "      <td>Compound was evaluated for the inhibition of D...</td>\n",
       "      <td>B</td>\n",
       "      <td>CHEMBL149218</td>\n",
       "      <td>=</td>\n",
       "      <td>nM</td>\n",
       "      <td>0.0001</td>\n",
       "      <td>CHEMBL202</td>\n",
       "      <td>Homo sapiens</td>\n",
       "      <td>Ki</td>\n",
       "      <td>pM</td>\n",
       "      <td>0.1</td>\n",
       "    </tr>\n",
       "    <tr>\n",
       "      <th>3</th>\n",
       "      <td>145815</td>\n",
       "      <td>CHEMBL669872</td>\n",
       "      <td>Compound was evaluated for the inhibition of D...</td>\n",
       "      <td>B</td>\n",
       "      <td>CHEMBL146917</td>\n",
       "      <td>=</td>\n",
       "      <td>nM</td>\n",
       "      <td>0.00011</td>\n",
       "      <td>CHEMBL202</td>\n",
       "      <td>Homo sapiens</td>\n",
       "      <td>Ki</td>\n",
       "      <td>pM</td>\n",
       "      <td>0.11</td>\n",
       "    </tr>\n",
       "    <tr>\n",
       "      <th>4</th>\n",
       "      <td>150532</td>\n",
       "      <td>CHEMBL669872</td>\n",
       "      <td>Compound was evaluated for the inhibition of D...</td>\n",
       "      <td>B</td>\n",
       "      <td>CHEMBL149164</td>\n",
       "      <td>=</td>\n",
       "      <td>nM</td>\n",
       "      <td>0.00019</td>\n",
       "      <td>CHEMBL202</td>\n",
       "      <td>Homo sapiens</td>\n",
       "      <td>Ki</td>\n",
       "      <td>pM</td>\n",
       "      <td>0.19</td>\n",
       "    </tr>\n",
       "    <tr>\n",
       "      <th>...</th>\n",
       "      <td>...</td>\n",
       "      <td>...</td>\n",
       "      <td>...</td>\n",
       "      <td>...</td>\n",
       "      <td>...</td>\n",
       "      <td>...</td>\n",
       "      <td>...</td>\n",
       "      <td>...</td>\n",
       "      <td>...</td>\n",
       "      <td>...</td>\n",
       "      <td>...</td>\n",
       "      <td>...</td>\n",
       "      <td>...</td>\n",
       "    </tr>\n",
       "    <tr>\n",
       "      <th>390</th>\n",
       "      <td>20675954</td>\n",
       "      <td>CHEMBL4621660</td>\n",
       "      <td>Inhibition of human DHFR in presence of DHF an...</td>\n",
       "      <td>B</td>\n",
       "      <td>CHEMBL1618254</td>\n",
       "      <td>=</td>\n",
       "      <td>nM</td>\n",
       "      <td>3400000.0</td>\n",
       "      <td>CHEMBL202</td>\n",
       "      <td>Homo sapiens</td>\n",
       "      <td>Ki</td>\n",
       "      <td>mM</td>\n",
       "      <td>3.4</td>\n",
       "    </tr>\n",
       "    <tr>\n",
       "      <th>391</th>\n",
       "      <td>20675955</td>\n",
       "      <td>CHEMBL4621660</td>\n",
       "      <td>Inhibition of human DHFR in presence of DHF an...</td>\n",
       "      <td>B</td>\n",
       "      <td>CHEMBL3278332</td>\n",
       "      <td>=</td>\n",
       "      <td>nM</td>\n",
       "      <td>180000.0</td>\n",
       "      <td>CHEMBL202</td>\n",
       "      <td>Homo sapiens</td>\n",
       "      <td>Ki</td>\n",
       "      <td>mM</td>\n",
       "      <td>0.18</td>\n",
       "    </tr>\n",
       "    <tr>\n",
       "      <th>392</th>\n",
       "      <td>20675956</td>\n",
       "      <td>CHEMBL4621660</td>\n",
       "      <td>Inhibition of human DHFR in presence of DHF an...</td>\n",
       "      <td>B</td>\n",
       "      <td>CHEMBL1233987</td>\n",
       "      <td>=</td>\n",
       "      <td>nM</td>\n",
       "      <td>180000.0</td>\n",
       "      <td>CHEMBL202</td>\n",
       "      <td>Homo sapiens</td>\n",
       "      <td>Ki</td>\n",
       "      <td>mM</td>\n",
       "      <td>0.18</td>\n",
       "    </tr>\n",
       "    <tr>\n",
       "      <th>393</th>\n",
       "      <td>20675957</td>\n",
       "      <td>CHEMBL4621660</td>\n",
       "      <td>Inhibition of human DHFR in presence of DHF an...</td>\n",
       "      <td>B</td>\n",
       "      <td>CHEMBL170988</td>\n",
       "      <td>=</td>\n",
       "      <td>nM</td>\n",
       "      <td>140000.0</td>\n",
       "      <td>CHEMBL202</td>\n",
       "      <td>Homo sapiens</td>\n",
       "      <td>Ki</td>\n",
       "      <td>mM</td>\n",
       "      <td>0.14</td>\n",
       "    </tr>\n",
       "    <tr>\n",
       "      <th>394</th>\n",
       "      <td>20675958</td>\n",
       "      <td>CHEMBL4621660</td>\n",
       "      <td>Inhibition of human DHFR in presence of DHF an...</td>\n",
       "      <td>B</td>\n",
       "      <td>CHEMBL1431</td>\n",
       "      <td>=</td>\n",
       "      <td>nM</td>\n",
       "      <td>18000000.0</td>\n",
       "      <td>CHEMBL202</td>\n",
       "      <td>Homo sapiens</td>\n",
       "      <td>Ki</td>\n",
       "      <td>mM</td>\n",
       "      <td>18.0</td>\n",
       "    </tr>\n",
       "  </tbody>\n",
       "</table>\n",
       "<p>395 rows × 13 columns</p>\n",
       "</div>"
      ],
      "text/plain": [
       "     activity_id assay_chembl_id  \\\n",
       "0         144782    CHEMBL666227   \n",
       "1         144782    CHEMBL666227   \n",
       "2         145813    CHEMBL669872   \n",
       "3         145815    CHEMBL669872   \n",
       "4         150532    CHEMBL669872   \n",
       "..           ...             ...   \n",
       "390     20675954   CHEMBL4621660   \n",
       "391     20675955   CHEMBL4621660   \n",
       "392     20675956   CHEMBL4621660   \n",
       "393     20675957   CHEMBL4621660   \n",
       "394     20675958   CHEMBL4621660   \n",
       "\n",
       "                                     assay_description assay_type  \\\n",
       "0    Competitive inhibition of mammalian dihydrofol...          B   \n",
       "1    Competitive inhibition of mammalian dihydrofol...          B   \n",
       "2    Compound was evaluated for the inhibition of D...          B   \n",
       "3    Compound was evaluated for the inhibition of D...          B   \n",
       "4    Compound was evaluated for the inhibition of D...          B   \n",
       "..                                                 ...        ...   \n",
       "390  Inhibition of human DHFR in presence of DHF an...          B   \n",
       "391  Inhibition of human DHFR in presence of DHF an...          B   \n",
       "392  Inhibition of human DHFR in presence of DHF an...          B   \n",
       "393  Inhibition of human DHFR in presence of DHF an...          B   \n",
       "394  Inhibition of human DHFR in presence of DHF an...          B   \n",
       "\n",
       "    molecule_chembl_id relation standard_units standard_value  \\\n",
       "0        CHEMBL1161155        =             nM            9.0   \n",
       "1        CHEMBL1161155        =             nM            9.0   \n",
       "2         CHEMBL149218        =             nM         0.0001   \n",
       "3         CHEMBL146917        =             nM        0.00011   \n",
       "4         CHEMBL149164        =             nM        0.00019   \n",
       "..                 ...      ...            ...            ...   \n",
       "390      CHEMBL1618254        =             nM      3400000.0   \n",
       "391      CHEMBL3278332        =             nM       180000.0   \n",
       "392      CHEMBL1233987        =             nM       180000.0   \n",
       "393       CHEMBL170988        =             nM       140000.0   \n",
       "394         CHEMBL1431        =             nM     18000000.0   \n",
       "\n",
       "    target_chembl_id target_organism type units  value  \n",
       "0          CHEMBL202    Homo sapiens   Ki    uM  0.009  \n",
       "1          CHEMBL202    Homo sapiens   Ki    uM  0.009  \n",
       "2          CHEMBL202    Homo sapiens   Ki    pM    0.1  \n",
       "3          CHEMBL202    Homo sapiens   Ki    pM   0.11  \n",
       "4          CHEMBL202    Homo sapiens   Ki    pM   0.19  \n",
       "..               ...             ...  ...   ...    ...  \n",
       "390        CHEMBL202    Homo sapiens   Ki    mM    3.4  \n",
       "391        CHEMBL202    Homo sapiens   Ki    mM   0.18  \n",
       "392        CHEMBL202    Homo sapiens   Ki    mM   0.18  \n",
       "393        CHEMBL202    Homo sapiens   Ki    mM   0.14  \n",
       "394        CHEMBL202    Homo sapiens   Ki    mM   18.0  \n",
       "\n",
       "[395 rows x 13 columns]"
      ]
     },
     "execution_count": 10,
     "metadata": {},
     "output_type": "execute_result"
    }
   ],
   "source": [
    "bioactivities_human_df = pd.DataFrame.from_records(bioactivities_human)\n",
    "print(f\"The dataframe shape is {bioactivities_human_df.shape}\")\n",
    "\n",
    "# Checking the dataframe we fetched\n",
    "bioactivities_human_df"
   ]
  },
  {
   "attachments": {},
   "cell_type": "markdown",
   "metadata": {},
   "source": [
    "We can do a sort of estimation of unique structures in our dataset before filtering anything out."
   ]
  },
  {
   "cell_type": "code",
   "execution_count": 11,
   "metadata": {},
   "outputs": [
    {
     "name": "stdout",
     "output_type": "stream",
     "text": [
      "273\n"
     ]
    }
   ],
   "source": [
    "print(bioactivities_human_df['molecule_chembl_id'].unique().shape[0])"
   ]
  },
  {
   "attachments": {},
   "cell_type": "markdown",
   "metadata": {},
   "source": [
    "Also, about the units types in our dataframe:"
   ]
  },
  {
   "cell_type": "code",
   "execution_count": 12,
   "metadata": {},
   "outputs": [
    {
     "data": {
      "text/plain": [
       "array(['uM', 'pM', 'nM', \"10'-3microM\", 'mM'], dtype=object)"
      ]
     },
     "execution_count": 12,
     "metadata": {},
     "output_type": "execute_result"
    }
   ],
   "source": [
    "bioactivities_human_df['units'].unique()"
   ]
  },
  {
   "attachments": {},
   "cell_type": "markdown",
   "metadata": {},
   "source": [
    "Of course we have columns for standard_units and standard_values, that is, it was automatically converted from ChEMBL. We are going to drop the raw values:"
   ]
  },
  {
   "cell_type": "code",
   "execution_count": 13,
   "metadata": {},
   "outputs": [
    {
     "data": {
      "text/html": [
       "<div>\n",
       "<style scoped>\n",
       "    .dataframe tbody tr th:only-of-type {\n",
       "        vertical-align: middle;\n",
       "    }\n",
       "\n",
       "    .dataframe tbody tr th {\n",
       "        vertical-align: top;\n",
       "    }\n",
       "\n",
       "    .dataframe thead th {\n",
       "        text-align: right;\n",
       "    }\n",
       "</style>\n",
       "<table border=\"1\" class=\"dataframe\">\n",
       "  <thead>\n",
       "    <tr style=\"text-align: right;\">\n",
       "      <th></th>\n",
       "      <th>activity_id</th>\n",
       "      <th>assay_chembl_id</th>\n",
       "      <th>assay_description</th>\n",
       "      <th>assay_type</th>\n",
       "      <th>molecule_chembl_id</th>\n",
       "      <th>relation</th>\n",
       "      <th>standard_units</th>\n",
       "      <th>standard_value</th>\n",
       "      <th>target_chembl_id</th>\n",
       "      <th>target_organism</th>\n",
       "      <th>type</th>\n",
       "    </tr>\n",
       "  </thead>\n",
       "  <tbody>\n",
       "    <tr>\n",
       "      <th>0</th>\n",
       "      <td>144782</td>\n",
       "      <td>CHEMBL666227</td>\n",
       "      <td>Competitive inhibition of mammalian dihydrofol...</td>\n",
       "      <td>B</td>\n",
       "      <td>CHEMBL1161155</td>\n",
       "      <td>=</td>\n",
       "      <td>nM</td>\n",
       "      <td>9.0</td>\n",
       "      <td>CHEMBL202</td>\n",
       "      <td>Homo sapiens</td>\n",
       "      <td>Ki</td>\n",
       "    </tr>\n",
       "    <tr>\n",
       "      <th>1</th>\n",
       "      <td>144782</td>\n",
       "      <td>CHEMBL666227</td>\n",
       "      <td>Competitive inhibition of mammalian dihydrofol...</td>\n",
       "      <td>B</td>\n",
       "      <td>CHEMBL1161155</td>\n",
       "      <td>=</td>\n",
       "      <td>nM</td>\n",
       "      <td>9.0</td>\n",
       "      <td>CHEMBL202</td>\n",
       "      <td>Homo sapiens</td>\n",
       "      <td>Ki</td>\n",
       "    </tr>\n",
       "    <tr>\n",
       "      <th>2</th>\n",
       "      <td>145813</td>\n",
       "      <td>CHEMBL669872</td>\n",
       "      <td>Compound was evaluated for the inhibition of D...</td>\n",
       "      <td>B</td>\n",
       "      <td>CHEMBL149218</td>\n",
       "      <td>=</td>\n",
       "      <td>nM</td>\n",
       "      <td>0.0001</td>\n",
       "      <td>CHEMBL202</td>\n",
       "      <td>Homo sapiens</td>\n",
       "      <td>Ki</td>\n",
       "    </tr>\n",
       "    <tr>\n",
       "      <th>3</th>\n",
       "      <td>145815</td>\n",
       "      <td>CHEMBL669872</td>\n",
       "      <td>Compound was evaluated for the inhibition of D...</td>\n",
       "      <td>B</td>\n",
       "      <td>CHEMBL146917</td>\n",
       "      <td>=</td>\n",
       "      <td>nM</td>\n",
       "      <td>0.00011</td>\n",
       "      <td>CHEMBL202</td>\n",
       "      <td>Homo sapiens</td>\n",
       "      <td>Ki</td>\n",
       "    </tr>\n",
       "    <tr>\n",
       "      <th>4</th>\n",
       "      <td>150532</td>\n",
       "      <td>CHEMBL669872</td>\n",
       "      <td>Compound was evaluated for the inhibition of D...</td>\n",
       "      <td>B</td>\n",
       "      <td>CHEMBL149164</td>\n",
       "      <td>=</td>\n",
       "      <td>nM</td>\n",
       "      <td>0.00019</td>\n",
       "      <td>CHEMBL202</td>\n",
       "      <td>Homo sapiens</td>\n",
       "      <td>Ki</td>\n",
       "    </tr>\n",
       "  </tbody>\n",
       "</table>\n",
       "</div>"
      ],
      "text/plain": [
       "   activity_id assay_chembl_id  \\\n",
       "0       144782    CHEMBL666227   \n",
       "1       144782    CHEMBL666227   \n",
       "2       145813    CHEMBL669872   \n",
       "3       145815    CHEMBL669872   \n",
       "4       150532    CHEMBL669872   \n",
       "\n",
       "                                   assay_description assay_type  \\\n",
       "0  Competitive inhibition of mammalian dihydrofol...          B   \n",
       "1  Competitive inhibition of mammalian dihydrofol...          B   \n",
       "2  Compound was evaluated for the inhibition of D...          B   \n",
       "3  Compound was evaluated for the inhibition of D...          B   \n",
       "4  Compound was evaluated for the inhibition of D...          B   \n",
       "\n",
       "  molecule_chembl_id relation standard_units standard_value target_chembl_id  \\\n",
       "0      CHEMBL1161155        =             nM            9.0        CHEMBL202   \n",
       "1      CHEMBL1161155        =             nM            9.0        CHEMBL202   \n",
       "2       CHEMBL149218        =             nM         0.0001        CHEMBL202   \n",
       "3       CHEMBL146917        =             nM        0.00011        CHEMBL202   \n",
       "4       CHEMBL149164        =             nM        0.00019        CHEMBL202   \n",
       "\n",
       "  target_organism type  \n",
       "0    Homo sapiens   Ki  \n",
       "1    Homo sapiens   Ki  \n",
       "2    Homo sapiens   Ki  \n",
       "3    Homo sapiens   Ki  \n",
       "4    Homo sapiens   Ki  "
      ]
     },
     "execution_count": 13,
     "metadata": {},
     "output_type": "execute_result"
    }
   ],
   "source": [
    "bioactivities_human_df.drop(['units', 'value'], axis=1, inplace=True)\n",
    "bioactivities_human_df.head()"
   ]
  },
  {
   "attachments": {},
   "cell_type": "markdown",
   "metadata": {},
   "source": [
    "### Preprocess the data"
   ]
  },
  {
   "attachments": {},
   "cell_type": "markdown",
   "metadata": {},
   "source": [
    "For the pre-processing of the data we're going to do the following:\n",
    "\n",
    "1. Convert the `standard_value` type from `object` to `float`.\n",
    "2. Delete entries with missing values (I think in our case there is none)\n",
    "3. Keep only nanomolar entries or convert `uM` to `nM` by applying a x1000 multiplication factor\n",
    "4. Delete duplicate molecules - **That is a questionable step we could take the mean of the two**\n",
    "5. Reset the `DataFrame` index\n",
    "6. Rename columns"
   ]
  },
  {
   "attachments": {},
   "cell_type": "markdown",
   "metadata": {},
   "source": [
    "The field `standard_value` holds `Ki` values. We're going to perform some calculations later on and we need to convert them from `objects` to `float`.\n",
    "\n",
    "This is an important step, specially when dealing with a lot of information and **you should always check each variable type** prior of doing any calculation! This is just basic data analysis good practices."
   ]
  },
  {
   "attachments": {},
   "cell_type": "markdown",
   "metadata": {},
   "source": [
    "#### 1. Convert `standard_value` type"
   ]
  },
  {
   "cell_type": "code",
   "execution_count": 14,
   "metadata": {},
   "outputs": [
    {
     "data": {
      "text/plain": [
       "activity_id            int64\n",
       "assay_chembl_id       object\n",
       "assay_description     object\n",
       "assay_type            object\n",
       "molecule_chembl_id    object\n",
       "relation              object\n",
       "standard_units        object\n",
       "standard_value        object\n",
       "target_chembl_id      object\n",
       "target_organism       object\n",
       "type                  object\n",
       "dtype: object"
      ]
     },
     "execution_count": 14,
     "metadata": {},
     "output_type": "execute_result"
    }
   ],
   "source": [
    "bioactivities_human_df.dtypes"
   ]
  },
  {
   "cell_type": "code",
   "execution_count": 15,
   "metadata": {},
   "outputs": [
    {
     "data": {
      "text/plain": [
       "activity_id             int64\n",
       "assay_chembl_id        object\n",
       "assay_description      object\n",
       "assay_type             object\n",
       "molecule_chembl_id     object\n",
       "relation               object\n",
       "standard_units         object\n",
       "standard_value        float64\n",
       "target_chembl_id       object\n",
       "target_organism        object\n",
       "type                   object\n",
       "dtype: object"
      ]
     },
     "execution_count": 15,
     "metadata": {},
     "output_type": "execute_result"
    }
   ],
   "source": [
    "bioactivities_human_df = bioactivities_human_df.astype({'standard_value': 'float64'})\n",
    "bioactivities_human_df.dtypes"
   ]
  },
  {
   "attachments": {},
   "cell_type": "markdown",
   "metadata": {},
   "source": [
    "#### 2. Delete entries with missing values"
   ]
  },
  {
   "cell_type": "code",
   "execution_count": 16,
   "metadata": {},
   "outputs": [
    {
     "name": "stdout",
     "output_type": "stream",
     "text": [
      "The shape of the dataset after dropping NAs values: 395\n"
     ]
    }
   ],
   "source": [
    "bioactivities_human_df.dropna(axis=0, how='any', inplace=True)\n",
    "print(f\"The shape of the dataset after dropping NAs values: {bioactivities_human_df.shape[0]}\")"
   ]
  },
  {
   "attachments": {},
   "cell_type": "markdown",
   "metadata": {},
   "source": [
    "Ok, so no NA values on this one also!"
   ]
  },
  {
   "attachments": {},
   "cell_type": "markdown",
   "metadata": {},
   "source": [
    "#### 3. Keep only entries with nanomolar standard units"
   ]
  },
  {
   "cell_type": "code",
   "execution_count": 17,
   "metadata": {},
   "outputs": [
    {
     "name": "stdout",
     "output_type": "stream",
     "text": [
      "The standard unity should only be nM: ['nM']\n",
      "Number of non-nM entries: 0\n"
     ]
    }
   ],
   "source": [
    "print(f\"The standard unity should only be nM: {bioactivities_human_df['standard_units'].unique()}\")\n",
    "print(f\"Number of non-nM entries: {bioactivities_human_df[bioactivities_human_df['standard_units'] != 'nM'].shape[0]}\")"
   ]
  },
  {
   "attachments": {},
   "cell_type": "markdown",
   "metadata": {},
   "source": [
    "Ok so we're good to go from here since there are not any non-standardized strcuture."
   ]
  },
  {
   "attachments": {},
   "cell_type": "markdown",
   "metadata": {},
   "source": [
    "#### 4. Delete or group by mean duplicated molecules"
   ]
  },
  {
   "attachments": {},
   "cell_type": "markdown",
   "metadata": {},
   "source": [
    "Sometimes the same strcuture has been tested more than once, that is, the `molecule_chembl_id` entry appears more than once. We're going to do the mean of the measurements and also just keep the first just as it is done in the tutorial."
   ]
  },
  {
   "cell_type": "code",
   "execution_count": 34,
   "metadata": {},
   "outputs": [],
   "source": [
    "# If we want to keep also the mean of the measurements from standard values we can do:\n",
    "\n",
    "bioactivities_human_mean_df = bioactivities_human_df[['molecule_chembl_id', 'standard_value']].groupby('molecule_chembl_id').mean().reset_index()\n",
    "\n",
    "bioactivities_human_mean_df = bioactivities_human_mean_df.rename(columns={'standard_value': 'mean_standard_value'})"
   ]
  },
  {
   "attachments": {},
   "cell_type": "markdown",
   "metadata": {},
   "source": [
    "So just keep the `bioactivities_human_mean_df` dataframe for now, we're going to join the values later. We can basically just drop the duplicates by keeping only the first values, as it is taught in the tutorial but I'm going to keep both the first entries and the mean just in case, as my experience in previous QSAR works."
   ]
  },
  {
   "cell_type": "code",
   "execution_count": 48,
   "metadata": {},
   "outputs": [
    {
     "name": "stdout",
     "output_type": "stream",
     "text": [
      "after dropping NAs we're left with 273 structures\n"
     ]
    }
   ],
   "source": [
    "# Use it to display the format not in scientific notation\n",
    "pd.set_option('display.float_format', lambda x: '%.6f' % x)\n",
    "\n",
    "bioactivities_human_df.drop_duplicates('molecule_chembl_id', keep='first', inplace=True)\n",
    "print(f\"after dropping NAs we're left with {bioactivities_human_df.shape[0]} structures\")"
   ]
  },
  {
   "attachments": {},
   "cell_type": "markdown",
   "metadata": {},
   "source": [
    "Merging the two datasets by keeping also the mean of the `standard_values` using the function `pd.merge`."
   ]
  },
  {
   "cell_type": "code",
   "execution_count": 49,
   "metadata": {},
   "outputs": [
    {
     "data": {
      "text/html": [
       "<div>\n",
       "<style scoped>\n",
       "    .dataframe tbody tr th:only-of-type {\n",
       "        vertical-align: middle;\n",
       "    }\n",
       "\n",
       "    .dataframe tbody tr th {\n",
       "        vertical-align: top;\n",
       "    }\n",
       "\n",
       "    .dataframe thead th {\n",
       "        text-align: right;\n",
       "    }\n",
       "</style>\n",
       "<table border=\"1\" class=\"dataframe\">\n",
       "  <thead>\n",
       "    <tr style=\"text-align: right;\">\n",
       "      <th></th>\n",
       "      <th>activity_id</th>\n",
       "      <th>assay_chembl_id</th>\n",
       "      <th>assay_description</th>\n",
       "      <th>assay_type</th>\n",
       "      <th>molecule_chembl_id</th>\n",
       "      <th>relation</th>\n",
       "      <th>standard_units</th>\n",
       "      <th>standard_value</th>\n",
       "      <th>target_chembl_id</th>\n",
       "      <th>target_organism</th>\n",
       "      <th>type</th>\n",
       "      <th>mean_standard_value</th>\n",
       "    </tr>\n",
       "  </thead>\n",
       "  <tbody>\n",
       "    <tr>\n",
       "      <th>0</th>\n",
       "      <td>144782</td>\n",
       "      <td>CHEMBL666227</td>\n",
       "      <td>Competitive inhibition of mammalian dihydrofol...</td>\n",
       "      <td>B</td>\n",
       "      <td>CHEMBL1161155</td>\n",
       "      <td>=</td>\n",
       "      <td>nM</td>\n",
       "      <td>9.000000</td>\n",
       "      <td>CHEMBL202</td>\n",
       "      <td>Homo sapiens</td>\n",
       "      <td>Ki</td>\n",
       "      <td>9.000000</td>\n",
       "    </tr>\n",
       "    <tr>\n",
       "      <th>1</th>\n",
       "      <td>145813</td>\n",
       "      <td>CHEMBL669872</td>\n",
       "      <td>Compound was evaluated for the inhibition of D...</td>\n",
       "      <td>B</td>\n",
       "      <td>CHEMBL149218</td>\n",
       "      <td>=</td>\n",
       "      <td>nM</td>\n",
       "      <td>0.000100</td>\n",
       "      <td>CHEMBL202</td>\n",
       "      <td>Homo sapiens</td>\n",
       "      <td>Ki</td>\n",
       "      <td>0.000100</td>\n",
       "    </tr>\n",
       "    <tr>\n",
       "      <th>2</th>\n",
       "      <td>145815</td>\n",
       "      <td>CHEMBL669872</td>\n",
       "      <td>Compound was evaluated for the inhibition of D...</td>\n",
       "      <td>B</td>\n",
       "      <td>CHEMBL146917</td>\n",
       "      <td>=</td>\n",
       "      <td>nM</td>\n",
       "      <td>0.000110</td>\n",
       "      <td>CHEMBL202</td>\n",
       "      <td>Homo sapiens</td>\n",
       "      <td>Ki</td>\n",
       "      <td>0.000110</td>\n",
       "    </tr>\n",
       "    <tr>\n",
       "      <th>3</th>\n",
       "      <td>150532</td>\n",
       "      <td>CHEMBL669872</td>\n",
       "      <td>Compound was evaluated for the inhibition of D...</td>\n",
       "      <td>B</td>\n",
       "      <td>CHEMBL149164</td>\n",
       "      <td>=</td>\n",
       "      <td>nM</td>\n",
       "      <td>0.000190</td>\n",
       "      <td>CHEMBL202</td>\n",
       "      <td>Homo sapiens</td>\n",
       "      <td>Ki</td>\n",
       "      <td>0.000190</td>\n",
       "    </tr>\n",
       "    <tr>\n",
       "      <th>4</th>\n",
       "      <td>152127</td>\n",
       "      <td>CHEMBL666805</td>\n",
       "      <td>Inhibitory activity against recombinant human ...</td>\n",
       "      <td>B</td>\n",
       "      <td>CHEMBL167304</td>\n",
       "      <td>=</td>\n",
       "      <td>nM</td>\n",
       "      <td>9.870000</td>\n",
       "      <td>CHEMBL202</td>\n",
       "      <td>Homo sapiens</td>\n",
       "      <td>Ki</td>\n",
       "      <td>9.870000</td>\n",
       "    </tr>\n",
       "    <tr>\n",
       "      <th>...</th>\n",
       "      <td>...</td>\n",
       "      <td>...</td>\n",
       "      <td>...</td>\n",
       "      <td>...</td>\n",
       "      <td>...</td>\n",
       "      <td>...</td>\n",
       "      <td>...</td>\n",
       "      <td>...</td>\n",
       "      <td>...</td>\n",
       "      <td>...</td>\n",
       "      <td>...</td>\n",
       "      <td>...</td>\n",
       "    </tr>\n",
       "    <tr>\n",
       "      <th>268</th>\n",
       "      <td>20675954</td>\n",
       "      <td>CHEMBL4621660</td>\n",
       "      <td>Inhibition of human DHFR in presence of DHF an...</td>\n",
       "      <td>B</td>\n",
       "      <td>CHEMBL1618254</td>\n",
       "      <td>=</td>\n",
       "      <td>nM</td>\n",
       "      <td>3400000.000000</td>\n",
       "      <td>CHEMBL202</td>\n",
       "      <td>Homo sapiens</td>\n",
       "      <td>Ki</td>\n",
       "      <td>3400000.000000</td>\n",
       "    </tr>\n",
       "    <tr>\n",
       "      <th>269</th>\n",
       "      <td>20675955</td>\n",
       "      <td>CHEMBL4621660</td>\n",
       "      <td>Inhibition of human DHFR in presence of DHF an...</td>\n",
       "      <td>B</td>\n",
       "      <td>CHEMBL3278332</td>\n",
       "      <td>=</td>\n",
       "      <td>nM</td>\n",
       "      <td>180000.000000</td>\n",
       "      <td>CHEMBL202</td>\n",
       "      <td>Homo sapiens</td>\n",
       "      <td>Ki</td>\n",
       "      <td>180000.000000</td>\n",
       "    </tr>\n",
       "    <tr>\n",
       "      <th>270</th>\n",
       "      <td>20675956</td>\n",
       "      <td>CHEMBL4621660</td>\n",
       "      <td>Inhibition of human DHFR in presence of DHF an...</td>\n",
       "      <td>B</td>\n",
       "      <td>CHEMBL1233987</td>\n",
       "      <td>=</td>\n",
       "      <td>nM</td>\n",
       "      <td>180000.000000</td>\n",
       "      <td>CHEMBL202</td>\n",
       "      <td>Homo sapiens</td>\n",
       "      <td>Ki</td>\n",
       "      <td>180000.000000</td>\n",
       "    </tr>\n",
       "    <tr>\n",
       "      <th>271</th>\n",
       "      <td>20675957</td>\n",
       "      <td>CHEMBL4621660</td>\n",
       "      <td>Inhibition of human DHFR in presence of DHF an...</td>\n",
       "      <td>B</td>\n",
       "      <td>CHEMBL170988</td>\n",
       "      <td>=</td>\n",
       "      <td>nM</td>\n",
       "      <td>140000.000000</td>\n",
       "      <td>CHEMBL202</td>\n",
       "      <td>Homo sapiens</td>\n",
       "      <td>Ki</td>\n",
       "      <td>140000.000000</td>\n",
       "    </tr>\n",
       "    <tr>\n",
       "      <th>272</th>\n",
       "      <td>20675958</td>\n",
       "      <td>CHEMBL4621660</td>\n",
       "      <td>Inhibition of human DHFR in presence of DHF an...</td>\n",
       "      <td>B</td>\n",
       "      <td>CHEMBL1431</td>\n",
       "      <td>=</td>\n",
       "      <td>nM</td>\n",
       "      <td>18000000.000000</td>\n",
       "      <td>CHEMBL202</td>\n",
       "      <td>Homo sapiens</td>\n",
       "      <td>Ki</td>\n",
       "      <td>18000000.000000</td>\n",
       "    </tr>\n",
       "  </tbody>\n",
       "</table>\n",
       "<p>273 rows × 12 columns</p>\n",
       "</div>"
      ],
      "text/plain": [
       "     activity_id assay_chembl_id  \\\n",
       "0         144782    CHEMBL666227   \n",
       "1         145813    CHEMBL669872   \n",
       "2         145815    CHEMBL669872   \n",
       "3         150532    CHEMBL669872   \n",
       "4         152127    CHEMBL666805   \n",
       "..           ...             ...   \n",
       "268     20675954   CHEMBL4621660   \n",
       "269     20675955   CHEMBL4621660   \n",
       "270     20675956   CHEMBL4621660   \n",
       "271     20675957   CHEMBL4621660   \n",
       "272     20675958   CHEMBL4621660   \n",
       "\n",
       "                                     assay_description assay_type  \\\n",
       "0    Competitive inhibition of mammalian dihydrofol...          B   \n",
       "1    Compound was evaluated for the inhibition of D...          B   \n",
       "2    Compound was evaluated for the inhibition of D...          B   \n",
       "3    Compound was evaluated for the inhibition of D...          B   \n",
       "4    Inhibitory activity against recombinant human ...          B   \n",
       "..                                                 ...        ...   \n",
       "268  Inhibition of human DHFR in presence of DHF an...          B   \n",
       "269  Inhibition of human DHFR in presence of DHF an...          B   \n",
       "270  Inhibition of human DHFR in presence of DHF an...          B   \n",
       "271  Inhibition of human DHFR in presence of DHF an...          B   \n",
       "272  Inhibition of human DHFR in presence of DHF an...          B   \n",
       "\n",
       "    molecule_chembl_id relation standard_units  standard_value  \\\n",
       "0        CHEMBL1161155        =             nM        9.000000   \n",
       "1         CHEMBL149218        =             nM        0.000100   \n",
       "2         CHEMBL146917        =             nM        0.000110   \n",
       "3         CHEMBL149164        =             nM        0.000190   \n",
       "4         CHEMBL167304        =             nM        9.870000   \n",
       "..                 ...      ...            ...             ...   \n",
       "268      CHEMBL1618254        =             nM  3400000.000000   \n",
       "269      CHEMBL3278332        =             nM   180000.000000   \n",
       "270      CHEMBL1233987        =             nM   180000.000000   \n",
       "271       CHEMBL170988        =             nM   140000.000000   \n",
       "272         CHEMBL1431        =             nM 18000000.000000   \n",
       "\n",
       "    target_chembl_id target_organism type  mean_standard_value  \n",
       "0          CHEMBL202    Homo sapiens   Ki             9.000000  \n",
       "1          CHEMBL202    Homo sapiens   Ki             0.000100  \n",
       "2          CHEMBL202    Homo sapiens   Ki             0.000110  \n",
       "3          CHEMBL202    Homo sapiens   Ki             0.000190  \n",
       "4          CHEMBL202    Homo sapiens   Ki             9.870000  \n",
       "..               ...             ...  ...                  ...  \n",
       "268        CHEMBL202    Homo sapiens   Ki       3400000.000000  \n",
       "269        CHEMBL202    Homo sapiens   Ki        180000.000000  \n",
       "270        CHEMBL202    Homo sapiens   Ki        180000.000000  \n",
       "271        CHEMBL202    Homo sapiens   Ki        140000.000000  \n",
       "272        CHEMBL202    Homo sapiens   Ki      18000000.000000  \n",
       "\n",
       "[273 rows x 12 columns]"
      ]
     },
     "execution_count": 49,
     "metadata": {},
     "output_type": "execute_result"
    }
   ],
   "source": [
    "merged_bioactivities_human = pd.merge(bioactivities_human_df, bioactivities_human_mean_df, how='left', on='molecule_chembl_id')\n",
    "merged_bioactivities_human"
   ]
  },
  {
   "attachments": {},
   "cell_type": "markdown",
   "metadata": {},
   "source": [
    "Moving on into the next step that is reseting the DF index"
   ]
  },
  {
   "attachments": {},
   "cell_type": "markdown",
   "metadata": {},
   "source": [
    "#### 5. Reserting the DF index"
   ]
  },
  {
   "attachments": {},
   "cell_type": "markdown",
   "metadata": {},
   "source": [
    "Sanity check: Reseting the dataframe index, just in case any index came out of place."
   ]
  },
  {
   "cell_type": "code",
   "execution_count": 51,
   "metadata": {},
   "outputs": [
    {
     "data": {
      "text/html": [
       "<div>\n",
       "<style scoped>\n",
       "    .dataframe tbody tr th:only-of-type {\n",
       "        vertical-align: middle;\n",
       "    }\n",
       "\n",
       "    .dataframe tbody tr th {\n",
       "        vertical-align: top;\n",
       "    }\n",
       "\n",
       "    .dataframe thead th {\n",
       "        text-align: right;\n",
       "    }\n",
       "</style>\n",
       "<table border=\"1\" class=\"dataframe\">\n",
       "  <thead>\n",
       "    <tr style=\"text-align: right;\">\n",
       "      <th></th>\n",
       "      <th>activity_id</th>\n",
       "      <th>assay_chembl_id</th>\n",
       "      <th>assay_description</th>\n",
       "      <th>assay_type</th>\n",
       "      <th>molecule_chembl_id</th>\n",
       "      <th>relation</th>\n",
       "      <th>standard_units</th>\n",
       "      <th>standard_value</th>\n",
       "      <th>target_chembl_id</th>\n",
       "      <th>target_organism</th>\n",
       "      <th>type</th>\n",
       "      <th>mean_standard_value</th>\n",
       "    </tr>\n",
       "  </thead>\n",
       "  <tbody>\n",
       "    <tr>\n",
       "      <th>0</th>\n",
       "      <td>144782</td>\n",
       "      <td>CHEMBL666227</td>\n",
       "      <td>Competitive inhibition of mammalian dihydrofol...</td>\n",
       "      <td>B</td>\n",
       "      <td>CHEMBL1161155</td>\n",
       "      <td>=</td>\n",
       "      <td>nM</td>\n",
       "      <td>9.000000</td>\n",
       "      <td>CHEMBL202</td>\n",
       "      <td>Homo sapiens</td>\n",
       "      <td>Ki</td>\n",
       "      <td>9.000000</td>\n",
       "    </tr>\n",
       "    <tr>\n",
       "      <th>1</th>\n",
       "      <td>145813</td>\n",
       "      <td>CHEMBL669872</td>\n",
       "      <td>Compound was evaluated for the inhibition of D...</td>\n",
       "      <td>B</td>\n",
       "      <td>CHEMBL149218</td>\n",
       "      <td>=</td>\n",
       "      <td>nM</td>\n",
       "      <td>0.000100</td>\n",
       "      <td>CHEMBL202</td>\n",
       "      <td>Homo sapiens</td>\n",
       "      <td>Ki</td>\n",
       "      <td>0.000100</td>\n",
       "    </tr>\n",
       "    <tr>\n",
       "      <th>2</th>\n",
       "      <td>145815</td>\n",
       "      <td>CHEMBL669872</td>\n",
       "      <td>Compound was evaluated for the inhibition of D...</td>\n",
       "      <td>B</td>\n",
       "      <td>CHEMBL146917</td>\n",
       "      <td>=</td>\n",
       "      <td>nM</td>\n",
       "      <td>0.000110</td>\n",
       "      <td>CHEMBL202</td>\n",
       "      <td>Homo sapiens</td>\n",
       "      <td>Ki</td>\n",
       "      <td>0.000110</td>\n",
       "    </tr>\n",
       "    <tr>\n",
       "      <th>3</th>\n",
       "      <td>150532</td>\n",
       "      <td>CHEMBL669872</td>\n",
       "      <td>Compound was evaluated for the inhibition of D...</td>\n",
       "      <td>B</td>\n",
       "      <td>CHEMBL149164</td>\n",
       "      <td>=</td>\n",
       "      <td>nM</td>\n",
       "      <td>0.000190</td>\n",
       "      <td>CHEMBL202</td>\n",
       "      <td>Homo sapiens</td>\n",
       "      <td>Ki</td>\n",
       "      <td>0.000190</td>\n",
       "    </tr>\n",
       "    <tr>\n",
       "      <th>4</th>\n",
       "      <td>152127</td>\n",
       "      <td>CHEMBL666805</td>\n",
       "      <td>Inhibitory activity against recombinant human ...</td>\n",
       "      <td>B</td>\n",
       "      <td>CHEMBL167304</td>\n",
       "      <td>=</td>\n",
       "      <td>nM</td>\n",
       "      <td>9.870000</td>\n",
       "      <td>CHEMBL202</td>\n",
       "      <td>Homo sapiens</td>\n",
       "      <td>Ki</td>\n",
       "      <td>9.870000</td>\n",
       "    </tr>\n",
       "    <tr>\n",
       "      <th>...</th>\n",
       "      <td>...</td>\n",
       "      <td>...</td>\n",
       "      <td>...</td>\n",
       "      <td>...</td>\n",
       "      <td>...</td>\n",
       "      <td>...</td>\n",
       "      <td>...</td>\n",
       "      <td>...</td>\n",
       "      <td>...</td>\n",
       "      <td>...</td>\n",
       "      <td>...</td>\n",
       "      <td>...</td>\n",
       "    </tr>\n",
       "    <tr>\n",
       "      <th>268</th>\n",
       "      <td>20675954</td>\n",
       "      <td>CHEMBL4621660</td>\n",
       "      <td>Inhibition of human DHFR in presence of DHF an...</td>\n",
       "      <td>B</td>\n",
       "      <td>CHEMBL1618254</td>\n",
       "      <td>=</td>\n",
       "      <td>nM</td>\n",
       "      <td>3400000.000000</td>\n",
       "      <td>CHEMBL202</td>\n",
       "      <td>Homo sapiens</td>\n",
       "      <td>Ki</td>\n",
       "      <td>3400000.000000</td>\n",
       "    </tr>\n",
       "    <tr>\n",
       "      <th>269</th>\n",
       "      <td>20675955</td>\n",
       "      <td>CHEMBL4621660</td>\n",
       "      <td>Inhibition of human DHFR in presence of DHF an...</td>\n",
       "      <td>B</td>\n",
       "      <td>CHEMBL3278332</td>\n",
       "      <td>=</td>\n",
       "      <td>nM</td>\n",
       "      <td>180000.000000</td>\n",
       "      <td>CHEMBL202</td>\n",
       "      <td>Homo sapiens</td>\n",
       "      <td>Ki</td>\n",
       "      <td>180000.000000</td>\n",
       "    </tr>\n",
       "    <tr>\n",
       "      <th>270</th>\n",
       "      <td>20675956</td>\n",
       "      <td>CHEMBL4621660</td>\n",
       "      <td>Inhibition of human DHFR in presence of DHF an...</td>\n",
       "      <td>B</td>\n",
       "      <td>CHEMBL1233987</td>\n",
       "      <td>=</td>\n",
       "      <td>nM</td>\n",
       "      <td>180000.000000</td>\n",
       "      <td>CHEMBL202</td>\n",
       "      <td>Homo sapiens</td>\n",
       "      <td>Ki</td>\n",
       "      <td>180000.000000</td>\n",
       "    </tr>\n",
       "    <tr>\n",
       "      <th>271</th>\n",
       "      <td>20675957</td>\n",
       "      <td>CHEMBL4621660</td>\n",
       "      <td>Inhibition of human DHFR in presence of DHF an...</td>\n",
       "      <td>B</td>\n",
       "      <td>CHEMBL170988</td>\n",
       "      <td>=</td>\n",
       "      <td>nM</td>\n",
       "      <td>140000.000000</td>\n",
       "      <td>CHEMBL202</td>\n",
       "      <td>Homo sapiens</td>\n",
       "      <td>Ki</td>\n",
       "      <td>140000.000000</td>\n",
       "    </tr>\n",
       "    <tr>\n",
       "      <th>272</th>\n",
       "      <td>20675958</td>\n",
       "      <td>CHEMBL4621660</td>\n",
       "      <td>Inhibition of human DHFR in presence of DHF an...</td>\n",
       "      <td>B</td>\n",
       "      <td>CHEMBL1431</td>\n",
       "      <td>=</td>\n",
       "      <td>nM</td>\n",
       "      <td>18000000.000000</td>\n",
       "      <td>CHEMBL202</td>\n",
       "      <td>Homo sapiens</td>\n",
       "      <td>Ki</td>\n",
       "      <td>18000000.000000</td>\n",
       "    </tr>\n",
       "  </tbody>\n",
       "</table>\n",
       "<p>273 rows × 12 columns</p>\n",
       "</div>"
      ],
      "text/plain": [
       "     activity_id assay_chembl_id  \\\n",
       "0         144782    CHEMBL666227   \n",
       "1         145813    CHEMBL669872   \n",
       "2         145815    CHEMBL669872   \n",
       "3         150532    CHEMBL669872   \n",
       "4         152127    CHEMBL666805   \n",
       "..           ...             ...   \n",
       "268     20675954   CHEMBL4621660   \n",
       "269     20675955   CHEMBL4621660   \n",
       "270     20675956   CHEMBL4621660   \n",
       "271     20675957   CHEMBL4621660   \n",
       "272     20675958   CHEMBL4621660   \n",
       "\n",
       "                                     assay_description assay_type  \\\n",
       "0    Competitive inhibition of mammalian dihydrofol...          B   \n",
       "1    Compound was evaluated for the inhibition of D...          B   \n",
       "2    Compound was evaluated for the inhibition of D...          B   \n",
       "3    Compound was evaluated for the inhibition of D...          B   \n",
       "4    Inhibitory activity against recombinant human ...          B   \n",
       "..                                                 ...        ...   \n",
       "268  Inhibition of human DHFR in presence of DHF an...          B   \n",
       "269  Inhibition of human DHFR in presence of DHF an...          B   \n",
       "270  Inhibition of human DHFR in presence of DHF an...          B   \n",
       "271  Inhibition of human DHFR in presence of DHF an...          B   \n",
       "272  Inhibition of human DHFR in presence of DHF an...          B   \n",
       "\n",
       "    molecule_chembl_id relation standard_units  standard_value  \\\n",
       "0        CHEMBL1161155        =             nM        9.000000   \n",
       "1         CHEMBL149218        =             nM        0.000100   \n",
       "2         CHEMBL146917        =             nM        0.000110   \n",
       "3         CHEMBL149164        =             nM        0.000190   \n",
       "4         CHEMBL167304        =             nM        9.870000   \n",
       "..                 ...      ...            ...             ...   \n",
       "268      CHEMBL1618254        =             nM  3400000.000000   \n",
       "269      CHEMBL3278332        =             nM   180000.000000   \n",
       "270      CHEMBL1233987        =             nM   180000.000000   \n",
       "271       CHEMBL170988        =             nM   140000.000000   \n",
       "272         CHEMBL1431        =             nM 18000000.000000   \n",
       "\n",
       "    target_chembl_id target_organism type  mean_standard_value  \n",
       "0          CHEMBL202    Homo sapiens   Ki             9.000000  \n",
       "1          CHEMBL202    Homo sapiens   Ki             0.000100  \n",
       "2          CHEMBL202    Homo sapiens   Ki             0.000110  \n",
       "3          CHEMBL202    Homo sapiens   Ki             0.000190  \n",
       "4          CHEMBL202    Homo sapiens   Ki             9.870000  \n",
       "..               ...             ...  ...                  ...  \n",
       "268        CHEMBL202    Homo sapiens   Ki       3400000.000000  \n",
       "269        CHEMBL202    Homo sapiens   Ki        180000.000000  \n",
       "270        CHEMBL202    Homo sapiens   Ki        180000.000000  \n",
       "271        CHEMBL202    Homo sapiens   Ki        140000.000000  \n",
       "272        CHEMBL202    Homo sapiens   Ki      18000000.000000  \n",
       "\n",
       "[273 rows x 12 columns]"
      ]
     },
     "execution_count": 51,
     "metadata": {},
     "output_type": "execute_result"
    }
   ],
   "source": [
    "merged_bioactivities_human.reset_index(inplace=True, drop=True)\n",
    "merged_bioactivities_human"
   ]
  },
  {
   "attachments": {},
   "cell_type": "markdown",
   "metadata": {},
   "source": [
    "#### 6. Renaming and reordering the columns"
   ]
  },
  {
   "cell_type": "code",
   "execution_count": 52,
   "metadata": {},
   "outputs": [
    {
     "data": {
      "text/html": [
       "<div>\n",
       "<style scoped>\n",
       "    .dataframe tbody tr th:only-of-type {\n",
       "        vertical-align: middle;\n",
       "    }\n",
       "\n",
       "    .dataframe tbody tr th {\n",
       "        vertical-align: top;\n",
       "    }\n",
       "\n",
       "    .dataframe thead th {\n",
       "        text-align: right;\n",
       "    }\n",
       "</style>\n",
       "<table border=\"1\" class=\"dataframe\">\n",
       "  <thead>\n",
       "    <tr style=\"text-align: right;\">\n",
       "      <th></th>\n",
       "      <th>activity_id</th>\n",
       "      <th>assay_chembl_id</th>\n",
       "      <th>assay_description</th>\n",
       "      <th>assay_type</th>\n",
       "      <th>molecule_chembl_id</th>\n",
       "      <th>relation</th>\n",
       "      <th>standard_units</th>\n",
       "      <th>last_Ki_value</th>\n",
       "      <th>target_chembl_id</th>\n",
       "      <th>target_organism</th>\n",
       "      <th>type</th>\n",
       "      <th>mean_Ki_value</th>\n",
       "    </tr>\n",
       "  </thead>\n",
       "  <tbody>\n",
       "    <tr>\n",
       "      <th>0</th>\n",
       "      <td>144782</td>\n",
       "      <td>CHEMBL666227</td>\n",
       "      <td>Competitive inhibition of mammalian dihydrofol...</td>\n",
       "      <td>B</td>\n",
       "      <td>CHEMBL1161155</td>\n",
       "      <td>=</td>\n",
       "      <td>nM</td>\n",
       "      <td>9.000000</td>\n",
       "      <td>CHEMBL202</td>\n",
       "      <td>Homo sapiens</td>\n",
       "      <td>Ki</td>\n",
       "      <td>9.000000</td>\n",
       "    </tr>\n",
       "    <tr>\n",
       "      <th>1</th>\n",
       "      <td>145813</td>\n",
       "      <td>CHEMBL669872</td>\n",
       "      <td>Compound was evaluated for the inhibition of D...</td>\n",
       "      <td>B</td>\n",
       "      <td>CHEMBL149218</td>\n",
       "      <td>=</td>\n",
       "      <td>nM</td>\n",
       "      <td>0.000100</td>\n",
       "      <td>CHEMBL202</td>\n",
       "      <td>Homo sapiens</td>\n",
       "      <td>Ki</td>\n",
       "      <td>0.000100</td>\n",
       "    </tr>\n",
       "    <tr>\n",
       "      <th>2</th>\n",
       "      <td>145815</td>\n",
       "      <td>CHEMBL669872</td>\n",
       "      <td>Compound was evaluated for the inhibition of D...</td>\n",
       "      <td>B</td>\n",
       "      <td>CHEMBL146917</td>\n",
       "      <td>=</td>\n",
       "      <td>nM</td>\n",
       "      <td>0.000110</td>\n",
       "      <td>CHEMBL202</td>\n",
       "      <td>Homo sapiens</td>\n",
       "      <td>Ki</td>\n",
       "      <td>0.000110</td>\n",
       "    </tr>\n",
       "  </tbody>\n",
       "</table>\n",
       "</div>"
      ],
      "text/plain": [
       "   activity_id assay_chembl_id  \\\n",
       "0       144782    CHEMBL666227   \n",
       "1       145813    CHEMBL669872   \n",
       "2       145815    CHEMBL669872   \n",
       "\n",
       "                                   assay_description assay_type  \\\n",
       "0  Competitive inhibition of mammalian dihydrofol...          B   \n",
       "1  Compound was evaluated for the inhibition of D...          B   \n",
       "2  Compound was evaluated for the inhibition of D...          B   \n",
       "\n",
       "  molecule_chembl_id relation standard_units  last_Ki_value target_chembl_id  \\\n",
       "0      CHEMBL1161155        =             nM       9.000000        CHEMBL202   \n",
       "1       CHEMBL149218        =             nM       0.000100        CHEMBL202   \n",
       "2       CHEMBL146917        =             nM       0.000110        CHEMBL202   \n",
       "\n",
       "  target_organism type  mean_Ki_value  \n",
       "0    Homo sapiens   Ki       9.000000  \n",
       "1    Homo sapiens   Ki       0.000100  \n",
       "2    Homo sapiens   Ki       0.000110  "
      ]
     },
     "execution_count": 52,
     "metadata": {},
     "output_type": "execute_result"
    }
   ],
   "source": [
    "merged_bioactivities_human.rename(columns={'standard_value': 'last_Ki_value','mean_standard_value':'mean_Ki_value'}, inplace=True)\n",
    "merged_bioactivities_human.head(3)"
   ]
  },
  {
   "attachments": {},
   "cell_type": "markdown",
   "metadata": {},
   "source": [
    "Now we finally do the reordering:"
   ]
  },
  {
   "cell_type": "code",
   "execution_count": 53,
   "metadata": {},
   "outputs": [],
   "source": [
    "merged_bioactivities_human = merged_bioactivities_human[['activity_id', 'assay_chembl_id', 'assay_description', 'assay_type', 'molecule_chembl_id', 'relation', 'last_Ki_value', 'mean_Ki_value', 'standard_units', 'standard_units', 'target_chembl_id', 'target_organism']]"
   ]
  },
  {
   "cell_type": "code",
   "execution_count": 54,
   "metadata": {},
   "outputs": [
    {
     "data": {
      "text/html": [
       "<div>\n",
       "<style scoped>\n",
       "    .dataframe tbody tr th:only-of-type {\n",
       "        vertical-align: middle;\n",
       "    }\n",
       "\n",
       "    .dataframe tbody tr th {\n",
       "        vertical-align: top;\n",
       "    }\n",
       "\n",
       "    .dataframe thead th {\n",
       "        text-align: right;\n",
       "    }\n",
       "</style>\n",
       "<table border=\"1\" class=\"dataframe\">\n",
       "  <thead>\n",
       "    <tr style=\"text-align: right;\">\n",
       "      <th></th>\n",
       "      <th>activity_id</th>\n",
       "      <th>assay_chembl_id</th>\n",
       "      <th>assay_description</th>\n",
       "      <th>assay_type</th>\n",
       "      <th>molecule_chembl_id</th>\n",
       "      <th>relation</th>\n",
       "      <th>last_Ki_value</th>\n",
       "      <th>mean_Ki_value</th>\n",
       "      <th>standard_units</th>\n",
       "      <th>standard_units</th>\n",
       "      <th>target_chembl_id</th>\n",
       "      <th>target_organism</th>\n",
       "    </tr>\n",
       "  </thead>\n",
       "  <tbody>\n",
       "    <tr>\n",
       "      <th>0</th>\n",
       "      <td>144782</td>\n",
       "      <td>CHEMBL666227</td>\n",
       "      <td>Competitive inhibition of mammalian dihydrofol...</td>\n",
       "      <td>B</td>\n",
       "      <td>CHEMBL1161155</td>\n",
       "      <td>=</td>\n",
       "      <td>9.000000</td>\n",
       "      <td>9.000000</td>\n",
       "      <td>nM</td>\n",
       "      <td>nM</td>\n",
       "      <td>CHEMBL202</td>\n",
       "      <td>Homo sapiens</td>\n",
       "    </tr>\n",
       "    <tr>\n",
       "      <th>1</th>\n",
       "      <td>145813</td>\n",
       "      <td>CHEMBL669872</td>\n",
       "      <td>Compound was evaluated for the inhibition of D...</td>\n",
       "      <td>B</td>\n",
       "      <td>CHEMBL149218</td>\n",
       "      <td>=</td>\n",
       "      <td>0.000100</td>\n",
       "      <td>0.000100</td>\n",
       "      <td>nM</td>\n",
       "      <td>nM</td>\n",
       "      <td>CHEMBL202</td>\n",
       "      <td>Homo sapiens</td>\n",
       "    </tr>\n",
       "    <tr>\n",
       "      <th>2</th>\n",
       "      <td>145815</td>\n",
       "      <td>CHEMBL669872</td>\n",
       "      <td>Compound was evaluated for the inhibition of D...</td>\n",
       "      <td>B</td>\n",
       "      <td>CHEMBL146917</td>\n",
       "      <td>=</td>\n",
       "      <td>0.000110</td>\n",
       "      <td>0.000110</td>\n",
       "      <td>nM</td>\n",
       "      <td>nM</td>\n",
       "      <td>CHEMBL202</td>\n",
       "      <td>Homo sapiens</td>\n",
       "    </tr>\n",
       "    <tr>\n",
       "      <th>3</th>\n",
       "      <td>150532</td>\n",
       "      <td>CHEMBL669872</td>\n",
       "      <td>Compound was evaluated for the inhibition of D...</td>\n",
       "      <td>B</td>\n",
       "      <td>CHEMBL149164</td>\n",
       "      <td>=</td>\n",
       "      <td>0.000190</td>\n",
       "      <td>0.000190</td>\n",
       "      <td>nM</td>\n",
       "      <td>nM</td>\n",
       "      <td>CHEMBL202</td>\n",
       "      <td>Homo sapiens</td>\n",
       "    </tr>\n",
       "    <tr>\n",
       "      <th>4</th>\n",
       "      <td>152127</td>\n",
       "      <td>CHEMBL666805</td>\n",
       "      <td>Inhibitory activity against recombinant human ...</td>\n",
       "      <td>B</td>\n",
       "      <td>CHEMBL167304</td>\n",
       "      <td>=</td>\n",
       "      <td>9.870000</td>\n",
       "      <td>9.870000</td>\n",
       "      <td>nM</td>\n",
       "      <td>nM</td>\n",
       "      <td>CHEMBL202</td>\n",
       "      <td>Homo sapiens</td>\n",
       "    </tr>\n",
       "    <tr>\n",
       "      <th>...</th>\n",
       "      <td>...</td>\n",
       "      <td>...</td>\n",
       "      <td>...</td>\n",
       "      <td>...</td>\n",
       "      <td>...</td>\n",
       "      <td>...</td>\n",
       "      <td>...</td>\n",
       "      <td>...</td>\n",
       "      <td>...</td>\n",
       "      <td>...</td>\n",
       "      <td>...</td>\n",
       "      <td>...</td>\n",
       "    </tr>\n",
       "    <tr>\n",
       "      <th>268</th>\n",
       "      <td>20675954</td>\n",
       "      <td>CHEMBL4621660</td>\n",
       "      <td>Inhibition of human DHFR in presence of DHF an...</td>\n",
       "      <td>B</td>\n",
       "      <td>CHEMBL1618254</td>\n",
       "      <td>=</td>\n",
       "      <td>3400000.000000</td>\n",
       "      <td>3400000.000000</td>\n",
       "      <td>nM</td>\n",
       "      <td>nM</td>\n",
       "      <td>CHEMBL202</td>\n",
       "      <td>Homo sapiens</td>\n",
       "    </tr>\n",
       "    <tr>\n",
       "      <th>269</th>\n",
       "      <td>20675955</td>\n",
       "      <td>CHEMBL4621660</td>\n",
       "      <td>Inhibition of human DHFR in presence of DHF an...</td>\n",
       "      <td>B</td>\n",
       "      <td>CHEMBL3278332</td>\n",
       "      <td>=</td>\n",
       "      <td>180000.000000</td>\n",
       "      <td>180000.000000</td>\n",
       "      <td>nM</td>\n",
       "      <td>nM</td>\n",
       "      <td>CHEMBL202</td>\n",
       "      <td>Homo sapiens</td>\n",
       "    </tr>\n",
       "    <tr>\n",
       "      <th>270</th>\n",
       "      <td>20675956</td>\n",
       "      <td>CHEMBL4621660</td>\n",
       "      <td>Inhibition of human DHFR in presence of DHF an...</td>\n",
       "      <td>B</td>\n",
       "      <td>CHEMBL1233987</td>\n",
       "      <td>=</td>\n",
       "      <td>180000.000000</td>\n",
       "      <td>180000.000000</td>\n",
       "      <td>nM</td>\n",
       "      <td>nM</td>\n",
       "      <td>CHEMBL202</td>\n",
       "      <td>Homo sapiens</td>\n",
       "    </tr>\n",
       "    <tr>\n",
       "      <th>271</th>\n",
       "      <td>20675957</td>\n",
       "      <td>CHEMBL4621660</td>\n",
       "      <td>Inhibition of human DHFR in presence of DHF an...</td>\n",
       "      <td>B</td>\n",
       "      <td>CHEMBL170988</td>\n",
       "      <td>=</td>\n",
       "      <td>140000.000000</td>\n",
       "      <td>140000.000000</td>\n",
       "      <td>nM</td>\n",
       "      <td>nM</td>\n",
       "      <td>CHEMBL202</td>\n",
       "      <td>Homo sapiens</td>\n",
       "    </tr>\n",
       "    <tr>\n",
       "      <th>272</th>\n",
       "      <td>20675958</td>\n",
       "      <td>CHEMBL4621660</td>\n",
       "      <td>Inhibition of human DHFR in presence of DHF an...</td>\n",
       "      <td>B</td>\n",
       "      <td>CHEMBL1431</td>\n",
       "      <td>=</td>\n",
       "      <td>18000000.000000</td>\n",
       "      <td>18000000.000000</td>\n",
       "      <td>nM</td>\n",
       "      <td>nM</td>\n",
       "      <td>CHEMBL202</td>\n",
       "      <td>Homo sapiens</td>\n",
       "    </tr>\n",
       "  </tbody>\n",
       "</table>\n",
       "<p>273 rows × 12 columns</p>\n",
       "</div>"
      ],
      "text/plain": [
       "     activity_id assay_chembl_id  \\\n",
       "0         144782    CHEMBL666227   \n",
       "1         145813    CHEMBL669872   \n",
       "2         145815    CHEMBL669872   \n",
       "3         150532    CHEMBL669872   \n",
       "4         152127    CHEMBL666805   \n",
       "..           ...             ...   \n",
       "268     20675954   CHEMBL4621660   \n",
       "269     20675955   CHEMBL4621660   \n",
       "270     20675956   CHEMBL4621660   \n",
       "271     20675957   CHEMBL4621660   \n",
       "272     20675958   CHEMBL4621660   \n",
       "\n",
       "                                     assay_description assay_type  \\\n",
       "0    Competitive inhibition of mammalian dihydrofol...          B   \n",
       "1    Compound was evaluated for the inhibition of D...          B   \n",
       "2    Compound was evaluated for the inhibition of D...          B   \n",
       "3    Compound was evaluated for the inhibition of D...          B   \n",
       "4    Inhibitory activity against recombinant human ...          B   \n",
       "..                                                 ...        ...   \n",
       "268  Inhibition of human DHFR in presence of DHF an...          B   \n",
       "269  Inhibition of human DHFR in presence of DHF an...          B   \n",
       "270  Inhibition of human DHFR in presence of DHF an...          B   \n",
       "271  Inhibition of human DHFR in presence of DHF an...          B   \n",
       "272  Inhibition of human DHFR in presence of DHF an...          B   \n",
       "\n",
       "    molecule_chembl_id relation   last_Ki_value   mean_Ki_value  \\\n",
       "0        CHEMBL1161155        =        9.000000        9.000000   \n",
       "1         CHEMBL149218        =        0.000100        0.000100   \n",
       "2         CHEMBL146917        =        0.000110        0.000110   \n",
       "3         CHEMBL149164        =        0.000190        0.000190   \n",
       "4         CHEMBL167304        =        9.870000        9.870000   \n",
       "..                 ...      ...             ...             ...   \n",
       "268      CHEMBL1618254        =  3400000.000000  3400000.000000   \n",
       "269      CHEMBL3278332        =   180000.000000   180000.000000   \n",
       "270      CHEMBL1233987        =   180000.000000   180000.000000   \n",
       "271       CHEMBL170988        =   140000.000000   140000.000000   \n",
       "272         CHEMBL1431        = 18000000.000000 18000000.000000   \n",
       "\n",
       "    standard_units standard_units target_chembl_id target_organism  \n",
       "0               nM             nM        CHEMBL202    Homo sapiens  \n",
       "1               nM             nM        CHEMBL202    Homo sapiens  \n",
       "2               nM             nM        CHEMBL202    Homo sapiens  \n",
       "3               nM             nM        CHEMBL202    Homo sapiens  \n",
       "4               nM             nM        CHEMBL202    Homo sapiens  \n",
       "..             ...            ...              ...             ...  \n",
       "268             nM             nM        CHEMBL202    Homo sapiens  \n",
       "269             nM             nM        CHEMBL202    Homo sapiens  \n",
       "270             nM             nM        CHEMBL202    Homo sapiens  \n",
       "271             nM             nM        CHEMBL202    Homo sapiens  \n",
       "272             nM             nM        CHEMBL202    Homo sapiens  \n",
       "\n",
       "[273 rows x 12 columns]"
      ]
     },
     "execution_count": 54,
     "metadata": {},
     "output_type": "execute_result"
    }
   ],
   "source": [
    "# The final biological activities output is:\n",
    "merged_bioactivities_human"
   ]
  },
  {
   "attachments": {},
   "cell_type": "markdown",
   "metadata": {},
   "source": [
    "### Download the compound data from ChEMBL"
   ]
  },
  {
   "cell_type": "code",
   "execution_count": 55,
   "metadata": {},
   "outputs": [],
   "source": [
    "compounds_provider = compounds_api.filter(\n",
    "    molecule_chembl_id__in=list(merged_bioactivities_human['molecule_chembl_id'])\n",
    ").only('molecule_chembl_id', 'molecule_structures')"
   ]
  },
  {
   "cell_type": "code",
   "execution_count": 65,
   "metadata": {},
   "outputs": [
    {
     "data": {
      "application/vnd.jupyter.widget-view+json": {
       "model_id": "0b736e3407c449eaadaed5cd98f1cb8d",
       "version_major": 2,
       "version_minor": 0
      },
      "text/plain": [
       "  0%|          | 0/273 [00:00<?, ?it/s]"
      ]
     },
     "metadata": {},
     "output_type": "display_data"
    }
   ],
   "source": [
    "compounds = list(tqdm(compounds_provider))"
   ]
  },
  {
   "attachments": {},
   "cell_type": "markdown",
   "metadata": {},
   "source": [
    "After waiting for the compounds to be gathered (using the list function I think), we can now take a peek in our SMILES strucutres gathered."
   ]
  },
  {
   "cell_type": "code",
   "execution_count": 66,
   "metadata": {},
   "outputs": [
    {
     "name": "stdout",
     "output_type": "stream",
     "text": [
      "(273, 2)\n"
     ]
    },
    {
     "data": {
      "text/html": [
       "<div>\n",
       "<style scoped>\n",
       "    .dataframe tbody tr th:only-of-type {\n",
       "        vertical-align: middle;\n",
       "    }\n",
       "\n",
       "    .dataframe tbody tr th {\n",
       "        vertical-align: top;\n",
       "    }\n",
       "\n",
       "    .dataframe thead th {\n",
       "        text-align: right;\n",
       "    }\n",
       "</style>\n",
       "<table border=\"1\" class=\"dataframe\">\n",
       "  <thead>\n",
       "    <tr style=\"text-align: right;\">\n",
       "      <th></th>\n",
       "      <th>molecule_chembl_id</th>\n",
       "      <th>molecule_structures</th>\n",
       "    </tr>\n",
       "  </thead>\n",
       "  <tbody>\n",
       "    <tr>\n",
       "      <th>0</th>\n",
       "      <td>CHEMBL6948</td>\n",
       "      <td>{'canonical_smiles': 'CC1(C)N=C(N)N=C(N)N1c1cc...</td>\n",
       "    </tr>\n",
       "    <tr>\n",
       "      <th>1</th>\n",
       "      <td>CHEMBL22</td>\n",
       "      <td>{'canonical_smiles': 'COc1cc(Cc2cnc(N)nc2N)cc(...</td>\n",
       "    </tr>\n",
       "    <tr>\n",
       "      <th>2</th>\n",
       "      <td>CHEMBL268088</td>\n",
       "      <td>{'canonical_smiles': 'CC1(C)N=C(N)N=C(N)N1c1cc...</td>\n",
       "    </tr>\n",
       "    <tr>\n",
       "      <th>3</th>\n",
       "      <td>CHEMBL7130</td>\n",
       "      <td>{'canonical_smiles': 'CC1(C)N=C(N)N=C(N)N1c1cc...</td>\n",
       "    </tr>\n",
       "    <tr>\n",
       "      <th>4</th>\n",
       "      <td>CHEMBL7492</td>\n",
       "      <td>{'canonical_smiles': 'COc1ccc(OC)c(Cc2cnc3nc(N...</td>\n",
       "    </tr>\n",
       "  </tbody>\n",
       "</table>\n",
       "</div>"
      ],
      "text/plain": [
       "  molecule_chembl_id                                molecule_structures\n",
       "0         CHEMBL6948  {'canonical_smiles': 'CC1(C)N=C(N)N=C(N)N1c1cc...\n",
       "1           CHEMBL22  {'canonical_smiles': 'COc1cc(Cc2cnc(N)nc2N)cc(...\n",
       "2       CHEMBL268088  {'canonical_smiles': 'CC1(C)N=C(N)N=C(N)N1c1cc...\n",
       "3         CHEMBL7130  {'canonical_smiles': 'CC1(C)N=C(N)N=C(N)N1c1cc...\n",
       "4         CHEMBL7492  {'canonical_smiles': 'COc1ccc(OC)c(Cc2cnc3nc(N..."
      ]
     },
     "execution_count": 66,
     "metadata": {},
     "output_type": "execute_result"
    }
   ],
   "source": [
    "compounds_df = pd.DataFrame.from_records(compounds)\n",
    "print(compounds_df.shape)\n",
    "compounds_df.head(5)"
   ]
  },
  {
   "attachments": {},
   "cell_type": "markdown",
   "metadata": {},
   "source": [
    "Performing the following steps:\n",
    "1. Remove entries with missing structures\n",
    "2. Delete duplicate molecule by `'molecule_chembl_id'` variable\n",
    "3. Get only molecules with **Canonical SMILES**\n"
   ]
  },
  {
   "attachments": {},
   "cell_type": "markdown",
   "metadata": {},
   "source": [
    "#### 1. Remove missing structures"
   ]
  },
  {
   "cell_type": "code",
   "execution_count": 67,
   "metadata": {},
   "outputs": [
    {
     "name": "stdout",
     "output_type": "stream",
     "text": [
      "273\n"
     ]
    },
    {
     "data": {
      "text/html": [
       "<div>\n",
       "<style scoped>\n",
       "    .dataframe tbody tr th:only-of-type {\n",
       "        vertical-align: middle;\n",
       "    }\n",
       "\n",
       "    .dataframe tbody tr th {\n",
       "        vertical-align: top;\n",
       "    }\n",
       "\n",
       "    .dataframe thead th {\n",
       "        text-align: right;\n",
       "    }\n",
       "</style>\n",
       "<table border=\"1\" class=\"dataframe\">\n",
       "  <thead>\n",
       "    <tr style=\"text-align: right;\">\n",
       "      <th></th>\n",
       "      <th>molecule_chembl_id</th>\n",
       "      <th>molecule_structures</th>\n",
       "    </tr>\n",
       "  </thead>\n",
       "  <tbody>\n",
       "    <tr>\n",
       "      <th>0</th>\n",
       "      <td>CHEMBL6948</td>\n",
       "      <td>{'canonical_smiles': 'CC1(C)N=C(N)N=C(N)N1c1cc...</td>\n",
       "    </tr>\n",
       "    <tr>\n",
       "      <th>1</th>\n",
       "      <td>CHEMBL22</td>\n",
       "      <td>{'canonical_smiles': 'COc1cc(Cc2cnc(N)nc2N)cc(...</td>\n",
       "    </tr>\n",
       "    <tr>\n",
       "      <th>2</th>\n",
       "      <td>CHEMBL268088</td>\n",
       "      <td>{'canonical_smiles': 'CC1(C)N=C(N)N=C(N)N1c1cc...</td>\n",
       "    </tr>\n",
       "  </tbody>\n",
       "</table>\n",
       "</div>"
      ],
      "text/plain": [
       "  molecule_chembl_id                                molecule_structures\n",
       "0         CHEMBL6948  {'canonical_smiles': 'CC1(C)N=C(N)N=C(N)N1c1cc...\n",
       "1           CHEMBL22  {'canonical_smiles': 'COc1cc(Cc2cnc(N)nc2N)cc(...\n",
       "2       CHEMBL268088  {'canonical_smiles': 'CC1(C)N=C(N)N=C(N)N1c1cc..."
      ]
     },
     "execution_count": 67,
     "metadata": {},
     "output_type": "execute_result"
    }
   ],
   "source": [
    "compounds_df.dropna(axis=0, how=\"any\", inplace=True)\n",
    "print(compounds_df.shape[0])\n",
    "\n",
    "compounds_df.head(3)"
   ]
  },
  {
   "attachments": {},
   "cell_type": "markdown",
   "metadata": {},
   "source": [
    "So no missing entries as our entry value is still 273."
   ]
  },
  {
   "attachments": {},
   "cell_type": "markdown",
   "metadata": {},
   "source": [
    "#### 2. Delete duplicates"
   ]
  },
  {
   "cell_type": "code",
   "execution_count": 68,
   "metadata": {},
   "outputs": [
    {
     "name": "stdout",
     "output_type": "stream",
     "text": [
      "273\n"
     ]
    }
   ],
   "source": [
    "compounds_df.drop_duplicates('molecule_chembl_id', keep='first',\n",
    "inplace=True)\n",
    "print(compounds_df.shape[0])"
   ]
  },
  {
   "attachments": {},
   "cell_type": "markdown",
   "metadata": {},
   "source": [
    "#### 3. Only Canonical SMILES"
   ]
  },
  {
   "attachments": {},
   "cell_type": "markdown",
   "metadata": {},
   "source": [
    "Multiple outputs for the structure formats gathered in `compounds_df` but we are only interested into the `canonical_smiles`information."
   ]
  },
  {
   "cell_type": "code",
   "execution_count": 69,
   "metadata": {},
   "outputs": [
    {
     "data": {
      "text/plain": [
       "dict_keys(['canonical_smiles', 'molfile', 'standard_inchi', 'standard_inchi_key'])"
      ]
     },
     "execution_count": 69,
     "metadata": {},
     "output_type": "execute_result"
    }
   ],
   "source": [
    "compounds_df.iloc[0].molecule_structures.keys()"
   ]
  },
  {
   "attachments": {},
   "cell_type": "markdown",
   "metadata": {},
   "source": [
    "So we can do a `for`loop to retrieve only the canonical_smiles dictionary key and that's the chunk below:"
   ]
  },
  {
   "cell_type": "code",
   "execution_count": 70,
   "metadata": {},
   "outputs": [],
   "source": [
    "canonical_smiles = []\n",
    "\n",
    "for i, compounds in compounds_df.iterrows():\n",
    "    try:\n",
    "        canonical_smiles.append(compounds['molecule_structures']['canonical_smiles'])\n",
    "    except KeyError:\n",
    "        canonical_smiles.append(None)\n",
    "\n",
    "compounds_df['smiles'] = canonical_smiles\n",
    "compounds_df.drop('molecule_structures', axis=1, inplace=True)"
   ]
  },
  {
   "attachments": {},
   "cell_type": "markdown",
   "metadata": {},
   "source": [
    "Sanity check to see if there is any NA appended before:"
   ]
  },
  {
   "cell_type": "code",
   "execution_count": 71,
   "metadata": {},
   "outputs": [
    {
     "name": "stdout",
     "output_type": "stream",
     "text": [
      "The shape of the compounds dataset is: (273, 2)\n"
     ]
    },
    {
     "data": {
      "text/html": [
       "<div>\n",
       "<style scoped>\n",
       "    .dataframe tbody tr th:only-of-type {\n",
       "        vertical-align: middle;\n",
       "    }\n",
       "\n",
       "    .dataframe tbody tr th {\n",
       "        vertical-align: top;\n",
       "    }\n",
       "\n",
       "    .dataframe thead th {\n",
       "        text-align: right;\n",
       "    }\n",
       "</style>\n",
       "<table border=\"1\" class=\"dataframe\">\n",
       "  <thead>\n",
       "    <tr style=\"text-align: right;\">\n",
       "      <th></th>\n",
       "      <th>molecule_chembl_id</th>\n",
       "      <th>smiles</th>\n",
       "    </tr>\n",
       "  </thead>\n",
       "  <tbody>\n",
       "    <tr>\n",
       "      <th>0</th>\n",
       "      <td>CHEMBL6948</td>\n",
       "      <td>CC1(C)N=C(N)N=C(N)N1c1cccc(C(F)(F)F)c1</td>\n",
       "    </tr>\n",
       "    <tr>\n",
       "      <th>1</th>\n",
       "      <td>CHEMBL22</td>\n",
       "      <td>COc1cc(Cc2cnc(N)nc2N)cc(OC)c1OC</td>\n",
       "    </tr>\n",
       "    <tr>\n",
       "      <th>2</th>\n",
       "      <td>CHEMBL268088</td>\n",
       "      <td>CC1(C)N=C(N)N=C(N)N1c1cccc(Br)c1</td>\n",
       "    </tr>\n",
       "  </tbody>\n",
       "</table>\n",
       "</div>"
      ],
      "text/plain": [
       "  molecule_chembl_id                                  smiles\n",
       "0         CHEMBL6948  CC1(C)N=C(N)N=C(N)N1c1cccc(C(F)(F)F)c1\n",
       "1           CHEMBL22         COc1cc(Cc2cnc(N)nc2N)cc(OC)c1OC\n",
       "2       CHEMBL268088        CC1(C)N=C(N)N=C(N)N1c1cccc(Br)c1"
      ]
     },
     "execution_count": 71,
     "metadata": {},
     "output_type": "execute_result"
    }
   ],
   "source": [
    "compounds_df.dropna(axis=0, how='any', inplace=True)\n",
    "print(f\"The shape of the compounds dataset is: {compounds_df.shape}\")\n",
    "compounds_df.head(3)"
   ]
  },
  {
   "attachments": {},
   "cell_type": "markdown",
   "metadata": {},
   "source": [
    "Ok, so we're finally good to go on our final output of the data."
   ]
  },
  {
   "attachments": {},
   "cell_type": "markdown",
   "metadata": {},
   "source": [
    "### Output of the data"
   ]
  },
  {
   "attachments": {},
   "cell_type": "markdown",
   "metadata": {},
   "source": [
    "Doing a summary of the data that we have gathered so far, that is: the `merged_bioactivities_human` and the `compounds_df`. The first one contains the respective biological acitivites and the second one contains the of the respective `molecule_chembl_id`."
   ]
  },
  {
   "cell_type": "code",
   "execution_count": 73,
   "metadata": {},
   "outputs": [
    {
     "name": "stdout",
     "output_type": "stream",
     "text": [
      "Total molecule_ids retrieved from ChEMBL for our human enzyme target: 273\n",
      "\n"
     ]
    },
    {
     "data": {
      "text/plain": [
       "Index(['activity_id', 'assay_chembl_id', 'assay_description', 'assay_type',\n",
       "       'molecule_chembl_id', 'relation', 'last_Ki_value', 'mean_Ki_value',\n",
       "       'standard_units', 'standard_units', 'target_chembl_id',\n",
       "       'target_organism'],\n",
       "      dtype='object')"
      ]
     },
     "execution_count": 73,
     "metadata": {},
     "output_type": "execute_result"
    }
   ],
   "source": [
    "print(f\"Total molecule_ids retrieved from ChEMBL for our human enzyme target: {merged_bioactivities_human.shape[0]}\\n\")\n",
    "merged_bioactivities_human.columns"
   ]
  },
  {
   "attachments": {},
   "cell_type": "markdown",
   "metadata": {},
   "source": [
    "Simultaneously for the `canonical_smiles` fetched we have:"
   ]
  },
  {
   "cell_type": "code",
   "execution_count": 74,
   "metadata": {},
   "outputs": [
    {
     "name": "stdout",
     "output_type": "stream",
     "text": [
      "Total canonical smiles fetched for our human enzyme target: 273\n",
      "\n"
     ]
    },
    {
     "data": {
      "text/plain": [
       "Index(['molecule_chembl_id', 'smiles'], dtype='object')"
      ]
     },
     "execution_count": 74,
     "metadata": {},
     "output_type": "execute_result"
    }
   ],
   "source": [
    "print(f\"Total canonical smiles fetched for our human enzyme target: {compounds_df.shape[0]}\\n\")\n",
    "compounds_df.columns"
   ]
  },
  {
   "attachments": {},
   "cell_type": "markdown",
   "metadata": {},
   "source": [
    "So we have the same number, both 273 entries and we can merge the two datasets by the `molecule_chembl_id`! thats very good."
   ]
  },
  {
   "attachments": {},
   "cell_type": "markdown",
   "metadata": {},
   "source": [
    "### Merge both datasets"
   ]
  },
  {
   "attachments": {},
   "cell_type": "markdown",
   "metadata": {},
   "source": [
    "Merging both datasets so we can do a `csv` for the output and get a preprocessed data and some easiness for our life in the cleaning step of the data. We're basically going to merge the datsets and keep the following columns:\n",
    "\n",
    "* ChEMBL IDS: `molecule_chembl_id`\n",
    "* SMILES: `smiles`\n",
    "* Units: `standard_units`\n",
    "* Last Ki: `last_Ki_value`\n",
    "* Mean Ki: `mean_Ki_value`\n",
    "* Target: `target_organism` - so we can tell right away what target we're talking about"
   ]
  },
  {
   "cell_type": "code",
   "execution_count": 75,
   "metadata": {},
   "outputs": [
    {
     "data": {
      "text/html": [
       "<div>\n",
       "<style scoped>\n",
       "    .dataframe tbody tr th:only-of-type {\n",
       "        vertical-align: middle;\n",
       "    }\n",
       "\n",
       "    .dataframe tbody tr th {\n",
       "        vertical-align: top;\n",
       "    }\n",
       "\n",
       "    .dataframe thead th {\n",
       "        text-align: right;\n",
       "    }\n",
       "</style>\n",
       "<table border=\"1\" class=\"dataframe\">\n",
       "  <thead>\n",
       "    <tr style=\"text-align: right;\">\n",
       "      <th></th>\n",
       "      <th>molecule_chembl_id</th>\n",
       "      <th>last_Ki_value</th>\n",
       "      <th>mean_Ki_value</th>\n",
       "      <th>standard_units</th>\n",
       "      <th>standard_units</th>\n",
       "      <th>target_organism</th>\n",
       "      <th>smiles</th>\n",
       "    </tr>\n",
       "  </thead>\n",
       "  <tbody>\n",
       "    <tr>\n",
       "      <th>0</th>\n",
       "      <td>CHEMBL1161155</td>\n",
       "      <td>9.000000</td>\n",
       "      <td>9.000000</td>\n",
       "      <td>nM</td>\n",
       "      <td>nM</td>\n",
       "      <td>Homo sapiens</td>\n",
       "      <td>CCS(=O)(=O)O.Cc1nc(N)nc(N)c1NC(=O)C12CC3CC(CC(...</td>\n",
       "    </tr>\n",
       "    <tr>\n",
       "      <th>1</th>\n",
       "      <td>CHEMBL149218</td>\n",
       "      <td>0.000100</td>\n",
       "      <td>0.000100</td>\n",
       "      <td>nM</td>\n",
       "      <td>nM</td>\n",
       "      <td>Homo sapiens</td>\n",
       "      <td>Cc1c(CNc2ccc(C(=O)NC(CCCNC(=O)c3ccccc3C(=O)O)C...</td>\n",
       "    </tr>\n",
       "    <tr>\n",
       "      <th>2</th>\n",
       "      <td>CHEMBL146917</td>\n",
       "      <td>0.000110</td>\n",
       "      <td>0.000110</td>\n",
       "      <td>nM</td>\n",
       "      <td>nM</td>\n",
       "      <td>Homo sapiens</td>\n",
       "      <td>Nc1nc(N)c2c(Cl)c(CNc3ccc(C(=O)NC(CCCNC(=O)c4cc...</td>\n",
       "    </tr>\n",
       "    <tr>\n",
       "      <th>3</th>\n",
       "      <td>CHEMBL149164</td>\n",
       "      <td>0.000190</td>\n",
       "      <td>0.000190</td>\n",
       "      <td>nM</td>\n",
       "      <td>nM</td>\n",
       "      <td>Homo sapiens</td>\n",
       "      <td>Nc1nc(N)c2nc(CNc3ccc(C(=O)NC(CCCNC(=O)c4ccccc4...</td>\n",
       "    </tr>\n",
       "    <tr>\n",
       "      <th>4</th>\n",
       "      <td>CHEMBL167304</td>\n",
       "      <td>9.870000</td>\n",
       "      <td>9.870000</td>\n",
       "      <td>nM</td>\n",
       "      <td>nM</td>\n",
       "      <td>Homo sapiens</td>\n",
       "      <td>C[C@](CCC(=O)O)(NC(=O)c1ccc(CCC2CNc3nc(N)nc(N)...</td>\n",
       "    </tr>\n",
       "    <tr>\n",
       "      <th>...</th>\n",
       "      <td>...</td>\n",
       "      <td>...</td>\n",
       "      <td>...</td>\n",
       "      <td>...</td>\n",
       "      <td>...</td>\n",
       "      <td>...</td>\n",
       "      <td>...</td>\n",
       "    </tr>\n",
       "    <tr>\n",
       "      <th>268</th>\n",
       "      <td>CHEMBL1618254</td>\n",
       "      <td>3400000.000000</td>\n",
       "      <td>3400000.000000</td>\n",
       "      <td>nM</td>\n",
       "      <td>nM</td>\n",
       "      <td>Homo sapiens</td>\n",
       "      <td>COc1ccc2cc([C@@H](C)C(=O)O)ccc2c1</td>\n",
       "    </tr>\n",
       "    <tr>\n",
       "      <th>269</th>\n",
       "      <td>CHEMBL3278332</td>\n",
       "      <td>180000.000000</td>\n",
       "      <td>180000.000000</td>\n",
       "      <td>nM</td>\n",
       "      <td>nM</td>\n",
       "      <td>Homo sapiens</td>\n",
       "      <td>Nc1ccc(C(=O)N[C@@H](CCC(=O)O)C(=O)O)cc1</td>\n",
       "    </tr>\n",
       "    <tr>\n",
       "      <th>270</th>\n",
       "      <td>CHEMBL1233987</td>\n",
       "      <td>180000.000000</td>\n",
       "      <td>180000.000000</td>\n",
       "      <td>nM</td>\n",
       "      <td>nM</td>\n",
       "      <td>Homo sapiens</td>\n",
       "      <td>Nc1ccnc(N)n1</td>\n",
       "    </tr>\n",
       "    <tr>\n",
       "      <th>271</th>\n",
       "      <td>CHEMBL170988</td>\n",
       "      <td>140000.000000</td>\n",
       "      <td>140000.000000</td>\n",
       "      <td>nM</td>\n",
       "      <td>nM</td>\n",
       "      <td>Homo sapiens</td>\n",
       "      <td>N=C(N)NC(=N)NCCc1ccccc1</td>\n",
       "    </tr>\n",
       "    <tr>\n",
       "      <th>272</th>\n",
       "      <td>CHEMBL1431</td>\n",
       "      <td>18000000.000000</td>\n",
       "      <td>18000000.000000</td>\n",
       "      <td>nM</td>\n",
       "      <td>nM</td>\n",
       "      <td>Homo sapiens</td>\n",
       "      <td>CN(C)C(=N)NC(=N)N</td>\n",
       "    </tr>\n",
       "  </tbody>\n",
       "</table>\n",
       "<p>273 rows × 7 columns</p>\n",
       "</div>"
      ],
      "text/plain": [
       "    molecule_chembl_id   last_Ki_value   mean_Ki_value standard_units  \\\n",
       "0        CHEMBL1161155        9.000000        9.000000             nM   \n",
       "1         CHEMBL149218        0.000100        0.000100             nM   \n",
       "2         CHEMBL146917        0.000110        0.000110             nM   \n",
       "3         CHEMBL149164        0.000190        0.000190             nM   \n",
       "4         CHEMBL167304        9.870000        9.870000             nM   \n",
       "..                 ...             ...             ...            ...   \n",
       "268      CHEMBL1618254  3400000.000000  3400000.000000             nM   \n",
       "269      CHEMBL3278332   180000.000000   180000.000000             nM   \n",
       "270      CHEMBL1233987   180000.000000   180000.000000             nM   \n",
       "271       CHEMBL170988   140000.000000   140000.000000             nM   \n",
       "272         CHEMBL1431 18000000.000000 18000000.000000             nM   \n",
       "\n",
       "    standard_units target_organism  \\\n",
       "0               nM    Homo sapiens   \n",
       "1               nM    Homo sapiens   \n",
       "2               nM    Homo sapiens   \n",
       "3               nM    Homo sapiens   \n",
       "4               nM    Homo sapiens   \n",
       "..             ...             ...   \n",
       "268             nM    Homo sapiens   \n",
       "269             nM    Homo sapiens   \n",
       "270             nM    Homo sapiens   \n",
       "271             nM    Homo sapiens   \n",
       "272             nM    Homo sapiens   \n",
       "\n",
       "                                                smiles  \n",
       "0    CCS(=O)(=O)O.Cc1nc(N)nc(N)c1NC(=O)C12CC3CC(CC(...  \n",
       "1    Cc1c(CNc2ccc(C(=O)NC(CCCNC(=O)c3ccccc3C(=O)O)C...  \n",
       "2    Nc1nc(N)c2c(Cl)c(CNc3ccc(C(=O)NC(CCCNC(=O)c4cc...  \n",
       "3    Nc1nc(N)c2nc(CNc3ccc(C(=O)NC(CCCNC(=O)c4ccccc4...  \n",
       "4    C[C@](CCC(=O)O)(NC(=O)c1ccc(CCC2CNc3nc(N)nc(N)...  \n",
       "..                                                 ...  \n",
       "268                  COc1ccc2cc([C@@H](C)C(=O)O)ccc2c1  \n",
       "269            Nc1ccc(C(=O)N[C@@H](CCC(=O)O)C(=O)O)cc1  \n",
       "270                                       Nc1ccnc(N)n1  \n",
       "271                            N=C(N)NC(=N)NCCc1ccccc1  \n",
       "272                                  CN(C)C(=N)NC(=N)N  \n",
       "\n",
       "[273 rows x 7 columns]"
      ]
     },
     "execution_count": 75,
     "metadata": {},
     "output_type": "execute_result"
    }
   ],
   "source": [
    "# Merging both datsets\n",
    "human_chembl_output_df = pd.merge(\n",
    "    merged_bioactivities_human[['molecule_chembl_id', 'last_Ki_value','mean_Ki_value','standard_units', 'target_organism']],\n",
    "    compounds_df,\n",
    "    on='molecule_chembl_id'\n",
    ")\n",
    "human_chembl_output_df"
   ]
  },
  {
   "attachments": {},
   "cell_type": "markdown",
   "metadata": {},
   "source": [
    "### Add pKi values"
   ]
  },
  {
   "attachments": {},
   "cell_type": "markdown",
   "metadata": {},
   "source": [
    "As it is known to the QSAR community, converting raw Ki numbers to pKi is an important step into the modeling pipeline. Because of that, we need to transform our previously collected Ki values into pKi values. First we make a function to converte pKi to Ki `convert_pki` and use the `apply()` method to do it in the vertical axis (1)."
   ]
  },
  {
   "cell_type": "code",
   "execution_count": 76,
   "metadata": {},
   "outputs": [],
   "source": [
    "# define a funtion to convert Ki to pKi\n",
    "def convert_pki(Ki):\n",
    "    pKi_value = 9 - math.log10(Ki)\n",
    "    return pKi_value"
   ]
  },
  {
   "cell_type": "code",
   "execution_count": 77,
   "metadata": {},
   "outputs": [
    {
     "data": {
      "text/html": [
       "<div>\n",
       "<style scoped>\n",
       "    .dataframe tbody tr th:only-of-type {\n",
       "        vertical-align: middle;\n",
       "    }\n",
       "\n",
       "    .dataframe tbody tr th {\n",
       "        vertical-align: top;\n",
       "    }\n",
       "\n",
       "    .dataframe thead th {\n",
       "        text-align: right;\n",
       "    }\n",
       "</style>\n",
       "<table border=\"1\" class=\"dataframe\">\n",
       "  <thead>\n",
       "    <tr style=\"text-align: right;\">\n",
       "      <th></th>\n",
       "      <th>molecule_chembl_id</th>\n",
       "      <th>last_Ki_value</th>\n",
       "      <th>mean_Ki_value</th>\n",
       "      <th>standard_units</th>\n",
       "      <th>standard_units</th>\n",
       "      <th>target_organism</th>\n",
       "      <th>smiles</th>\n",
       "      <th>pKi_mean_value</th>\n",
       "      <th>pKi_last_value</th>\n",
       "    </tr>\n",
       "  </thead>\n",
       "  <tbody>\n",
       "    <tr>\n",
       "      <th>0</th>\n",
       "      <td>CHEMBL1161155</td>\n",
       "      <td>9.000000</td>\n",
       "      <td>9.000000</td>\n",
       "      <td>nM</td>\n",
       "      <td>nM</td>\n",
       "      <td>Homo sapiens</td>\n",
       "      <td>CCS(=O)(=O)O.Cc1nc(N)nc(N)c1NC(=O)C12CC3CC(CC(...</td>\n",
       "      <td>8.045757</td>\n",
       "      <td>8.045757</td>\n",
       "    </tr>\n",
       "    <tr>\n",
       "      <th>1</th>\n",
       "      <td>CHEMBL149218</td>\n",
       "      <td>0.000100</td>\n",
       "      <td>0.000100</td>\n",
       "      <td>nM</td>\n",
       "      <td>nM</td>\n",
       "      <td>Homo sapiens</td>\n",
       "      <td>Cc1c(CNc2ccc(C(=O)NC(CCCNC(=O)c3ccccc3C(=O)O)C...</td>\n",
       "      <td>13.000000</td>\n",
       "      <td>13.000000</td>\n",
       "    </tr>\n",
       "    <tr>\n",
       "      <th>2</th>\n",
       "      <td>CHEMBL146917</td>\n",
       "      <td>0.000110</td>\n",
       "      <td>0.000110</td>\n",
       "      <td>nM</td>\n",
       "      <td>nM</td>\n",
       "      <td>Homo sapiens</td>\n",
       "      <td>Nc1nc(N)c2c(Cl)c(CNc3ccc(C(=O)NC(CCCNC(=O)c4cc...</td>\n",
       "      <td>12.958607</td>\n",
       "      <td>12.958607</td>\n",
       "    </tr>\n",
       "    <tr>\n",
       "      <th>3</th>\n",
       "      <td>CHEMBL149164</td>\n",
       "      <td>0.000190</td>\n",
       "      <td>0.000190</td>\n",
       "      <td>nM</td>\n",
       "      <td>nM</td>\n",
       "      <td>Homo sapiens</td>\n",
       "      <td>Nc1nc(N)c2nc(CNc3ccc(C(=O)NC(CCCNC(=O)c4ccccc4...</td>\n",
       "      <td>12.721246</td>\n",
       "      <td>12.721246</td>\n",
       "    </tr>\n",
       "    <tr>\n",
       "      <th>4</th>\n",
       "      <td>CHEMBL167304</td>\n",
       "      <td>9.870000</td>\n",
       "      <td>9.870000</td>\n",
       "      <td>nM</td>\n",
       "      <td>nM</td>\n",
       "      <td>Homo sapiens</td>\n",
       "      <td>C[C@](CCC(=O)O)(NC(=O)c1ccc(CCC2CNc3nc(N)nc(N)...</td>\n",
       "      <td>8.005683</td>\n",
       "      <td>8.005683</td>\n",
       "    </tr>\n",
       "    <tr>\n",
       "      <th>...</th>\n",
       "      <td>...</td>\n",
       "      <td>...</td>\n",
       "      <td>...</td>\n",
       "      <td>...</td>\n",
       "      <td>...</td>\n",
       "      <td>...</td>\n",
       "      <td>...</td>\n",
       "      <td>...</td>\n",
       "      <td>...</td>\n",
       "    </tr>\n",
       "    <tr>\n",
       "      <th>268</th>\n",
       "      <td>CHEMBL1618254</td>\n",
       "      <td>3400000.000000</td>\n",
       "      <td>3400000.000000</td>\n",
       "      <td>nM</td>\n",
       "      <td>nM</td>\n",
       "      <td>Homo sapiens</td>\n",
       "      <td>COc1ccc2cc([C@@H](C)C(=O)O)ccc2c1</td>\n",
       "      <td>2.468521</td>\n",
       "      <td>2.468521</td>\n",
       "    </tr>\n",
       "    <tr>\n",
       "      <th>269</th>\n",
       "      <td>CHEMBL3278332</td>\n",
       "      <td>180000.000000</td>\n",
       "      <td>180000.000000</td>\n",
       "      <td>nM</td>\n",
       "      <td>nM</td>\n",
       "      <td>Homo sapiens</td>\n",
       "      <td>Nc1ccc(C(=O)N[C@@H](CCC(=O)O)C(=O)O)cc1</td>\n",
       "      <td>3.744727</td>\n",
       "      <td>3.744727</td>\n",
       "    </tr>\n",
       "    <tr>\n",
       "      <th>270</th>\n",
       "      <td>CHEMBL1233987</td>\n",
       "      <td>180000.000000</td>\n",
       "      <td>180000.000000</td>\n",
       "      <td>nM</td>\n",
       "      <td>nM</td>\n",
       "      <td>Homo sapiens</td>\n",
       "      <td>Nc1ccnc(N)n1</td>\n",
       "      <td>3.744727</td>\n",
       "      <td>3.744727</td>\n",
       "    </tr>\n",
       "    <tr>\n",
       "      <th>271</th>\n",
       "      <td>CHEMBL170988</td>\n",
       "      <td>140000.000000</td>\n",
       "      <td>140000.000000</td>\n",
       "      <td>nM</td>\n",
       "      <td>nM</td>\n",
       "      <td>Homo sapiens</td>\n",
       "      <td>N=C(N)NC(=N)NCCc1ccccc1</td>\n",
       "      <td>3.853872</td>\n",
       "      <td>3.853872</td>\n",
       "    </tr>\n",
       "    <tr>\n",
       "      <th>272</th>\n",
       "      <td>CHEMBL1431</td>\n",
       "      <td>18000000.000000</td>\n",
       "      <td>18000000.000000</td>\n",
       "      <td>nM</td>\n",
       "      <td>nM</td>\n",
       "      <td>Homo sapiens</td>\n",
       "      <td>CN(C)C(=N)NC(=N)N</td>\n",
       "      <td>1.744727</td>\n",
       "      <td>1.744727</td>\n",
       "    </tr>\n",
       "  </tbody>\n",
       "</table>\n",
       "<p>273 rows × 9 columns</p>\n",
       "</div>"
      ],
      "text/plain": [
       "    molecule_chembl_id   last_Ki_value   mean_Ki_value standard_units  \\\n",
       "0        CHEMBL1161155        9.000000        9.000000             nM   \n",
       "1         CHEMBL149218        0.000100        0.000100             nM   \n",
       "2         CHEMBL146917        0.000110        0.000110             nM   \n",
       "3         CHEMBL149164        0.000190        0.000190             nM   \n",
       "4         CHEMBL167304        9.870000        9.870000             nM   \n",
       "..                 ...             ...             ...            ...   \n",
       "268      CHEMBL1618254  3400000.000000  3400000.000000             nM   \n",
       "269      CHEMBL3278332   180000.000000   180000.000000             nM   \n",
       "270      CHEMBL1233987   180000.000000   180000.000000             nM   \n",
       "271       CHEMBL170988   140000.000000   140000.000000             nM   \n",
       "272         CHEMBL1431 18000000.000000 18000000.000000             nM   \n",
       "\n",
       "    standard_units target_organism  \\\n",
       "0               nM    Homo sapiens   \n",
       "1               nM    Homo sapiens   \n",
       "2               nM    Homo sapiens   \n",
       "3               nM    Homo sapiens   \n",
       "4               nM    Homo sapiens   \n",
       "..             ...             ...   \n",
       "268             nM    Homo sapiens   \n",
       "269             nM    Homo sapiens   \n",
       "270             nM    Homo sapiens   \n",
       "271             nM    Homo sapiens   \n",
       "272             nM    Homo sapiens   \n",
       "\n",
       "                                                smiles  pKi_mean_value  \\\n",
       "0    CCS(=O)(=O)O.Cc1nc(N)nc(N)c1NC(=O)C12CC3CC(CC(...        8.045757   \n",
       "1    Cc1c(CNc2ccc(C(=O)NC(CCCNC(=O)c3ccccc3C(=O)O)C...       13.000000   \n",
       "2    Nc1nc(N)c2c(Cl)c(CNc3ccc(C(=O)NC(CCCNC(=O)c4cc...       12.958607   \n",
       "3    Nc1nc(N)c2nc(CNc3ccc(C(=O)NC(CCCNC(=O)c4ccccc4...       12.721246   \n",
       "4    C[C@](CCC(=O)O)(NC(=O)c1ccc(CCC2CNc3nc(N)nc(N)...        8.005683   \n",
       "..                                                 ...             ...   \n",
       "268                  COc1ccc2cc([C@@H](C)C(=O)O)ccc2c1        2.468521   \n",
       "269            Nc1ccc(C(=O)N[C@@H](CCC(=O)O)C(=O)O)cc1        3.744727   \n",
       "270                                       Nc1ccnc(N)n1        3.744727   \n",
       "271                            N=C(N)NC(=N)NCCc1ccccc1        3.853872   \n",
       "272                                  CN(C)C(=N)NC(=N)N        1.744727   \n",
       "\n",
       "     pKi_last_value  \n",
       "0          8.045757  \n",
       "1         13.000000  \n",
       "2         12.958607  \n",
       "3         12.721246  \n",
       "4          8.005683  \n",
       "..              ...  \n",
       "268        2.468521  \n",
       "269        3.744727  \n",
       "270        3.744727  \n",
       "271        3.853872  \n",
       "272        1.744727  \n",
       "\n",
       "[273 rows x 9 columns]"
      ]
     },
     "execution_count": 77,
     "metadata": {},
     "output_type": "execute_result"
    }
   ],
   "source": [
    "human_chembl_output_df['pKi_mean_value'] = human_chembl_output_df.apply(lambda x: convert_pki(x.mean_Ki_value), axis = 1)\n",
    "\n",
    "human_chembl_output_df['pKi_last_value'] = human_chembl_output_df.apply(lambda x: convert_pki(x.last_Ki_value), axis=1)\n",
    "\n",
    "human_chembl_output_df"
   ]
  },
  {
   "attachments": {},
   "cell_type": "markdown",
   "metadata": {},
   "source": [
    "### Drawing the distributions"
   ]
  },
  {
   "attachments": {},
   "cell_type": "markdown",
   "metadata": {},
   "source": [
    "We can begin by comparing the distribution of the `pKi_last_value` and the `pKi_mean_value`:"
   ]
  },
  {
   "cell_type": "code",
   "execution_count": 79,
   "metadata": {},
   "outputs": [
    {
     "data": {
      "text/plain": [
       "array([[<AxesSubplot: title={'center': 'pKi_last_value'}>]], dtype=object)"
      ]
     },
     "execution_count": 79,
     "metadata": {},
     "output_type": "execute_result"
    },
    {
     "data": {
      "image/png": "[encoded data removed]",
      "text/plain": [
       "<Figure size 640x480 with 1 Axes>"
      ]
     },
     "metadata": {},
     "output_type": "display_data"
    }
   ],
   "source": [
    "human_chembl_output_df.hist(column='pKi_last_value', bins=30)"
   ]
  },
  {
   "cell_type": "code",
   "execution_count": 80,
   "metadata": {},
   "outputs": [
    {
     "data": {
      "text/plain": [
       "array([[<AxesSubplot: title={'center': 'pKi_mean_value'}>]], dtype=object)"
      ]
     },
     "execution_count": 80,
     "metadata": {},
     "output_type": "execute_result"
    },
    {
     "data": {
      "image/png": "[encoded data removed]",
      "text/plain": [
       "<Figure size 640x480 with 1 Axes>"
      ]
     },
     "metadata": {},
     "output_type": "display_data"
    }
   ],
   "source": [
    "human_chembl_output_df.hist(column='pKi_mean_value', bins=30)"
   ]
  },
  {
   "attachments": {},
   "cell_type": "markdown",
   "metadata": {},
   "source": [
    "### Saving the final output (csv)"
   ]
  },
  {
   "attachments": {},
   "cell_type": "markdown",
   "metadata": {},
   "source": [
    "Furthermore, we need to redorder the columns to finally save it in a '.csv' file:"
   ]
  },
  {
   "cell_type": "code",
   "execution_count": 83,
   "metadata": {},
   "outputs": [
    {
     "data": {
      "text/html": [
       "<div>\n",
       "<style scoped>\n",
       "    .dataframe tbody tr th:only-of-type {\n",
       "        vertical-align: middle;\n",
       "    }\n",
       "\n",
       "    .dataframe tbody tr th {\n",
       "        vertical-align: top;\n",
       "    }\n",
       "\n",
       "    .dataframe thead th {\n",
       "        text-align: right;\n",
       "    }\n",
       "</style>\n",
       "<table border=\"1\" class=\"dataframe\">\n",
       "  <thead>\n",
       "    <tr style=\"text-align: right;\">\n",
       "      <th></th>\n",
       "      <th>molecule_chembl_id</th>\n",
       "      <th>smiles</th>\n",
       "      <th>pKi_mean_value</th>\n",
       "      <th>mean_Ki_value</th>\n",
       "      <th>target_organism</th>\n",
       "    </tr>\n",
       "  </thead>\n",
       "  <tbody>\n",
       "    <tr>\n",
       "      <th>0</th>\n",
       "      <td>CHEMBL1161155</td>\n",
       "      <td>CCS(=O)(=O)O.Cc1nc(N)nc(N)c1NC(=O)C12CC3CC(CC(...</td>\n",
       "      <td>8.045757</td>\n",
       "      <td>9.000000</td>\n",
       "      <td>Homo sapiens</td>\n",
       "    </tr>\n",
       "    <tr>\n",
       "      <th>1</th>\n",
       "      <td>CHEMBL149218</td>\n",
       "      <td>Cc1c(CNc2ccc(C(=O)NC(CCCNC(=O)c3ccccc3C(=O)O)C...</td>\n",
       "      <td>13.000000</td>\n",
       "      <td>0.000100</td>\n",
       "      <td>Homo sapiens</td>\n",
       "    </tr>\n",
       "    <tr>\n",
       "      <th>2</th>\n",
       "      <td>CHEMBL146917</td>\n",
       "      <td>Nc1nc(N)c2c(Cl)c(CNc3ccc(C(=O)NC(CCCNC(=O)c4cc...</td>\n",
       "      <td>12.958607</td>\n",
       "      <td>0.000110</td>\n",
       "      <td>Homo sapiens</td>\n",
       "    </tr>\n",
       "    <tr>\n",
       "      <th>3</th>\n",
       "      <td>CHEMBL149164</td>\n",
       "      <td>Nc1nc(N)c2nc(CNc3ccc(C(=O)NC(CCCNC(=O)c4ccccc4...</td>\n",
       "      <td>12.721246</td>\n",
       "      <td>0.000190</td>\n",
       "      <td>Homo sapiens</td>\n",
       "    </tr>\n",
       "    <tr>\n",
       "      <th>4</th>\n",
       "      <td>CHEMBL167304</td>\n",
       "      <td>C[C@](CCC(=O)O)(NC(=O)c1ccc(CCC2CNc3nc(N)nc(N)...</td>\n",
       "      <td>8.005683</td>\n",
       "      <td>9.870000</td>\n",
       "      <td>Homo sapiens</td>\n",
       "    </tr>\n",
       "  </tbody>\n",
       "</table>\n",
       "</div>"
      ],
      "text/plain": [
       "  molecule_chembl_id                                             smiles  \\\n",
       "0      CHEMBL1161155  CCS(=O)(=O)O.Cc1nc(N)nc(N)c1NC(=O)C12CC3CC(CC(...   \n",
       "1       CHEMBL149218  Cc1c(CNc2ccc(C(=O)NC(CCCNC(=O)c3ccccc3C(=O)O)C...   \n",
       "2       CHEMBL146917  Nc1nc(N)c2c(Cl)c(CNc3ccc(C(=O)NC(CCCNC(=O)c4cc...   \n",
       "3       CHEMBL149164  Nc1nc(N)c2nc(CNc3ccc(C(=O)NC(CCCNC(=O)c4ccccc4...   \n",
       "4       CHEMBL167304  C[C@](CCC(=O)O)(NC(=O)c1ccc(CCC2CNc3nc(N)nc(N)...   \n",
       "\n",
       "   pKi_mean_value  mean_Ki_value target_organism  \n",
       "0        8.045757       9.000000    Homo sapiens  \n",
       "1       13.000000       0.000100    Homo sapiens  \n",
       "2       12.958607       0.000110    Homo sapiens  \n",
       "3       12.721246       0.000190    Homo sapiens  \n",
       "4        8.005683       9.870000    Homo sapiens  "
      ]
     },
     "execution_count": 83,
     "metadata": {},
     "output_type": "execute_result"
    }
   ],
   "source": [
    "human_chembl_output_df = human_chembl_output_df[['molecule_chembl_id', 'smiles', 'pKi_mean_value', 'mean_Ki_value', 'target_organism']]\n",
    "\n",
    "human_chembl_output_df.head(5)"
   ]
  },
  {
   "attachments": {},
   "cell_type": "markdown",
   "metadata": {},
   "source": [
    "As we have seen just plotting both of the histograms relating the `last_pKi_value` and the `mean_pKi_value` it doesn't matter what we save, they are pretty much the same."
   ]
  },
  {
   "cell_type": "code",
   "execution_count": 84,
   "metadata": {},
   "outputs": [],
   "source": [
    "human_chembl_output_df.to_csv(DATA/\"human_dhfr_chembl_compounds.csv\", index=False)"
   ]
  },
  {
   "attachments": {},
   "cell_type": "markdown",
   "metadata": {},
   "source": [
    "## Session and packages used on this notebook:"
   ]
  },
  {
   "cell_type": "code",
   "execution_count": 85,
   "metadata": {},
   "outputs": [
    {
     "data": {
      "text/html": [
       "<details>\n",
       "<summary>Click to view session information</summary>\n",
       "<pre>\n",
       "-----\n",
       "chembl_webresource_client   0.10.8\n",
       "numpy                       1.23.5\n",
       "pandas                      1.5.2\n",
       "rdkit                       2021.09.5\n",
       "session_info                1.0.0\n",
       "tqdm                        4.64.1\n",
       "-----\n",
       "</pre>\n",
       "<details>\n",
       "<summary>Click to view modules imported as dependencies</summary>\n",
       "<pre>\n",
       "PIL                 9.4.0\n",
       "appdirs             1.4.4\n",
       "asttokens           NA\n",
       "attr                22.2.0\n",
       "backcall            0.2.0\n",
       "brotli              NA\n",
       "cattr               NA\n",
       "cattrs              NA\n",
       "certifi             2022.12.07\n",
       "cffi                1.15.1\n",
       "charset_normalizer  2.1.1\n",
       "colorama            0.4.6\n",
       "comm                0.1.2\n",
       "cycler              0.10.0\n",
       "cython_runtime      NA\n",
       "dateutil            2.8.2\n",
       "debugpy             1.6.5\n",
       "decorator           5.1.1\n",
       "defusedxml          0.7.1\n",
       "easydict            NA\n",
       "entrypoints         0.4\n",
       "exceptiongroup      1.1.0\n",
       "executing           1.2.0\n",
       "google              NA\n",
       "idna                3.4\n",
       "ipykernel           6.19.4\n",
       "ipython_genutils    0.2.0\n",
       "ipywidgets          7.7.2\n",
       "itsdangerous        2.1.2\n",
       "jedi                0.18.2\n",
       "jupyter_server      2.0.6\n",
       "kiwisolver          1.4.4\n",
       "matplotlib          3.6.2\n",
       "matplotlib_inline   0.1.6\n",
       "mpl_toolkits        NA\n",
       "msgpack             1.0.4\n",
       "numexpr             2.8.3\n",
       "packaging           22.0\n",
       "parso               0.8.3\n",
       "pexpect             4.8.0\n",
       "pickleshare         0.7.5\n",
       "pkg_resources       NA\n",
       "platformdirs        2.6.2\n",
       "prompt_toolkit      3.0.36\n",
       "psutil              5.9.4\n",
       "ptyprocess          0.7.0\n",
       "pure_eval           0.2.2\n",
       "pydev_ipython       NA\n",
       "pydevconsole        NA\n",
       "pydevd              2.9.5\n",
       "pydevd_file_utils   NA\n",
       "pydevd_plugins      NA\n",
       "pydevd_tracing      NA\n",
       "pygments            2.14.0\n",
       "pyparsing           3.0.9\n",
       "pytz                2022.7\n",
       "requests            2.28.1\n",
       "requests_cache      0.9.7\n",
       "simplejson          3.18.1\n",
       "six                 1.16.0\n",
       "socks               1.7.1\n",
       "stack_data          0.6.2\n",
       "tornado             6.2\n",
       "traitlets           5.8.0\n",
       "ujson               5.5.0\n",
       "unicodedata2        NA\n",
       "url_normalize       1.4.3\n",
       "urllib3             1.26.13\n",
       "wcwidth             0.2.5\n",
       "yaml                6.0\n",
       "zmq                 24.0.1\n",
       "zope                NA\n",
       "</pre>\n",
       "</details> <!-- seems like this ends pre, so might as well be explicit -->\n",
       "<pre>\n",
       "-----\n",
       "IPython             8.8.0\n",
       "jupyter_client      7.4.8\n",
       "jupyter_core        5.1.2\n",
       "jupyterlab          3.5.2\n",
       "notebook            6.5.2\n",
       "-----\n",
       "Python 3.8.15 | packaged by conda-forge | (default, Nov 22 2022, 08:49:35) [GCC 10.4.0]\n",
       "Linux-6.1.6-arch1-1-x86_64-with-glibc2.10\n",
       "-----\n",
       "Session information updated at 2023-01-16 18:31\n",
       "</pre>\n",
       "</details>"
      ],
      "text/plain": [
       "<IPython.core.display.HTML object>"
      ]
     },
     "execution_count": 85,
     "metadata": {},
     "output_type": "execute_result"
    }
   ],
   "source": [
    "import session_info\n",
    "session_info.show()"
   ]
  }
 ],
 "metadata": {
  "kernelspec": {
   "display_name": "teachopencadd",
   "language": "python",
   "name": "python3"
  },
  "language_info": {
   "codemirror_mode": {
    "name": "ipython",
    "version": 3
   },
   "file_extension": ".py",
   "mimetype": "text/x-python",
   "name": "python",
   "nbconvert_exporter": "python",
   "pygments_lexer": "ipython3",
   "version": "3.8.15 | packaged by conda-forge | (default, Nov 22 2022, 08:49:35) \n[GCC 10.4.0]"
  },
  "orig_nbformat": 4,
  "vscode": {
   "interpreter": {
    "hash": "43e9bd66da9436ae54f6ec6135b165ab5f2d7407ec8e52d91977ace71cfa740c"
   }
  }
 },
 "nbformat": 4,
 "nbformat_minor": 2
}
